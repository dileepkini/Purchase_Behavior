{
 "cells": [
  {
   "cell_type": "code",
   "execution_count": 1,
   "metadata": {
    "ExecuteTime": {
     "end_time": "2019-08-22T03:00:25.069312Z",
     "start_time": "2019-08-22T03:00:20.041578Z"
    },
    "collapsed": true
   },
   "outputs": [],
   "source": [
    "import pandas as pd\n",
    "import numpy as np\n",
    "import math\n",
    "import json\n",
    "from collections import deque\n",
    "% matplotlib inline\n",
    "\n",
    "# read in the json files\n",
    "portfolio = pd.read_json('data/portfolio.json', orient='records', lines=True)\n",
    "profile = pd.read_json('data/profile.json', orient='records', lines=True)\n",
    "transcript = pd.read_json('data/transcript.json', orient='records', lines=True)"
   ]
  },
  {
   "cell_type": "markdown",
   "metadata": {},
   "source": [
    "## Business understanding (CRISP-DM Step 1)\n",
    "- In this project our goal will be to try and predict if we should show a given offer to a given customer\n",
    "- From a business perspective we want to show offers to those people who satisfy the following conditions\n",
    "    - who are likely to complete the offer if they viewed the offer\n",
    "    - who are not likely to complete the offer if they did not view the offer\n",
    "- The second condition is important because if a customer would complete the offer even without viewing it would mean we need to not have given them the offer in the first place, and starbucks could have saved revenue here.\n",
    "- If we can identify a subset of customers that satisfies both these conditions then by showing these individuals specific offers we can capture revenue that we would have otherwise missed out on."
   ]
  },
  {
   "cell_type": "markdown",
   "metadata": {},
   "source": [
    "### Problem Statement:\n",
    "Our goal will be identify customers which show a strong positive relationship between viewing an offer and completing it. We will call such customer **responsive** customers.\n",
    "We will formulate this as a classification problem where a user will be given a positive label (called responsive) when either\n",
    "1. the user has completed the offer and viewed the offer OR\n",
    "2. the user has not completed the offer and not viewed the offer\n",
    "\n",
    "With such a labeling in place our attempt will be to come up with a classifier that predicts whether a customer is responsive based on the features from the customer and the offer being shown to them.\n",
    "\n",
    "### Strategy\n",
    "- We will begin with 4 different types of classifiers and conduct a preliminary analysis on their ability to perform the required classification\n",
    "- After evaluating the preliminary modeling stage we will pick one out of the 4 and perform a grid search to further optimize the solution\n",
    "\n",
    "### Metrics\n",
    "- In order to evaluate the performance of the classification model we will employ a F-beta score that gives more importance to precision as compared to recall.\n",
    "- This is because there is a cost associated with sending offers to unresponsive customers.\n",
    "    - An unresponsive customer might complete the offer without even seeing it, which means we could have saved money by not showing the customer this offer\n",
    "    - An unresposive cusomter might not complete the offer if they see it, which means the offer is negatively impacting their spending.\n",
    "- With this in mind we will want to minimize the False Positives and hence give more importance to precision rather than recall."
   ]
  },
  {
   "cell_type": "markdown",
   "metadata": {},
   "source": [
    "## Data understanding (CRISP-DM Step 2)\n",
    "- we have been given data regarding each user which we can make use of as features\n",
    "- starbucks has also provided is with transcripts regarding if/when a user viewed/completed their shown offers.\n",
    "- we can use this to figure out which users actually viewed their offers before completing their offers.\n",
    "    - we have to be careful here though, an offer that was viewed very early and an offer that was viewed late might have different effects on the behavior of the users\n",
    "    - For instance assume a user has completed \\$8 out of \\$10 required to complete an offer before seeing the offer. And if the offer has a reward of \\$4, then then the user might be compelled to go out and spend \\$2 to get a bigger reward. This should not let us bias our answer to say that the we should give such offers to those people.\n",
    "    - We should also be aware that we do not have control over when the user is going to view the offer.\n",
    "- looking at the type of offers that were completed we see that informational offers cannot be completed, since there is no difficulty/reward associated with them. \n",
    "    - So in order to evaluate whether an information offer was effective we will have to see if the individual performed some transaction in the duration corresponding to the informational offer\n",
    "- for bogo/discount orders difficulty/rewards are specified which we can use as features as well"
   ]
  },
  {
   "cell_type": "markdown",
   "metadata": {},
   "source": [
    "### Data exploration"
   ]
  },
  {
   "cell_type": "code",
   "execution_count": 196,
   "metadata": {
    "ExecuteTime": {
     "end_time": "2019-08-28T02:09:51.275794Z",
     "start_time": "2019-08-28T02:09:51.256500Z"
    }
   },
   "outputs": [
    {
     "data": {
      "text/html": [
       "<div>\n",
       "<style scoped>\n",
       "    .dataframe tbody tr th:only-of-type {\n",
       "        vertical-align: middle;\n",
       "    }\n",
       "\n",
       "    .dataframe tbody tr th {\n",
       "        vertical-align: top;\n",
       "    }\n",
       "\n",
       "    .dataframe thead th {\n",
       "        text-align: right;\n",
       "    }\n",
       "</style>\n",
       "<table border=\"1\" class=\"dataframe\">\n",
       "  <thead>\n",
       "    <tr style=\"text-align: right;\">\n",
       "      <th></th>\n",
       "      <th>person</th>\n",
       "      <th>event</th>\n",
       "      <th>value</th>\n",
       "      <th>time</th>\n",
       "      <th>transcript_id</th>\n",
       "    </tr>\n",
       "  </thead>\n",
       "  <tbody>\n",
       "    <tr>\n",
       "      <th>0</th>\n",
       "      <td>78afa995795e4d85b5d9ceeca43f5fef</td>\n",
       "      <td>offer received</td>\n",
       "      <td>{'offer id': '9b98b8c7a33c4b65b9aebfe6a799e6d9'}</td>\n",
       "      <td>0</td>\n",
       "      <td>0</td>\n",
       "    </tr>\n",
       "    <tr>\n",
       "      <th>1</th>\n",
       "      <td>a03223e636434f42ac4c3df47e8bac43</td>\n",
       "      <td>offer received</td>\n",
       "      <td>{'offer id': '0b1e1539f2cc45b7b9fa7c272da2e1d7'}</td>\n",
       "      <td>0</td>\n",
       "      <td>1</td>\n",
       "    </tr>\n",
       "    <tr>\n",
       "      <th>2</th>\n",
       "      <td>e2127556f4f64592b11af22de27a7932</td>\n",
       "      <td>offer received</td>\n",
       "      <td>{'offer id': '2906b810c7d4411798c6938adc9daaa5'}</td>\n",
       "      <td>0</td>\n",
       "      <td>2</td>\n",
       "    </tr>\n",
       "    <tr>\n",
       "      <th>3</th>\n",
       "      <td>8ec6ce2a7e7949b1bf142def7d0e0586</td>\n",
       "      <td>offer received</td>\n",
       "      <td>{'offer id': 'fafdcd668e3743c1bb461111dcafc2a4'}</td>\n",
       "      <td>0</td>\n",
       "      <td>3</td>\n",
       "    </tr>\n",
       "    <tr>\n",
       "      <th>4</th>\n",
       "      <td>68617ca6246f4fbc85e91a2a49552598</td>\n",
       "      <td>offer received</td>\n",
       "      <td>{'offer id': '4d5c57ea9a6940dd891ad53e9dbe8da0'}</td>\n",
       "      <td>0</td>\n",
       "      <td>4</td>\n",
       "    </tr>\n",
       "  </tbody>\n",
       "</table>\n",
       "</div>"
      ],
      "text/plain": [
       "                             person           event  \\\n",
       "0  78afa995795e4d85b5d9ceeca43f5fef  offer received   \n",
       "1  a03223e636434f42ac4c3df47e8bac43  offer received   \n",
       "2  e2127556f4f64592b11af22de27a7932  offer received   \n",
       "3  8ec6ce2a7e7949b1bf142def7d0e0586  offer received   \n",
       "4  68617ca6246f4fbc85e91a2a49552598  offer received   \n",
       "\n",
       "                                              value  time  transcript_id  \n",
       "0  {'offer id': '9b98b8c7a33c4b65b9aebfe6a799e6d9'}     0              0  \n",
       "1  {'offer id': '0b1e1539f2cc45b7b9fa7c272da2e1d7'}     0              1  \n",
       "2  {'offer id': '2906b810c7d4411798c6938adc9daaa5'}     0              2  \n",
       "3  {'offer id': 'fafdcd668e3743c1bb461111dcafc2a4'}     0              3  \n",
       "4  {'offer id': '4d5c57ea9a6940dd891ad53e9dbe8da0'}     0              4  "
      ]
     },
     "execution_count": 196,
     "metadata": {},
     "output_type": "execute_result"
    }
   ],
   "source": [
    "received.head()"
   ]
  },
  {
   "cell_type": "code",
   "execution_count": 199,
   "metadata": {
    "ExecuteTime": {
     "end_time": "2019-08-28T02:11:37.175589Z",
     "start_time": "2019-08-28T02:11:37.041453Z"
    }
   },
   "outputs": [],
   "source": [
    "received = transcript[transcript.event == 'offer received'].copy()\n",
    "received['id'] = received.value.apply(lambda _:_['offer id'])\n",
    "viewed = transcript[transcript.event == 'offer viewed']"
   ]
  },
  {
   "cell_type": "markdown",
   "metadata": {},
   "source": [
    "- 75% of the population received offers each time offers were made"
   ]
  },
  {
   "cell_type": "code",
   "execution_count": 191,
   "metadata": {
    "ExecuteTime": {
     "end_time": "2019-08-28T02:08:08.596638Z",
     "start_time": "2019-08-28T02:08:08.584841Z"
    }
   },
   "outputs": [
    {
     "data": {
      "text/plain": [
       "408    0.751647\n",
       "576    0.750882\n",
       "336    0.747706\n",
       "504    0.747294\n",
       "168    0.745235\n",
       "0      0.744118\n",
       "Name: time, dtype: float64"
      ]
     },
     "execution_count": 191,
     "metadata": {},
     "output_type": "execute_result"
    }
   ],
   "source": [
    "received.time.value_counts()/profile.shape[0]"
   ]
  },
  {
   "cell_type": "markdown",
   "metadata": {},
   "source": [
    "- 75% of all the offers given were viewed"
   ]
  },
  {
   "cell_type": "code",
   "execution_count": 192,
   "metadata": {
    "ExecuteTime": {
     "end_time": "2019-08-28T02:08:11.484538Z",
     "start_time": "2019-08-28T02:08:11.477776Z"
    }
   },
   "outputs": [
    {
     "data": {
      "text/plain": [
       "0.7567812053436815"
      ]
     },
     "execution_count": 192,
     "metadata": {},
     "output_type": "execute_result"
    }
   ],
   "source": [
    "viewed.shape[0]/received.shape[0]"
   ]
  },
  {
   "cell_type": "markdown",
   "metadata": {
    "ExecuteTime": {
     "end_time": "2019-08-28T02:08:41.846209Z",
     "start_time": "2019-08-28T02:08:41.838544Z"
    }
   },
   "source": [
    "- at a given time a person received at most one offer"
   ]
  },
  {
   "cell_type": "code",
   "execution_count": 194,
   "metadata": {
    "ExecuteTime": {
     "end_time": "2019-08-28T02:08:47.441429Z",
     "start_time": "2019-08-28T02:08:47.326614Z"
    }
   },
   "outputs": [
    {
     "data": {
      "text/plain": [
       "1    76277\n",
       "Name: time, dtype: int64"
      ]
     },
     "execution_count": 194,
     "metadata": {},
     "output_type": "execute_result"
    }
   ],
   "source": [
    "received.groupby('person')['time'].value_counts().value_counts()"
   ]
  },
  {
   "cell_type": "markdown",
   "metadata": {},
   "source": [
    "- an person might receive the same offer multiple times over the course of 6 weeks"
   ]
  },
  {
   "cell_type": "code",
   "execution_count": 200,
   "metadata": {
    "ExecuteTime": {
     "end_time": "2019-08-28T02:11:40.228066Z",
     "start_time": "2019-08-28T02:11:40.070971Z"
    }
   },
   "outputs": [
    {
     "data": {
      "text/plain": [
       "1    51570\n",
       "2    10523\n",
       "3     1124\n",
       "4       66\n",
       "5        5\n",
       "Name: id, dtype: int64"
      ]
     },
     "execution_count": 200,
     "metadata": {},
     "output_type": "execute_result"
    }
   ],
   "source": [
    "received.groupby('person')['id'].value_counts().value_counts()"
   ]
  },
  {
   "cell_type": "code",
   "execution_count": 205,
   "metadata": {
    "ExecuteTime": {
     "end_time": "2019-08-28T02:30:56.630884Z",
     "start_time": "2019-08-28T02:30:56.580424Z"
    }
   },
   "outputs": [
    {
     "data": {
      "text/html": [
       "<div>\n",
       "<style scoped>\n",
       "    .dataframe tbody tr th:only-of-type {\n",
       "        vertical-align: middle;\n",
       "    }\n",
       "\n",
       "    .dataframe tbody tr th {\n",
       "        vertical-align: top;\n",
       "    }\n",
       "\n",
       "    .dataframe thead th {\n",
       "        text-align: right;\n",
       "    }\n",
       "</style>\n",
       "<table border=\"1\" class=\"dataframe\">\n",
       "  <thead>\n",
       "    <tr style=\"text-align: right;\">\n",
       "      <th></th>\n",
       "      <th>gender</th>\n",
       "      <th>age</th>\n",
       "      <th>id</th>\n",
       "      <th>became_member_on</th>\n",
       "      <th>income</th>\n",
       "    </tr>\n",
       "  </thead>\n",
       "  <tbody>\n",
       "    <tr>\n",
       "      <th>0</th>\n",
       "      <td>None</td>\n",
       "      <td>118</td>\n",
       "      <td>68be06ca386d4c31939f3a4f0e3dd783</td>\n",
       "      <td>20170212</td>\n",
       "      <td>NaN</td>\n",
       "    </tr>\n",
       "    <tr>\n",
       "      <th>1</th>\n",
       "      <td>F</td>\n",
       "      <td>55</td>\n",
       "      <td>0610b486422d4921ae7d2bf64640c50b</td>\n",
       "      <td>20170715</td>\n",
       "      <td>112000.0</td>\n",
       "    </tr>\n",
       "    <tr>\n",
       "      <th>2</th>\n",
       "      <td>None</td>\n",
       "      <td>118</td>\n",
       "      <td>38fe809add3b4fcf9315a9694bb96ff5</td>\n",
       "      <td>20180712</td>\n",
       "      <td>NaN</td>\n",
       "    </tr>\n",
       "    <tr>\n",
       "      <th>3</th>\n",
       "      <td>F</td>\n",
       "      <td>75</td>\n",
       "      <td>78afa995795e4d85b5d9ceeca43f5fef</td>\n",
       "      <td>20170509</td>\n",
       "      <td>100000.0</td>\n",
       "    </tr>\n",
       "    <tr>\n",
       "      <th>4</th>\n",
       "      <td>None</td>\n",
       "      <td>118</td>\n",
       "      <td>a03223e636434f42ac4c3df47e8bac43</td>\n",
       "      <td>20170804</td>\n",
       "      <td>NaN</td>\n",
       "    </tr>\n",
       "  </tbody>\n",
       "</table>\n",
       "</div>"
      ],
      "text/plain": [
       "  gender  age                                id  became_member_on    income\n",
       "0   None  118  68be06ca386d4c31939f3a4f0e3dd783          20170212       NaN\n",
       "1      F   55  0610b486422d4921ae7d2bf64640c50b          20170715  112000.0\n",
       "2   None  118  38fe809add3b4fcf9315a9694bb96ff5          20180712       NaN\n",
       "3      F   75  78afa995795e4d85b5d9ceeca43f5fef          20170509  100000.0\n",
       "4   None  118  a03223e636434f42ac4c3df47e8bac43          20170804       NaN"
      ]
     },
     "execution_count": 205,
     "metadata": {},
     "output_type": "execute_result"
    }
   ],
   "source": [
    "profile.head()"
   ]
  },
  {
   "cell_type": "code",
   "execution_count": 204,
   "metadata": {
    "ExecuteTime": {
     "end_time": "2019-08-28T02:12:20.650086Z",
     "start_time": "2019-08-28T02:12:20.416041Z"
    }
   },
   "outputs": [
    {
     "data": {
      "image/png": "[encoded data removed]",
      "text/plain": [
       "<Figure size 432x288 with 1 Axes>"
      ]
     },
     "metadata": {},
     "output_type": "display_data"
    }
   ],
   "source": [
    "profile.age.hist();"
   ]
  },
  {
   "cell_type": "markdown",
   "metadata": {
    "collapsed": true
   },
   "source": [
    "## Data Preparation  (CRISP-DM Step 3)\n",
    "- are there any missing values?\n",
    "    - the gender and income columns in the profile seem to be have missing values\n",
    "    - if a row is missing gender then it is missing income and vice versa\n",
    "    - we choose to drop these users out of our analysis\n",
    "    - another thing we observe is that there are users who have not been shown a single offer\n",
    "- are there any duplicate values?\n",
    "    - There are users who might receive the same offer twice, and both of them can be marked complete using a common set of transactions.\n",
    "- are there any categorical variables?\n",
    "    - the offers in the portfolios have channels and offer_type which we will convert into dummy variables\n",
    "- are there variables that need cleaning?\n",
    "    - each transaction type has a different type of value stored as a dict, we wil need to extract the data into separate columns\n",
    "    - since a user might be shown the same offer more than once, we need to make sure that we use the time columns to identify which offer receivals are related to which offer views and completions"
   ]
  },
  {
   "cell_type": "code",
   "execution_count": 2,
   "metadata": {
    "ExecuteTime": {
     "end_time": "2019-08-22T03:00:25.943868Z",
     "start_time": "2019-08-22T03:00:25.071439Z"
    },
    "code_folding": [],
    "collapsed": true
   },
   "outputs": [],
   "source": [
    "def attach_dict_cols(df, event, col='value'):\n",
    "    \"\"\"\n",
    "    A helper function to clean the transactions data.\n",
    "    \n",
    "    Args:\n",
    "        df: A dataframe that contains all the transactions\n",
    "        event: the type of event we want to filter and clean. This should be one of the values in the 'event' column in df\n",
    "        col: The column which contains the dict describing the various attributes of this event\n",
    "    Returns:\n",
    "        A dataframe of the specific event with the dict in the value col transformed to separate columns.\n",
    "    \"\"\"\n",
    "    df = df[df['event'] == event].copy()\n",
    "    attributes = pd.DataFrame(list(df[col]), index=df.index)\n",
    "    attributes.columns = [col.replace(' ', '_') for col in attributes.columns]\n",
    "    df = pd.concat([df.drop('value', axis=1), attributes], axis=1, sort=False).reset_index(drop=True)\n",
    "    return df\n",
    "\n",
    "transcript['transcript_id'] = np.arange(transcript.shape[0])\n",
    "received = attach_dict_cols(transcript, 'offer received')\n",
    "viewed = attach_dict_cols(transcript, 'offer viewed')\n",
    "completed = attach_dict_cols(transcript, 'offer completed')\n",
    "transaction = attach_dict_cols(transcript, 'transaction')\n",
    "\n",
    "#received.groupby('offer_id')['time'].value_counts().unstack()"
   ]
  },
  {
   "cell_type": "code",
   "execution_count": 3,
   "metadata": {
    "ExecuteTime": {
     "end_time": "2019-08-22T03:00:26.422938Z",
     "start_time": "2019-08-22T03:00:25.946114Z"
    },
    "collapsed": true
   },
   "outputs": [],
   "source": [
    "portfolio['duration_hours'] = portfolio.duration * 24\n",
    "portfolio['offer_id'] = portfolio.id\n",
    "\n",
    "received['receive_id'] = transcript['transcript_id']\n",
    "received['time_receive'] = received['time']\n",
    "received = pd.merge(received, portfolio[['offer_id', 'duration_hours', 'offer_type', 'difficulty', 'channels']],\n",
    "                    on='offer_id') \n",
    "received['end_time'] = received['time'] + received.duration_hours\n",
    "\n",
    "viewed = pd.merge_asof(viewed, received[['person', 'time', 'offer_id', 'time_receive', 'receive_id']].sort_values('time'),\n",
    "                    by=['person', 'offer_id'], on='time')\n",
    "received = received.drop(['receive_id', 'time'], axis=1)"
   ]
  },
  {
   "cell_type": "code",
   "execution_count": 4,
   "metadata": {
    "ExecuteTime": {
     "end_time": "2019-08-22T03:00:27.683522Z",
     "start_time": "2019-08-22T03:00:26.424944Z"
    },
    "collapsed": true
   },
   "outputs": [],
   "source": [
    "rc = pd.concat([received, completed], sort=False).sort_values('time')\n",
    "\n",
    "rec_dict = {person:{offer:deque() for offer in portfolio.id} for person in profile.id}\n",
    "\n",
    "# loop through all the receives and completes\n",
    "# each time you see a complete find the first receive of the same offer that is still open \n",
    "#rec_dict = person -> offer -> [(transcript_id, end_time)]\n",
    "complete_list = []\n",
    "for tup in (received.itertuples(index=False)):\n",
    "    rec_dict[tup.person][tup.offer_id].append((tup.transcript_id,tup.end_time))\n",
    "\n",
    "for tup in (completed.itertuples(index=False)):\n",
    "    stash = rec_dict[tup.person][tup.offer_id]\n",
    "    found = False\n",
    "    while stash and (not found):\n",
    "        rec = stash.popleft()\n",
    "        if rec[1] >= tup.time:\n",
    "            complete_list.append(rec[0])\n",
    "            found = True\n",
    "    if not found:\n",
    "        raise\n",
    "\n",
    "assert completed.shape[0] == len(complete_list)"
   ]
  },
  {
   "cell_type": "code",
   "execution_count": 5,
   "metadata": {
    "ExecuteTime": {
     "end_time": "2019-08-22T03:00:27.979011Z",
     "start_time": "2019-08-22T03:00:27.687217Z"
    },
    "collapsed": true
   },
   "outputs": [],
   "source": [
    "completed['receive_id'] = complete_list\n",
    "\n",
    "received = received.merge(viewed[['receive_id', 'time']], left_on='transcript_id', right_on='receive_id', \n",
    "                          how='left', suffixes=('', '_view'))\n",
    "\n",
    "received = received.merge(completed[['receive_id', 'time']], left_on='transcript_id', right_on='receive_id',\n",
    "                         how='left', suffixes=('_view', '_complete'))"
   ]
  },
  {
   "cell_type": "code",
   "execution_count": 6,
   "metadata": {
    "ExecuteTime": {
     "end_time": "2019-08-22T03:00:28.310952Z",
     "start_time": "2019-08-22T03:00:27.989711Z"
    },
    "collapsed": true
   },
   "outputs": [],
   "source": [
    "df = received.copy()\n",
    "\n",
    "df['viewed'] = (~df.time_view.isnull())\n",
    "df['completed'] = (~df.time_complete.isnull())\n",
    "\n",
    "channels = set(x for list_ in portfolio.channels.values for x in list_)\n",
    "for channel in channels:\n",
    "    df[channel] = df.channels.apply(lambda _: (channel in _))\n",
    "\n",
    "df['offer_type_dummy'] = df['offer_type']\n",
    "df = pd.get_dummies(df, columns=['offer_type'])"
   ]
  },
  {
   "cell_type": "code",
   "execution_count": 7,
   "metadata": {
    "ExecuteTime": {
     "end_time": "2019-08-22T03:00:28.450642Z",
     "start_time": "2019-08-22T03:00:28.317888Z"
    }
   },
   "outputs": [
    {
     "data": {
      "text/html": [
       "<div>\n",
       "<style scoped>\n",
       "    .dataframe tbody tr th:only-of-type {\n",
       "        vertical-align: middle;\n",
       "    }\n",
       "\n",
       "    .dataframe tbody tr th {\n",
       "        vertical-align: top;\n",
       "    }\n",
       "\n",
       "    .dataframe thead th {\n",
       "        text-align: right;\n",
       "    }\n",
       "</style>\n",
       "<table border=\"1\" class=\"dataframe\">\n",
       "  <thead>\n",
       "    <tr style=\"text-align: right;\">\n",
       "      <th></th>\n",
       "      <th>completed</th>\n",
       "      <th>False</th>\n",
       "      <th>True</th>\n",
       "    </tr>\n",
       "    <tr>\n",
       "      <th>offer_type_dummy</th>\n",
       "      <th>viewed</th>\n",
       "      <th></th>\n",
       "      <th></th>\n",
       "    </tr>\n",
       "  </thead>\n",
       "  <tbody>\n",
       "    <tr>\n",
       "      <th rowspan=\"2\" valign=\"top\">bogo</th>\n",
       "      <th>False</th>\n",
       "      <td>10614.0</td>\n",
       "      <td>11748.0</td>\n",
       "    </tr>\n",
       "    <tr>\n",
       "      <th>True</th>\n",
       "      <td>4216.0</td>\n",
       "      <td>3921.0</td>\n",
       "    </tr>\n",
       "    <tr>\n",
       "      <th rowspan=\"2\" valign=\"top\">discount</th>\n",
       "      <th>False</th>\n",
       "      <td>9740.0</td>\n",
       "      <td>13440.0</td>\n",
       "    </tr>\n",
       "    <tr>\n",
       "      <th>True</th>\n",
       "      <td>2893.0</td>\n",
       "      <td>4470.0</td>\n",
       "    </tr>\n",
       "    <tr>\n",
       "      <th rowspan=\"2\" valign=\"top\">informational</th>\n",
       "      <th>False</th>\n",
       "      <td>11449.0</td>\n",
       "      <td>NaN</td>\n",
       "    </tr>\n",
       "    <tr>\n",
       "      <th>True</th>\n",
       "      <td>3786.0</td>\n",
       "      <td>NaN</td>\n",
       "    </tr>\n",
       "  </tbody>\n",
       "</table>\n",
       "</div>"
      ],
      "text/plain": [
       "completed                  False    True \n",
       "offer_type_dummy viewed                  \n",
       "bogo             False   10614.0  11748.0\n",
       "                 True     4216.0   3921.0\n",
       "discount         False    9740.0  13440.0\n",
       "                 True     2893.0   4470.0\n",
       "informational    False   11449.0      NaN\n",
       "                 True     3786.0      NaN"
      ]
     },
     "execution_count": 7,
     "metadata": {},
     "output_type": "execute_result"
    }
   ],
   "source": [
    "df.groupby(['offer_type_dummy', 'viewed'])['completed'].value_counts().unstack()"
   ]
  },
  {
   "cell_type": "code",
   "execution_count": 8,
   "metadata": {
    "ExecuteTime": {
     "end_time": "2019-08-22T03:00:28.472716Z",
     "start_time": "2019-08-22T03:00:28.455429Z"
    },
    "collapsed": true
   },
   "outputs": [],
   "source": [
    "clean_profile = profile.dropna().copy()\n",
    "clean_profile['person'] = clean_profile['id']"
   ]
  },
  {
   "cell_type": "code",
   "execution_count": 9,
   "metadata": {
    "ExecuteTime": {
     "end_time": "2019-08-22T03:00:28.663125Z",
     "start_time": "2019-08-22T03:00:28.475279Z"
    },
    "collapsed": true
   },
   "outputs": [],
   "source": [
    "clean_profile = pd.get_dummies(clean_profile, columns=['gender'], prefix='gender')\n",
    "profile_cols = ['age', 'became_member_on', 'gender_M', 'gender_O', 'gender_F', 'income', 'person']\n",
    "#profile_cols = ['age', 'became_member_on', 'gender', 'income', 'person']\n",
    "\n",
    "df = pd.merge(df, clean_profile[profile_cols], on='person')"
   ]
  },
  {
   "cell_type": "code",
   "execution_count": 10,
   "metadata": {
    "ExecuteTime": {
     "end_time": "2019-08-22T03:00:28.762627Z",
     "start_time": "2019-08-22T03:00:28.666137Z"
    }
   },
   "outputs": [
    {
     "data": {
      "text/html": [
       "<div>\n",
       "<style scoped>\n",
       "    .dataframe tbody tr th:only-of-type {\n",
       "        vertical-align: middle;\n",
       "    }\n",
       "\n",
       "    .dataframe tbody tr th {\n",
       "        vertical-align: top;\n",
       "    }\n",
       "\n",
       "    .dataframe thead th {\n",
       "        text-align: right;\n",
       "    }\n",
       "</style>\n",
       "<table border=\"1\" class=\"dataframe\">\n",
       "  <thead>\n",
       "    <tr style=\"text-align: right;\">\n",
       "      <th>completed</th>\n",
       "      <th>False</th>\n",
       "      <th>True</th>\n",
       "    </tr>\n",
       "    <tr>\n",
       "      <th>viewed</th>\n",
       "      <th></th>\n",
       "      <th></th>\n",
       "    </tr>\n",
       "  </thead>\n",
       "  <tbody>\n",
       "    <tr>\n",
       "      <th>False</th>\n",
       "      <td>25451</td>\n",
       "      <td>24319</td>\n",
       "    </tr>\n",
       "    <tr>\n",
       "      <th>True</th>\n",
       "      <td>8606</td>\n",
       "      <td>8125</td>\n",
       "    </tr>\n",
       "  </tbody>\n",
       "</table>\n",
       "</div>"
      ],
      "text/plain": [
       "completed  False  True \n",
       "viewed                 \n",
       "False      25451  24319\n",
       "True        8606   8125"
      ]
     },
     "execution_count": 10,
     "metadata": {},
     "output_type": "execute_result"
    }
   ],
   "source": [
    "df.groupby('viewed')['completed'].value_counts().unstack()"
   ]
  },
  {
   "cell_type": "code",
   "execution_count": 11,
   "metadata": {
    "ExecuteTime": {
     "end_time": "2019-08-22T03:00:28.773948Z",
     "start_time": "2019-08-22T03:00:28.766671Z"
    },
    "collapsed": true
   },
   "outputs": [],
   "source": [
    "df['label'] = (df['viewed'] == df['completed']).astype(int)"
   ]
  },
  {
   "cell_type": "code",
   "execution_count": 12,
   "metadata": {
    "ExecuteTime": {
     "end_time": "2019-08-22T03:00:29.297128Z",
     "start_time": "2019-08-22T03:00:29.290421Z"
    },
    "collapsed": true
   },
   "outputs": [],
   "source": [
    "all_cols = ['duration_hours', 'difficulty', 'mobile', 'social', 'email', 'web', \n",
    "            'offer_type_bogo', 'offer_type_discount', 'offer_type_informational', \n",
    "            'age', 'became_member_on', 'gender_M', 'gender_F', 'gender_O', 'income', 'label']"
   ]
  },
  {
   "cell_type": "code",
   "execution_count": 13,
   "metadata": {
    "ExecuteTime": {
     "end_time": "2019-08-22T03:00:30.427625Z",
     "start_time": "2019-08-22T03:00:30.373753Z"
    },
    "collapsed": true
   },
   "outputs": [],
   "source": [
    "df = df[all_cols].copy().astype(int)"
   ]
  },
  {
   "cell_type": "code",
   "execution_count": 14,
   "metadata": {
    "ExecuteTime": {
     "end_time": "2019-08-22T03:00:30.723993Z",
     "start_time": "2019-08-22T03:00:30.696523Z"
    },
    "collapsed": true
   },
   "outputs": [],
   "source": [
    "df = df[df.offer_type_informational == 0].copy()"
   ]
  },
  {
   "cell_type": "markdown",
   "metadata": {},
   "source": [
    "## Modeling  (CRISP-DM Step 4)\n",
    "- In this section we will try and predict the labels for customers that have been shown an offer\n",
    "- the label we have assigned is positive when the customer completes and offer if and only if they have been seen the offer\n",
    "- We will split the data into training and test sets \n",
    "- we will then train a AdaBoostClassifier and evaluate its performance on unseen data, the test set"
   ]
  },
  {
   "cell_type": "code",
   "execution_count": 164,
   "metadata": {
    "ExecuteTime": {
     "end_time": "2019-08-28T01:50:50.185712Z",
     "start_time": "2019-08-28T01:50:50.176031Z"
    },
    "collapsed": true
   },
   "outputs": [],
   "source": [
    "from sklearn.model_selection import train_test_split\n",
    "from sklearn.ensemble import AdaBoostClassifier, GradientBoostingClassifier, RandomForestClassifier\n",
    "from sklearn.tree import DecisionTreeClassifier\n",
    "from sklearn.metrics import accuracy_score, precision_score, recall_score, fbeta_score"
   ]
  },
  {
   "cell_type": "code",
   "execution_count": 165,
   "metadata": {
    "ExecuteTime": {
     "end_time": "2019-08-28T01:50:54.321531Z",
     "start_time": "2019-08-28T01:50:54.248202Z"
    },
    "collapsed": true
   },
   "outputs": [],
   "source": [
    "features = df.drop('label', axis=1)\n",
    "labels = df['label']\n",
    "X_train, X_test, y_train, y_test = train_test_split(features, labels, test_size=0.25, random_state=42)"
   ]
  },
  {
   "cell_type": "code",
   "execution_count": 170,
   "metadata": {
    "ExecuteTime": {
     "end_time": "2019-08-28T01:51:59.661567Z",
     "start_time": "2019-08-28T01:51:59.635240Z"
    },
    "collapsed": true
   },
   "outputs": [],
   "source": [
    "def train_predict(learner, sample_size, X_train, y_train, X_test, y_test): \n",
    "    results = {}\n",
    "    learner.fit(X_train[:sample_size], y_train[:sample_size])\n",
    "    \n",
    "    training_pred = learner.predict(X_train[:1000])\n",
    "    results['train_acc'] = accuracy_score(y_train[:1000], training_pred)\n",
    "    results['train_f'] = fbeta_score(y_train[:1000], training_pred, 0.5)\n",
    "    results['train_prec'] = precision_score(y_train[:1000], training_pred)\n",
    "    results['train_rec'] = recall_score(y_train[:1000], training_pred)\n",
    "    \n",
    "    y_pred = learner.predict(X_test)\n",
    "    results['test_acc'] = accuracy_score(y_test, y_pred)\n",
    "    results['test_f'] = fbeta_score(y_test, y_pred, 0.5)\n",
    "    results['test_prec'] = precision_score(y_test, y_pred)\n",
    "    results['test_rec'] = recall_score(y_test, y_pred)\n",
    "    \n",
    "    return results"
   ]
  },
  {
   "cell_type": "code",
   "execution_count": 171,
   "metadata": {
    "ExecuteTime": {
     "end_time": "2019-08-28T01:52:07.647864Z",
     "start_time": "2019-08-28T01:52:00.814529Z"
    },
    "collapsed": true
   },
   "outputs": [],
   "source": [
    "clf_1 = DecisionTreeClassifier()\n",
    "clf_2 = AdaBoostClassifier()\n",
    "clf_3 = GradientBoostingClassifier()\n",
    "clf_4 = RandomForestClassifier()\n",
    "\n",
    "sizes = [int(X_train.shape[0] * 0.02), int(X_train.shape[0]*0.2), X_train.shape[0]]\n",
    "results = {}\n",
    "for clf in [clf_2, clf_3, clf_4, clf_1]:\n",
    "    clf_name = clf.__class__.__name__\n",
    "    results[clf_name] = {}\n",
    "    for i in sizes:\n",
    "        results[clf_name][i] = train_predict(clf, i, X_train, y_train, X_test, y_test)"
   ]
  },
  {
   "cell_type": "code",
   "execution_count": 172,
   "metadata": {
    "ExecuteTime": {
     "end_time": "2019-08-28T01:52:07.678626Z",
     "start_time": "2019-08-28T01:52:07.650017Z"
    }
   },
   "outputs": [
    {
     "data": {
      "text/html": [
       "<script type=\"text/javascript\">window.PlotlyConfig = {MathJaxConfig: 'local'};</script><script type=\"text/javascript\">if (window.MathJax) {MathJax.Hub.Config({SVG: {font: \"STIX-Web\"}});}</script><script>requirejs.config({paths: { 'plotly': ['https://cdn.plot.ly/plotly-latest.min']},});if(!window._Plotly) {require(['plotly'],function(plotly) {window._Plotly=plotly;});}</script>"
      ],
      "text/vnd.plotly.v1+html": [
       "<script type=\"text/javascript\">window.PlotlyConfig = {MathJaxConfig: 'local'};</script><script type=\"text/javascript\">if (window.MathJax) {MathJax.Hub.Config({SVG: {font: \"STIX-Web\"}});}</script><script>requirejs.config({paths: { 'plotly': ['https://cdn.plot.ly/plotly-latest.min']},});if(!window._Plotly) {require(['plotly'],function(plotly) {window._Plotly=plotly;});}</script>"
      ]
     },
     "metadata": {},
     "output_type": "display_data"
    }
   ],
   "source": [
    "import plotly.graph_objs as go\n",
    "from plotly.offline import iplot, init_notebook_mode\n",
    "init_notebook_mode(connected=True)\n",
    "from plotly.tools import make_subplots"
   ]
  },
  {
   "cell_type": "code",
   "execution_count": 173,
   "metadata": {
    "ExecuteTime": {
     "end_time": "2019-08-28T01:52:09.426779Z",
     "start_time": "2019-08-28T01:52:07.697012Z"
    },
    "scrolled": false
   },
   "outputs": [
    {
     "name": "stdout",
     "output_type": "stream",
     "text": [
      "This is the format of your plot grid:\n",
      "[ (1,1) x1,y1 ]  [ (1,2) x2,y2 ]  [ (1,3) x3,y3 ]  [ (1,4) x4,y4 ]\n",
      "[ (2,1) x5,y5 ]  [ (2,2) x6,y6 ]  [ (2,3) x7,y7 ]  [ (2,4) x8,y8 ]\n",
      "\n"
     ]
    },
    {
     "data": {
      "application/vnd.plotly.v1+json": {
       "config": {
        "linkText": "Export to plot.ly",
        "plotlyServerURL": "https://plot.ly",
        "showLink": true
       },
       "data": [
        {
         "legendgroup": "AdaBoostClassifier",
         "marker": {
          "color": "#1f77b4"
         },
         "name": "AdaBoostClassifier",
         "showlegend": true,
         "type": "bar",
         "uid": "9a556d67-a50a-4263-8963-a59a3a5720d4",
         "x": [
          "2%",
          "20%",
          "100%"
         ],
         "xaxis": "x",
         "y": [
          0.641,
          0.609,
          0.595
         ],
         "yaxis": "y"
        },
        {
         "legendgroup": "GradientBoostingClassifier",
         "marker": {
          "color": "#ff7f0e"
         },
         "name": "GradientBoostingClassifier",
         "showlegend": true,
         "type": "bar",
         "uid": "39c2f353-6d38-4789-8ebb-fbf4bd7596cc",
         "x": [
          "2%",
          "20%",
          "100%"
         ],
         "xaxis": "x",
         "y": [
          0.763,
          0.648,
          0.618
         ],
         "yaxis": "y"
        },
        {
         "legendgroup": "RandomForestClassifier",
         "marker": {
          "color": "#2ca02c"
         },
         "name": "RandomForestClassifier",
         "showlegend": true,
         "type": "bar",
         "uid": "080032d3-68bb-4877-811c-a89237bc840d",
         "x": [
          "2%",
          "20%",
          "100%"
         ],
         "xaxis": "x",
         "y": [
          0.882,
          0.966,
          0.93
         ],
         "yaxis": "y"
        },
        {
         "legendgroup": "DecisionTreeClassifier",
         "marker": {
          "color": "#d62728"
         },
         "name": "DecisionTreeClassifier",
         "showlegend": true,
         "type": "bar",
         "uid": "ec0327f7-e6e4-4de9-8022-03447a8d7089",
         "x": [
          "2%",
          "20%",
          "100%"
         ],
         "xaxis": "x",
         "y": [
          0.914,
          0.988,
          0.949
         ],
         "yaxis": "y"
        },
        {
         "legendgroup": "AdaBoostClassifier",
         "marker": {
          "color": "#1f77b4"
         },
         "name": "AdaBoostClassifier",
         "showlegend": false,
         "type": "bar",
         "uid": "1cc53fa8-0ed9-41fb-9371-d1bbf60fc0b1",
         "x": [
          "2%",
          "20%",
          "100%"
         ],
         "xaxis": "x5",
         "y": [
          0.5945417637771596,
          0.6154424479362454,
          0.6238628674535749
         ],
         "yaxis": "y5"
        },
        {
         "legendgroup": "GradientBoostingClassifier",
         "marker": {
          "color": "#ff7f0e"
         },
         "name": "GradientBoostingClassifier",
         "showlegend": false,
         "type": "bar",
         "uid": "466af2a8-b7a0-486d-8b30-0965eb2a0e8c",
         "x": [
          "2%",
          "20%",
          "100%"
         ],
         "xaxis": "x5",
         "y": [
          0.5883768137734005,
          0.6115329674460567,
          0.6234117735508609
         ],
         "yaxis": "y5"
        },
        {
         "legendgroup": "RandomForestClassifier",
         "marker": {
          "color": "#2ca02c"
         },
         "name": "RandomForestClassifier",
         "showlegend": false,
         "type": "bar",
         "uid": "2498219d-e868-4480-b26f-53286e274fe8",
         "x": [
          "2%",
          "20%",
          "100%"
         ],
         "xaxis": "x5",
         "y": [
          0.5669498533944817,
          0.56326591985565,
          0.5574768814374859
         ],
         "yaxis": "y5"
        },
        {
         "legendgroup": "DecisionTreeClassifier",
         "marker": {
          "color": "#d62728"
         },
         "name": "DecisionTreeClassifier",
         "showlegend": false,
         "type": "bar",
         "uid": "6648a204-13e1-4d16-ae09-79e34b40e499",
         "x": [
          "2%",
          "20%",
          "100%"
         ],
         "xaxis": "x5",
         "y": [
          0.5421396887452071,
          0.5315389820314262,
          0.5399594015487558
         ],
         "yaxis": "y5"
        },
        {
         "legendgroup": "AdaBoostClassifier",
         "marker": {
          "color": "#1f77b4"
         },
         "name": "AdaBoostClassifier",
         "showlegend": false,
         "type": "bar",
         "uid": "36054c26-b02f-4062-9253-6007cbc81195",
         "x": [
          "2%",
          "20%",
          "100%"
         ],
         "xaxis": "x2",
         "y": [
          0.5523627075351213,
          0.5122235157159487,
          0.5026737967914439
         ],
         "yaxis": "y2"
        },
        {
         "legendgroup": "GradientBoostingClassifier",
         "marker": {
          "color": "#ff7f0e"
         },
         "name": "GradientBoostingClassifier",
         "showlegend": false,
         "type": "bar",
         "uid": "5f7e64d9-c24f-464b-af0a-7e2ab8aa56db",
         "x": [
          "2%",
          "20%",
          "100%"
         ],
         "xaxis": "x2",
         "y": [
          0.7429099876695439,
          0.5649188514357054,
          0.5260115606936416
         ],
         "yaxis": "y2"
        },
        {
         "legendgroup": "RandomForestClassifier",
         "marker": {
          "color": "#2ca02c"
         },
         "name": "RandomForestClassifier",
         "showlegend": false,
         "type": "bar",
         "uid": "a83f01fa-d2f4-4e3f-85d7-af3a80ba2e7e",
         "x": [
          "2%",
          "20%",
          "100%"
         ],
         "xaxis": "x2",
         "y": [
          0.8792924037460979,
          0.9671890303623897,
          0.9231145935357494
         ],
         "yaxis": "y2"
        },
        {
         "legendgroup": "DecisionTreeClassifier",
         "marker": {
          "color": "#d62728"
         },
         "name": "DecisionTreeClassifier",
         "showlegend": false,
         "type": "bar",
         "uid": "d8b06128-23be-4c37-9cc9-2152c673cc1f",
         "x": [
          "2%",
          "20%",
          "100%"
         ],
         "xaxis": "x2",
         "y": [
          0.9057255676209279,
          0.9941234084231144,
          0.9700315457413251
         ],
         "yaxis": "y2"
        },
        {
         "legendgroup": "AdaBoostClassifier",
         "marker": {
          "color": "#1f77b4"
         },
         "name": "AdaBoostClassifier",
         "showlegend": false,
         "type": "bar",
         "uid": "40cc1d91-6662-421b-9f05-197b66c79f14",
         "x": [
          "2%",
          "20%",
          "100%"
         ],
         "xaxis": "x6",
         "y": [
          0.5044035228182546,
          0.5435778815519574,
          0.5598685561716985
         ],
         "yaxis": "y6"
        },
        {
         "legendgroup": "GradientBoostingClassifier",
         "marker": {
          "color": "#ff7f0e"
         },
         "name": "GradientBoostingClassifier",
         "showlegend": false,
         "type": "bar",
         "uid": "690b7e8d-0e9c-47a8-9ca6-013947b5313b",
         "x": [
          "2%",
          "20%",
          "100%"
         ],
         "xaxis": "x6",
         "y": [
          0.49007171781236286,
          0.5325457493629836,
          0.5557718091778037
         ],
         "yaxis": "y6"
        },
        {
         "legendgroup": "RandomForestClassifier",
         "marker": {
          "color": "#2ca02c"
         },
         "name": "RandomForestClassifier",
         "showlegend": false,
         "type": "bar",
         "uid": "620b6dea-e4c3-43f9-9e42-2a6be5d13e94",
         "x": [
          "2%",
          "20%",
          "100%"
         ],
         "xaxis": "x6",
         "y": [
          0.4701482569787632,
          0.4732605672384002,
          0.47819019235979415
         ],
         "yaxis": "y6"
        },
        {
         "legendgroup": "DecisionTreeClassifier",
         "marker": {
          "color": "#d62728"
         },
         "name": "DecisionTreeClassifier",
         "showlegend": false,
         "type": "bar",
         "uid": "9da43138-c384-4b47-bfef-d0cce572a575",
         "x": [
          "2%",
          "20%",
          "100%"
         ],
         "xaxis": "x6",
         "y": [
          0.4651810584958218,
          0.46393357550596787,
          0.471194066575275
         ],
         "yaxis": "y6"
        },
        {
         "legendgroup": "AdaBoostClassifier",
         "marker": {
          "color": "#1f77b4"
         },
         "name": "AdaBoostClassifier",
         "showlegend": false,
         "type": "bar",
         "uid": "628fc536-7327-4665-80e1-96279e902388",
         "x": [
          "2%",
          "20%",
          "100%"
         ],
         "xaxis": "x3",
         "y": [
          0.6027874564459931,
          0.5415384615384615,
          0.5179063360881543
         ],
         "yaxis": "y3"
        },
        {
         "legendgroup": "GradientBoostingClassifier",
         "marker": {
          "color": "#ff7f0e"
         },
         "name": "GradientBoostingClassifier",
         "showlegend": false,
         "type": "bar",
         "uid": "9b902fe2-b069-4f1d-8980-341ecabbca96",
         "x": [
          "2%",
          "20%",
          "100%"
         ],
         "xaxis": "x3",
         "y": [
          0.8006644518272426,
          0.6114864864864865,
          0.5548780487804879
         ],
         "yaxis": "y3"
        },
        {
         "legendgroup": "RandomForestClassifier",
         "marker": {
          "color": "#2ca02c"
         },
         "name": "RandomForestClassifier",
         "showlegend": false,
         "type": "bar",
         "uid": "ddec650c-98e7-496b-9095-cc936beba14e",
         "x": [
          "2%",
          "20%",
          "100%"
         ],
         "xaxis": "x3",
         "y": [
          0.898936170212766,
          0.9729064039408867,
          0.9285714285714286
         ],
         "yaxis": "y3"
        },
        {
         "legendgroup": "DecisionTreeClassifier",
         "marker": {
          "color": "#d62728"
         },
         "name": "DecisionTreeClassifier",
         "showlegend": false,
         "type": "bar",
         "uid": "3a592f3b-549f-4dcc-a1bd-fe8058e3c508",
         "x": [
          "2%",
          "20%",
          "100%"
         ],
         "xaxis": "x3",
         "y": [
          0.9129353233830846,
          1,
          0.9946091644204852
         ],
         "yaxis": "y3"
        },
        {
         "legendgroup": "AdaBoostClassifier",
         "marker": {
          "color": "#1f77b4"
         },
         "name": "AdaBoostClassifier",
         "showlegend": false,
         "type": "bar",
         "uid": "74e19a0a-3f31-4dc9-9269-397b5dd9da37",
         "x": [
          "2%",
          "20%",
          "100%"
         ],
         "xaxis": "x7",
         "y": [
          0.5560747663551402,
          0.5830992509363296,
          0.588768898488121
         ],
         "yaxis": "y7"
        },
        {
         "legendgroup": "GradientBoostingClassifier",
         "marker": {
          "color": "#ff7f0e"
         },
         "name": "GradientBoostingClassifier",
         "showlegend": false,
         "type": "bar",
         "uid": "6845d65b-25b3-44f1-8df2-29e775b0555e",
         "x": [
          "2%",
          "20%",
          "100%"
         ],
         "xaxis": "x7",
         "y": [
          0.5477099236641222,
          0.583502538071066,
          0.5943570767807586
         ],
         "yaxis": "y7"
        },
        {
         "legendgroup": "RandomForestClassifier",
         "marker": {
          "color": "#2ca02c"
         },
         "name": "RandomForestClassifier",
         "showlegend": false,
         "type": "bar",
         "uid": "33045d77-19bc-4a0d-85e2-555f1b6638ee",
         "x": [
          "2%",
          "20%",
          "100%"
         ],
         "xaxis": "x7",
         "y": [
          0.5078143784563597,
          0.501787310098302,
          0.4939036578053168
         ],
         "yaxis": "y7"
        },
        {
         "legendgroup": "DecisionTreeClassifier",
         "marker": {
          "color": "#d62728"
         },
         "name": "DecisionTreeClassifier",
         "showlegend": false,
         "type": "bar",
         "uid": "3b3409b3-b643-4333-9222-5f18c0d363f3",
         "x": [
          "2%",
          "20%",
          "100%"
         ],
         "xaxis": "x7",
         "y": [
          0.47488151658767774,
          0.46481802426343155,
          0.474009900990099
         ],
         "yaxis": "y7"
        },
        {
         "legendgroup": "AdaBoostClassifier",
         "marker": {
          "color": "#1f77b4"
         },
         "name": "AdaBoostClassifier",
         "showlegend": false,
         "type": "bar",
         "uid": "68819f99-97c6-4089-aad4-f689856256be",
         "x": [
          "2%",
          "20%",
          "100%"
         ],
         "xaxis": "x4",
         "y": [
          0.4138755980861244,
          0.42105263157894735,
          0.44976076555023925
         ],
         "yaxis": "y4"
        },
        {
         "legendgroup": "GradientBoostingClassifier",
         "marker": {
          "color": "#ff7f0e"
         },
         "name": "GradientBoostingClassifier",
         "showlegend": false,
         "type": "bar",
         "uid": "3bae266a-bc83-455d-8304-435bcfe0690c",
         "x": [
          "2%",
          "20%",
          "100%"
         ],
         "xaxis": "x4",
         "y": [
          0.5765550239234449,
          0.43301435406698563,
          0.4354066985645933
         ],
         "yaxis": "y4"
        },
        {
         "legendgroup": "RandomForestClassifier",
         "marker": {
          "color": "#2ca02c"
         },
         "name": "RandomForestClassifier",
         "showlegend": false,
         "type": "bar",
         "uid": "a8f26b3e-4fe2-404a-8925-f00099a70d6c",
         "x": [
          "2%",
          "20%",
          "100%"
         ],
         "xaxis": "x4",
         "y": [
          0.8086124401913876,
          0.9449760765550239,
          0.9019138755980861
         ],
         "yaxis": "y4"
        },
        {
         "legendgroup": "DecisionTreeClassifier",
         "marker": {
          "color": "#d62728"
         },
         "name": "DecisionTreeClassifier",
         "showlegend": false,
         "type": "bar",
         "uid": "cd1373a1-b34c-4667-843d-290bc498261c",
         "x": [
          "2%",
          "20%",
          "100%"
         ],
         "xaxis": "x4",
         "y": [
          0.8779904306220095,
          0.9712918660287081,
          0.8827751196172249
         ],
         "yaxis": "y4"
        },
        {
         "legendgroup": "AdaBoostClassifier",
         "marker": {
          "color": "#1f77b4"
         },
         "name": "AdaBoostClassifier",
         "showlegend": false,
         "type": "bar",
         "uid": "d6a3d0fb-f7c8-48d7-b45f-a7ea03bfa4c2",
         "x": [
          "2%",
          "20%",
          "100%"
         ],
         "xaxis": "x8",
         "y": [
          0.367725321888412,
          0.42763948497854076,
          0.46798283261802576
         ],
         "yaxis": "y8"
        },
        {
         "legendgroup": "GradientBoostingClassifier",
         "marker": {
          "color": "#ff7f0e"
         },
         "name": "GradientBoostingClassifier",
         "showlegend": false,
         "type": "bar",
         "uid": "0793458f-5f3f-41bd-a504-3f8ac0130894",
         "x": [
          "2%",
          "20%",
          "100%"
         ],
         "xaxis": "x8",
         "y": [
          0.34489270386266097,
          0.3946781115879828,
          0.4412017167381974
         ],
         "yaxis": "y8"
        },
        {
         "legendgroup": "RandomForestClassifier",
         "marker": {
          "color": "#2ca02c"
         },
         "name": "RandomForestClassifier",
         "showlegend": false,
         "type": "bar",
         "uid": "017c23af-3424-4493-8a8d-316779484376",
         "x": [
          "2%",
          "20%",
          "100%"
         ],
         "xaxis": "x8",
         "y": [
          0.36257510729613734,
          0.3855793991416309,
          0.424206008583691
         ],
         "yaxis": "y8"
        },
        {
         "legendgroup": "DecisionTreeClassifier",
         "marker": {
          "color": "#d62728"
         },
         "name": "DecisionTreeClassifier",
         "showlegend": false,
         "type": "bar",
         "uid": "a419614a-e791-4713-b7ec-cdc52bba8a10",
         "x": [
          "2%",
          "20%",
          "100%"
         ],
         "xaxis": "x8",
         "y": [
          0.43004291845493564,
          0.4604291845493562,
          0.46025751072961374
         ],
         "yaxis": "y8"
        }
       ],
       "layout": {
        "annotations": [
         {
          "font": {
           "size": 16
          },
          "showarrow": false,
          "text": "Training Accuracy",
          "x": 0.10625,
          "xanchor": "center",
          "xref": "paper",
          "y": 1,
          "yanchor": "bottom",
          "yref": "paper"
         },
         {
          "font": {
           "size": 16
          },
          "showarrow": false,
          "text": "Training F-Score",
          "x": 0.36875,
          "xanchor": "center",
          "xref": "paper",
          "y": 1,
          "yanchor": "bottom",
          "yref": "paper"
         },
         {
          "font": {
           "size": 16
          },
          "showarrow": false,
          "text": "Training Precision",
          "x": 0.6312500000000001,
          "xanchor": "center",
          "xref": "paper",
          "y": 1,
          "yanchor": "bottom",
          "yref": "paper"
         },
         {
          "font": {
           "size": 16
          },
          "showarrow": false,
          "text": "Training Recall",
          "x": 0.89375,
          "xanchor": "center",
          "xref": "paper",
          "y": 1,
          "yanchor": "bottom",
          "yref": "paper"
         },
         {
          "font": {
           "size": 16
          },
          "showarrow": false,
          "text": "Testing Accuracy",
          "x": 0.10625,
          "xanchor": "center",
          "xref": "paper",
          "y": 0.375,
          "yanchor": "bottom",
          "yref": "paper"
         },
         {
          "font": {
           "size": 16
          },
          "showarrow": false,
          "text": "Testing F-Score",
          "x": 0.36875,
          "xanchor": "center",
          "xref": "paper",
          "y": 0.375,
          "yanchor": "bottom",
          "yref": "paper"
         },
         {
          "font": {
           "size": 16
          },
          "showarrow": false,
          "text": "Testing Precision",
          "x": 0.6312500000000001,
          "xanchor": "center",
          "xref": "paper",
          "y": 0.375,
          "yanchor": "bottom",
          "yref": "paper"
         },
         {
          "font": {
           "size": 16
          },
          "showarrow": false,
          "text": "Testing Recall",
          "x": 0.89375,
          "xanchor": "center",
          "xref": "paper",
          "y": 0.375,
          "yanchor": "bottom",
          "yref": "paper"
         }
        ],
        "xaxis": {
         "anchor": "y",
         "domain": [
          0,
          0.2125
         ],
         "type": "category"
        },
        "xaxis2": {
         "anchor": "y2",
         "domain": [
          0.2625,
          0.475
         ],
         "type": "category"
        },
        "xaxis3": {
         "anchor": "y3",
         "domain": [
          0.525,
          0.7375
         ],
         "type": "category"
        },
        "xaxis4": {
         "anchor": "y4",
         "domain": [
          0.7875,
          1
         ],
         "type": "category"
        },
        "xaxis5": {
         "anchor": "y5",
         "domain": [
          0,
          0.2125
         ],
         "type": "category"
        },
        "xaxis6": {
         "anchor": "y6",
         "domain": [
          0.2625,
          0.475
         ],
         "type": "category"
        },
        "xaxis7": {
         "anchor": "y7",
         "domain": [
          0.525,
          0.7375
         ],
         "type": "category"
        },
        "xaxis8": {
         "anchor": "y8",
         "domain": [
          0.7875,
          1
         ],
         "type": "category"
        },
        "yaxis": {
         "anchor": "x",
         "domain": [
          0.625,
          1
         ]
        },
        "yaxis2": {
         "anchor": "x2",
         "domain": [
          0.625,
          1
         ]
        },
        "yaxis3": {
         "anchor": "x3",
         "domain": [
          0.625,
          1
         ]
        },
        "yaxis4": {
         "anchor": "x4",
         "domain": [
          0.625,
          1
         ]
        },
        "yaxis5": {
         "anchor": "x5",
         "domain": [
          0,
          0.375
         ]
        },
        "yaxis6": {
         "anchor": "x6",
         "domain": [
          0,
          0.375
         ]
        },
        "yaxis7": {
         "anchor": "x7",
         "domain": [
          0,
          0.375
         ]
        },
        "yaxis8": {
         "anchor": "x8",
         "domain": [
          0,
          0.375
         ]
        }
       }
      },
      "text/html": [
       "<div id=\"951400d8-a627-49ba-95fe-3fadf2d265a6\" style=\"height: 525px; width: 100%;\" class=\"plotly-graph-div\"></div><script type=\"text/javascript\">require([\"plotly\"], function(Plotly) { window.PLOTLYENV=window.PLOTLYENV || {};window.PLOTLYENV.BASE_URL=\"https://plot.ly\";Plotly.newPlot(\"951400d8-a627-49ba-95fe-3fadf2d265a6\", [{\"legendgroup\": \"AdaBoostClassifier\", \"marker\": {\"color\": \"#1f77b4\"}, \"name\": \"AdaBoostClassifier\", \"showlegend\": true, \"x\": [\"2%\", \"20%\", \"100%\"], \"y\": [0.641, 0.609, 0.595], \"type\": \"bar\", \"uid\": \"9a556d67-a50a-4263-8963-a59a3a5720d4\", \"xaxis\": \"x\", \"yaxis\": \"y\"}, {\"legendgroup\": \"GradientBoostingClassifier\", \"marker\": {\"color\": \"#ff7f0e\"}, \"name\": \"GradientBoostingClassifier\", \"showlegend\": true, \"x\": [\"2%\", \"20%\", \"100%\"], \"y\": [0.763, 0.648, 0.618], \"type\": \"bar\", \"uid\": \"39c2f353-6d38-4789-8ebb-fbf4bd7596cc\", \"xaxis\": \"x\", \"yaxis\": \"y\"}, {\"legendgroup\": \"RandomForestClassifier\", \"marker\": {\"color\": \"#2ca02c\"}, \"name\": \"RandomForestClassifier\", \"showlegend\": true, \"x\": [\"2%\", \"20%\", \"100%\"], \"y\": [0.882, 0.966, 0.93], \"type\": \"bar\", \"uid\": \"080032d3-68bb-4877-811c-a89237bc840d\", \"xaxis\": \"x\", \"yaxis\": \"y\"}, {\"legendgroup\": \"DecisionTreeClassifier\", \"marker\": {\"color\": \"#d62728\"}, \"name\": \"DecisionTreeClassifier\", \"showlegend\": true, \"x\": [\"2%\", \"20%\", \"100%\"], \"y\": [0.914, 0.988, 0.949], \"type\": \"bar\", \"uid\": \"ec0327f7-e6e4-4de9-8022-03447a8d7089\", \"xaxis\": \"x\", \"yaxis\": \"y\"}, {\"legendgroup\": \"AdaBoostClassifier\", \"marker\": {\"color\": \"#1f77b4\"}, \"name\": \"AdaBoostClassifier\", \"showlegend\": false, \"x\": [\"2%\", \"20%\", \"100%\"], \"y\": [0.5945417637771596, 0.6154424479362454, 0.6238628674535749], \"type\": \"bar\", \"uid\": \"1cc53fa8-0ed9-41fb-9371-d1bbf60fc0b1\", \"xaxis\": \"x5\", \"yaxis\": \"y5\"}, {\"legendgroup\": \"GradientBoostingClassifier\", \"marker\": {\"color\": \"#ff7f0e\"}, \"name\": \"GradientBoostingClassifier\", \"showlegend\": false, \"x\": [\"2%\", \"20%\", \"100%\"], \"y\": [0.5883768137734005, 0.6115329674460567, 0.6234117735508609], \"type\": \"bar\", \"uid\": \"466af2a8-b7a0-486d-8b30-0965eb2a0e8c\", \"xaxis\": \"x5\", \"yaxis\": \"y5\"}, {\"legendgroup\": \"RandomForestClassifier\", \"marker\": {\"color\": \"#2ca02c\"}, \"name\": \"RandomForestClassifier\", \"showlegend\": false, \"x\": [\"2%\", \"20%\", \"100%\"], \"y\": [0.5669498533944817, 0.56326591985565, 0.5574768814374859], \"type\": \"bar\", \"uid\": \"2498219d-e868-4480-b26f-53286e274fe8\", \"xaxis\": \"x5\", \"yaxis\": \"y5\"}, {\"legendgroup\": \"DecisionTreeClassifier\", \"marker\": {\"color\": \"#d62728\"}, \"name\": \"DecisionTreeClassifier\", \"showlegend\": false, \"x\": [\"2%\", \"20%\", \"100%\"], \"y\": [0.5421396887452071, 0.5315389820314262, 0.5399594015487558], \"type\": \"bar\", \"uid\": \"6648a204-13e1-4d16-ae09-79e34b40e499\", \"xaxis\": \"x5\", \"yaxis\": \"y5\"}, {\"legendgroup\": \"AdaBoostClassifier\", \"marker\": {\"color\": \"#1f77b4\"}, \"name\": \"AdaBoostClassifier\", \"showlegend\": false, \"x\": [\"2%\", \"20%\", \"100%\"], \"y\": [0.5523627075351213, 0.5122235157159487, 0.5026737967914439], \"type\": \"bar\", \"uid\": \"36054c26-b02f-4062-9253-6007cbc81195\", \"xaxis\": \"x2\", \"yaxis\": \"y2\"}, {\"legendgroup\": \"GradientBoostingClassifier\", \"marker\": {\"color\": \"#ff7f0e\"}, \"name\": \"GradientBoostingClassifier\", \"showlegend\": false, \"x\": [\"2%\", \"20%\", \"100%\"], \"y\": [0.7429099876695439, 0.5649188514357054, 0.5260115606936416], \"type\": \"bar\", \"uid\": \"5f7e64d9-c24f-464b-af0a-7e2ab8aa56db\", \"xaxis\": \"x2\", \"yaxis\": \"y2\"}, {\"legendgroup\": \"RandomForestClassifier\", \"marker\": {\"color\": \"#2ca02c\"}, \"name\": \"RandomForestClassifier\", \"showlegend\": false, \"x\": [\"2%\", \"20%\", \"100%\"], \"y\": [0.8792924037460979, 0.9671890303623897, 0.9231145935357494], \"type\": \"bar\", \"uid\": \"a83f01fa-d2f4-4e3f-85d7-af3a80ba2e7e\", \"xaxis\": \"x2\", \"yaxis\": \"y2\"}, {\"legendgroup\": \"DecisionTreeClassifier\", \"marker\": {\"color\": \"#d62728\"}, \"name\": \"DecisionTreeClassifier\", \"showlegend\": false, \"x\": [\"2%\", \"20%\", \"100%\"], \"y\": [0.9057255676209279, 0.9941234084231144, 0.9700315457413251], \"type\": \"bar\", \"uid\": \"d8b06128-23be-4c37-9cc9-2152c673cc1f\", \"xaxis\": \"x2\", \"yaxis\": \"y2\"}, {\"legendgroup\": \"AdaBoostClassifier\", \"marker\": {\"color\": \"#1f77b4\"}, \"name\": \"AdaBoostClassifier\", \"showlegend\": false, \"x\": [\"2%\", \"20%\", \"100%\"], \"y\": [0.5044035228182546, 0.5435778815519574, 0.5598685561716985], \"type\": \"bar\", \"uid\": \"40cc1d91-6662-421b-9f05-197b66c79f14\", \"xaxis\": \"x6\", \"yaxis\": \"y6\"}, {\"legendgroup\": \"GradientBoostingClassifier\", \"marker\": {\"color\": \"#ff7f0e\"}, \"name\": \"GradientBoostingClassifier\", \"showlegend\": false, \"x\": [\"2%\", \"20%\", \"100%\"], \"y\": [0.49007171781236286, 0.5325457493629836, 0.5557718091778037], \"type\": \"bar\", \"uid\": \"690b7e8d-0e9c-47a8-9ca6-013947b5313b\", \"xaxis\": \"x6\", \"yaxis\": \"y6\"}, {\"legendgroup\": \"RandomForestClassifier\", \"marker\": {\"color\": \"#2ca02c\"}, \"name\": \"RandomForestClassifier\", \"showlegend\": false, \"x\": [\"2%\", \"20%\", \"100%\"], \"y\": [0.4701482569787632, 0.4732605672384002, 0.47819019235979415], \"type\": \"bar\", \"uid\": \"620b6dea-e4c3-43f9-9e42-2a6be5d13e94\", \"xaxis\": \"x6\", \"yaxis\": \"y6\"}, {\"legendgroup\": \"DecisionTreeClassifier\", \"marker\": {\"color\": \"#d62728\"}, \"name\": \"DecisionTreeClassifier\", \"showlegend\": false, \"x\": [\"2%\", \"20%\", \"100%\"], \"y\": [0.4651810584958218, 0.46393357550596787, 0.471194066575275], \"type\": \"bar\", \"uid\": \"9da43138-c384-4b47-bfef-d0cce572a575\", \"xaxis\": \"x6\", \"yaxis\": \"y6\"}, {\"legendgroup\": \"AdaBoostClassifier\", \"marker\": {\"color\": \"#1f77b4\"}, \"name\": \"AdaBoostClassifier\", \"showlegend\": false, \"x\": [\"2%\", \"20%\", \"100%\"], \"y\": [0.6027874564459931, 0.5415384615384615, 0.5179063360881543], \"type\": \"bar\", \"uid\": \"628fc536-7327-4665-80e1-96279e902388\", \"xaxis\": \"x3\", \"yaxis\": \"y3\"}, {\"legendgroup\": \"GradientBoostingClassifier\", \"marker\": {\"color\": \"#ff7f0e\"}, \"name\": \"GradientBoostingClassifier\", \"showlegend\": false, \"x\": [\"2%\", \"20%\", \"100%\"], \"y\": [0.8006644518272426, 0.6114864864864865, 0.5548780487804879], \"type\": \"bar\", \"uid\": \"9b902fe2-b069-4f1d-8980-341ecabbca96\", \"xaxis\": \"x3\", \"yaxis\": \"y3\"}, {\"legendgroup\": \"RandomForestClassifier\", \"marker\": {\"color\": \"#2ca02c\"}, \"name\": \"RandomForestClassifier\", \"showlegend\": false, \"x\": [\"2%\", \"20%\", \"100%\"], \"y\": [0.898936170212766, 0.9729064039408867, 0.9285714285714286], \"type\": \"bar\", \"uid\": \"ddec650c-98e7-496b-9095-cc936beba14e\", \"xaxis\": \"x3\", \"yaxis\": \"y3\"}, {\"legendgroup\": \"DecisionTreeClassifier\", \"marker\": {\"color\": \"#d62728\"}, \"name\": \"DecisionTreeClassifier\", \"showlegend\": false, \"x\": [\"2%\", \"20%\", \"100%\"], \"y\": [0.9129353233830846, 1.0, 0.9946091644204852], \"type\": \"bar\", \"uid\": \"3a592f3b-549f-4dcc-a1bd-fe8058e3c508\", \"xaxis\": \"x3\", \"yaxis\": \"y3\"}, {\"legendgroup\": \"AdaBoostClassifier\", \"marker\": {\"color\": \"#1f77b4\"}, \"name\": \"AdaBoostClassifier\", \"showlegend\": false, \"x\": [\"2%\", \"20%\", \"100%\"], \"y\": [0.5560747663551402, 0.5830992509363296, 0.588768898488121], \"type\": \"bar\", \"uid\": \"74e19a0a-3f31-4dc9-9269-397b5dd9da37\", \"xaxis\": \"x7\", \"yaxis\": \"y7\"}, {\"legendgroup\": \"GradientBoostingClassifier\", \"marker\": {\"color\": \"#ff7f0e\"}, \"name\": \"GradientBoostingClassifier\", \"showlegend\": false, \"x\": [\"2%\", \"20%\", \"100%\"], \"y\": [0.5477099236641222, 0.583502538071066, 0.5943570767807586], \"type\": \"bar\", \"uid\": \"6845d65b-25b3-44f1-8df2-29e775b0555e\", \"xaxis\": \"x7\", \"yaxis\": \"y7\"}, {\"legendgroup\": \"RandomForestClassifier\", \"marker\": {\"color\": \"#2ca02c\"}, \"name\": \"RandomForestClassifier\", \"showlegend\": false, \"x\": [\"2%\", \"20%\", \"100%\"], \"y\": [0.5078143784563597, 0.501787310098302, 0.4939036578053168], \"type\": \"bar\", \"uid\": \"33045d77-19bc-4a0d-85e2-555f1b6638ee\", \"xaxis\": \"x7\", \"yaxis\": \"y7\"}, {\"legendgroup\": \"DecisionTreeClassifier\", \"marker\": {\"color\": \"#d62728\"}, \"name\": \"DecisionTreeClassifier\", \"showlegend\": false, \"x\": [\"2%\", \"20%\", \"100%\"], \"y\": [0.47488151658767774, 0.46481802426343155, 0.474009900990099], \"type\": \"bar\", \"uid\": \"3b3409b3-b643-4333-9222-5f18c0d363f3\", \"xaxis\": \"x7\", \"yaxis\": \"y7\"}, {\"legendgroup\": \"AdaBoostClassifier\", \"marker\": {\"color\": \"#1f77b4\"}, \"name\": \"AdaBoostClassifier\", \"showlegend\": false, \"x\": [\"2%\", \"20%\", \"100%\"], \"y\": [0.4138755980861244, 0.42105263157894735, 0.44976076555023925], \"type\": \"bar\", \"uid\": \"68819f99-97c6-4089-aad4-f689856256be\", \"xaxis\": \"x4\", \"yaxis\": \"y4\"}, {\"legendgroup\": \"GradientBoostingClassifier\", \"marker\": {\"color\": \"#ff7f0e\"}, \"name\": \"GradientBoostingClassifier\", \"showlegend\": false, \"x\": [\"2%\", \"20%\", \"100%\"], \"y\": [0.5765550239234449, 0.43301435406698563, 0.4354066985645933], \"type\": \"bar\", \"uid\": \"3bae266a-bc83-455d-8304-435bcfe0690c\", \"xaxis\": \"x4\", \"yaxis\": \"y4\"}, {\"legendgroup\": \"RandomForestClassifier\", \"marker\": {\"color\": \"#2ca02c\"}, \"name\": \"RandomForestClassifier\", \"showlegend\": false, \"x\": [\"2%\", \"20%\", \"100%\"], \"y\": [0.8086124401913876, 0.9449760765550239, 0.9019138755980861], \"type\": \"bar\", \"uid\": \"a8f26b3e-4fe2-404a-8925-f00099a70d6c\", \"xaxis\": \"x4\", \"yaxis\": \"y4\"}, {\"legendgroup\": \"DecisionTreeClassifier\", \"marker\": {\"color\": \"#d62728\"}, \"name\": \"DecisionTreeClassifier\", \"showlegend\": false, \"x\": [\"2%\", \"20%\", \"100%\"], \"y\": [0.8779904306220095, 0.9712918660287081, 0.8827751196172249], \"type\": \"bar\", \"uid\": \"cd1373a1-b34c-4667-843d-290bc498261c\", \"xaxis\": \"x4\", \"yaxis\": \"y4\"}, {\"legendgroup\": \"AdaBoostClassifier\", \"marker\": {\"color\": \"#1f77b4\"}, \"name\": \"AdaBoostClassifier\", \"showlegend\": false, \"x\": [\"2%\", \"20%\", \"100%\"], \"y\": [0.367725321888412, 0.42763948497854076, 0.46798283261802576], \"type\": \"bar\", \"uid\": \"d6a3d0fb-f7c8-48d7-b45f-a7ea03bfa4c2\", \"xaxis\": \"x8\", \"yaxis\": \"y8\"}, {\"legendgroup\": \"GradientBoostingClassifier\", \"marker\": {\"color\": \"#ff7f0e\"}, \"name\": \"GradientBoostingClassifier\", \"showlegend\": false, \"x\": [\"2%\", \"20%\", \"100%\"], \"y\": [0.34489270386266097, 0.3946781115879828, 0.4412017167381974], \"type\": \"bar\", \"uid\": \"0793458f-5f3f-41bd-a504-3f8ac0130894\", \"xaxis\": \"x8\", \"yaxis\": \"y8\"}, {\"legendgroup\": \"RandomForestClassifier\", \"marker\": {\"color\": \"#2ca02c\"}, \"name\": \"RandomForestClassifier\", \"showlegend\": false, \"x\": [\"2%\", \"20%\", \"100%\"], \"y\": [0.36257510729613734, 0.3855793991416309, 0.424206008583691], \"type\": \"bar\", \"uid\": \"017c23af-3424-4493-8a8d-316779484376\", \"xaxis\": \"x8\", \"yaxis\": \"y8\"}, {\"legendgroup\": \"DecisionTreeClassifier\", \"marker\": {\"color\": \"#d62728\"}, \"name\": \"DecisionTreeClassifier\", \"showlegend\": false, \"x\": [\"2%\", \"20%\", \"100%\"], \"y\": [0.43004291845493564, 0.4604291845493562, 0.46025751072961374], \"type\": \"bar\", \"uid\": \"a419614a-e791-4713-b7ec-cdc52bba8a10\", \"xaxis\": \"x8\", \"yaxis\": \"y8\"}], {\"annotations\": [{\"font\": {\"size\": 16}, \"showarrow\": false, \"text\": \"Training Accuracy\", \"x\": 0.10625, \"xanchor\": \"center\", \"xref\": \"paper\", \"y\": 1.0, \"yanchor\": \"bottom\", \"yref\": \"paper\"}, {\"font\": {\"size\": 16}, \"showarrow\": false, \"text\": \"Training F-Score\", \"x\": 0.36875, \"xanchor\": \"center\", \"xref\": \"paper\", \"y\": 1.0, \"yanchor\": \"bottom\", \"yref\": \"paper\"}, {\"font\": {\"size\": 16}, \"showarrow\": false, \"text\": \"Training Precision\", \"x\": 0.6312500000000001, \"xanchor\": \"center\", \"xref\": \"paper\", \"y\": 1.0, \"yanchor\": \"bottom\", \"yref\": \"paper\"}, {\"font\": {\"size\": 16}, \"showarrow\": false, \"text\": \"Training Recall\", \"x\": 0.89375, \"xanchor\": \"center\", \"xref\": \"paper\", \"y\": 1.0, \"yanchor\": \"bottom\", \"yref\": \"paper\"}, {\"font\": {\"size\": 16}, \"showarrow\": false, \"text\": \"Testing Accuracy\", \"x\": 0.10625, \"xanchor\": \"center\", \"xref\": \"paper\", \"y\": 0.375, \"yanchor\": \"bottom\", \"yref\": \"paper\"}, {\"font\": {\"size\": 16}, \"showarrow\": false, \"text\": \"Testing F-Score\", \"x\": 0.36875, \"xanchor\": \"center\", \"xref\": \"paper\", \"y\": 0.375, \"yanchor\": \"bottom\", \"yref\": \"paper\"}, {\"font\": {\"size\": 16}, \"showarrow\": false, \"text\": \"Testing Precision\", \"x\": 0.6312500000000001, \"xanchor\": \"center\", \"xref\": \"paper\", \"y\": 0.375, \"yanchor\": \"bottom\", \"yref\": \"paper\"}, {\"font\": {\"size\": 16}, \"showarrow\": false, \"text\": \"Testing Recall\", \"x\": 0.89375, \"xanchor\": \"center\", \"xref\": \"paper\", \"y\": 0.375, \"yanchor\": \"bottom\", \"yref\": \"paper\"}], \"xaxis\": {\"anchor\": \"y\", \"domain\": [0.0, 0.2125], \"type\": \"category\"}, \"yaxis\": {\"anchor\": \"x\", \"domain\": [0.625, 1.0]}, \"xaxis2\": {\"anchor\": \"y2\", \"domain\": [0.2625, 0.475], \"type\": \"category\"}, \"yaxis2\": {\"anchor\": \"x2\", \"domain\": [0.625, 1.0]}, \"xaxis3\": {\"anchor\": \"y3\", \"domain\": [0.525, 0.7375], \"type\": \"category\"}, \"yaxis3\": {\"anchor\": \"x3\", \"domain\": [0.625, 1.0]}, \"xaxis4\": {\"anchor\": \"y4\", \"domain\": [0.7875, 1.0], \"type\": \"category\"}, \"yaxis4\": {\"anchor\": \"x4\", \"domain\": [0.625, 1.0]}, \"xaxis5\": {\"anchor\": \"y5\", \"domain\": [0.0, 0.2125], \"type\": \"category\"}, \"yaxis5\": {\"anchor\": \"x5\", \"domain\": [0.0, 0.375]}, \"xaxis6\": {\"anchor\": \"y6\", \"domain\": [0.2625, 0.475], \"type\": \"category\"}, \"yaxis6\": {\"anchor\": \"x6\", \"domain\": [0.0, 0.375]}, \"xaxis7\": {\"anchor\": \"y7\", \"domain\": [0.525, 0.7375], \"type\": \"category\"}, \"yaxis7\": {\"anchor\": \"x7\", \"domain\": [0.0, 0.375]}, \"xaxis8\": {\"anchor\": \"y8\", \"domain\": [0.7875, 1.0], \"type\": \"category\"}, \"yaxis8\": {\"anchor\": \"x8\", \"domain\": [0.0, 0.375]}}, {\"showLink\": true, \"linkText\": \"Export to plot.ly\", \"plotlyServerURL\": \"https://plot.ly\"})});</script><script type=\"text/javascript\">window.addEventListener(\"resize\", function(){window._Plotly.Plots.resize(document.getElementById(\"951400d8-a627-49ba-95fe-3fadf2d265a6\"));});</script>"
      ],
      "text/vnd.plotly.v1+html": [
       "<div id=\"951400d8-a627-49ba-95fe-3fadf2d265a6\" style=\"height: 525px; width: 100%;\" class=\"plotly-graph-div\"></div><script type=\"text/javascript\">require([\"plotly\"], function(Plotly) { window.PLOTLYENV=window.PLOTLYENV || {};window.PLOTLYENV.BASE_URL=\"https://plot.ly\";Plotly.newPlot(\"951400d8-a627-49ba-95fe-3fadf2d265a6\", [{\"legendgroup\": \"AdaBoostClassifier\", \"marker\": {\"color\": \"#1f77b4\"}, \"name\": \"AdaBoostClassifier\", \"showlegend\": true, \"x\": [\"2%\", \"20%\", \"100%\"], \"y\": [0.641, 0.609, 0.595], \"type\": \"bar\", \"uid\": \"9a556d67-a50a-4263-8963-a59a3a5720d4\", \"xaxis\": \"x\", \"yaxis\": \"y\"}, {\"legendgroup\": \"GradientBoostingClassifier\", \"marker\": {\"color\": \"#ff7f0e\"}, \"name\": \"GradientBoostingClassifier\", \"showlegend\": true, \"x\": [\"2%\", \"20%\", \"100%\"], \"y\": [0.763, 0.648, 0.618], \"type\": \"bar\", \"uid\": \"39c2f353-6d38-4789-8ebb-fbf4bd7596cc\", \"xaxis\": \"x\", \"yaxis\": \"y\"}, {\"legendgroup\": \"RandomForestClassifier\", \"marker\": {\"color\": \"#2ca02c\"}, \"name\": \"RandomForestClassifier\", \"showlegend\": true, \"x\": [\"2%\", \"20%\", \"100%\"], \"y\": [0.882, 0.966, 0.93], \"type\": \"bar\", \"uid\": \"080032d3-68bb-4877-811c-a89237bc840d\", \"xaxis\": \"x\", \"yaxis\": \"y\"}, {\"legendgroup\": \"DecisionTreeClassifier\", \"marker\": {\"color\": \"#d62728\"}, \"name\": \"DecisionTreeClassifier\", \"showlegend\": true, \"x\": [\"2%\", \"20%\", \"100%\"], \"y\": [0.914, 0.988, 0.949], \"type\": \"bar\", \"uid\": \"ec0327f7-e6e4-4de9-8022-03447a8d7089\", \"xaxis\": \"x\", \"yaxis\": \"y\"}, {\"legendgroup\": \"AdaBoostClassifier\", \"marker\": {\"color\": \"#1f77b4\"}, \"name\": \"AdaBoostClassifier\", \"showlegend\": false, \"x\": [\"2%\", \"20%\", \"100%\"], \"y\": [0.5945417637771596, 0.6154424479362454, 0.6238628674535749], \"type\": \"bar\", \"uid\": \"1cc53fa8-0ed9-41fb-9371-d1bbf60fc0b1\", \"xaxis\": \"x5\", \"yaxis\": \"y5\"}, {\"legendgroup\": \"GradientBoostingClassifier\", \"marker\": {\"color\": \"#ff7f0e\"}, \"name\": \"GradientBoostingClassifier\", \"showlegend\": false, \"x\": [\"2%\", \"20%\", \"100%\"], \"y\": [0.5883768137734005, 0.6115329674460567, 0.6234117735508609], \"type\": \"bar\", \"uid\": \"466af2a8-b7a0-486d-8b30-0965eb2a0e8c\", \"xaxis\": \"x5\", \"yaxis\": \"y5\"}, {\"legendgroup\": \"RandomForestClassifier\", \"marker\": {\"color\": \"#2ca02c\"}, \"name\": \"RandomForestClassifier\", \"showlegend\": false, \"x\": [\"2%\", \"20%\", \"100%\"], \"y\": [0.5669498533944817, 0.56326591985565, 0.5574768814374859], \"type\": \"bar\", \"uid\": \"2498219d-e868-4480-b26f-53286e274fe8\", \"xaxis\": \"x5\", \"yaxis\": \"y5\"}, {\"legendgroup\": \"DecisionTreeClassifier\", \"marker\": {\"color\": \"#d62728\"}, \"name\": \"DecisionTreeClassifier\", \"showlegend\": false, \"x\": [\"2%\", \"20%\", \"100%\"], \"y\": [0.5421396887452071, 0.5315389820314262, 0.5399594015487558], \"type\": \"bar\", \"uid\": \"6648a204-13e1-4d16-ae09-79e34b40e499\", \"xaxis\": \"x5\", \"yaxis\": \"y5\"}, {\"legendgroup\": \"AdaBoostClassifier\", \"marker\": {\"color\": \"#1f77b4\"}, \"name\": \"AdaBoostClassifier\", \"showlegend\": false, \"x\": [\"2%\", \"20%\", \"100%\"], \"y\": [0.5523627075351213, 0.5122235157159487, 0.5026737967914439], \"type\": \"bar\", \"uid\": \"36054c26-b02f-4062-9253-6007cbc81195\", \"xaxis\": \"x2\", \"yaxis\": \"y2\"}, {\"legendgroup\": \"GradientBoostingClassifier\", \"marker\": {\"color\": \"#ff7f0e\"}, \"name\": \"GradientBoostingClassifier\", \"showlegend\": false, \"x\": [\"2%\", \"20%\", \"100%\"], \"y\": [0.7429099876695439, 0.5649188514357054, 0.5260115606936416], \"type\": \"bar\", \"uid\": \"5f7e64d9-c24f-464b-af0a-7e2ab8aa56db\", \"xaxis\": \"x2\", \"yaxis\": \"y2\"}, {\"legendgroup\": \"RandomForestClassifier\", \"marker\": {\"color\": \"#2ca02c\"}, \"name\": \"RandomForestClassifier\", \"showlegend\": false, \"x\": [\"2%\", \"20%\", \"100%\"], \"y\": [0.8792924037460979, 0.9671890303623897, 0.9231145935357494], \"type\": \"bar\", \"uid\": \"a83f01fa-d2f4-4e3f-85d7-af3a80ba2e7e\", \"xaxis\": \"x2\", \"yaxis\": \"y2\"}, {\"legendgroup\": \"DecisionTreeClassifier\", \"marker\": {\"color\": \"#d62728\"}, \"name\": \"DecisionTreeClassifier\", \"showlegend\": false, \"x\": [\"2%\", \"20%\", \"100%\"], \"y\": [0.9057255676209279, 0.9941234084231144, 0.9700315457413251], \"type\": \"bar\", \"uid\": \"d8b06128-23be-4c37-9cc9-2152c673cc1f\", \"xaxis\": \"x2\", \"yaxis\": \"y2\"}, {\"legendgroup\": \"AdaBoostClassifier\", \"marker\": {\"color\": \"#1f77b4\"}, \"name\": \"AdaBoostClassifier\", \"showlegend\": false, \"x\": [\"2%\", \"20%\", \"100%\"], \"y\": [0.5044035228182546, 0.5435778815519574, 0.5598685561716985], \"type\": \"bar\", \"uid\": \"40cc1d91-6662-421b-9f05-197b66c79f14\", \"xaxis\": \"x6\", \"yaxis\": \"y6\"}, {\"legendgroup\": \"GradientBoostingClassifier\", \"marker\": {\"color\": \"#ff7f0e\"}, \"name\": \"GradientBoostingClassifier\", \"showlegend\": false, \"x\": [\"2%\", \"20%\", \"100%\"], \"y\": [0.49007171781236286, 0.5325457493629836, 0.5557718091778037], \"type\": \"bar\", \"uid\": \"690b7e8d-0e9c-47a8-9ca6-013947b5313b\", \"xaxis\": \"x6\", \"yaxis\": \"y6\"}, {\"legendgroup\": \"RandomForestClassifier\", \"marker\": {\"color\": \"#2ca02c\"}, \"name\": \"RandomForestClassifier\", \"showlegend\": false, \"x\": [\"2%\", \"20%\", \"100%\"], \"y\": [0.4701482569787632, 0.4732605672384002, 0.47819019235979415], \"type\": \"bar\", \"uid\": \"620b6dea-e4c3-43f9-9e42-2a6be5d13e94\", \"xaxis\": \"x6\", \"yaxis\": \"y6\"}, {\"legendgroup\": \"DecisionTreeClassifier\", \"marker\": {\"color\": \"#d62728\"}, \"name\": \"DecisionTreeClassifier\", \"showlegend\": false, \"x\": [\"2%\", \"20%\", \"100%\"], \"y\": [0.4651810584958218, 0.46393357550596787, 0.471194066575275], \"type\": \"bar\", \"uid\": \"9da43138-c384-4b47-bfef-d0cce572a575\", \"xaxis\": \"x6\", \"yaxis\": \"y6\"}, {\"legendgroup\": \"AdaBoostClassifier\", \"marker\": {\"color\": \"#1f77b4\"}, \"name\": \"AdaBoostClassifier\", \"showlegend\": false, \"x\": [\"2%\", \"20%\", \"100%\"], \"y\": [0.6027874564459931, 0.5415384615384615, 0.5179063360881543], \"type\": \"bar\", \"uid\": \"628fc536-7327-4665-80e1-96279e902388\", \"xaxis\": \"x3\", \"yaxis\": \"y3\"}, {\"legendgroup\": \"GradientBoostingClassifier\", \"marker\": {\"color\": \"#ff7f0e\"}, \"name\": \"GradientBoostingClassifier\", \"showlegend\": false, \"x\": [\"2%\", \"20%\", \"100%\"], \"y\": [0.8006644518272426, 0.6114864864864865, 0.5548780487804879], \"type\": \"bar\", \"uid\": \"9b902fe2-b069-4f1d-8980-341ecabbca96\", \"xaxis\": \"x3\", \"yaxis\": \"y3\"}, {\"legendgroup\": \"RandomForestClassifier\", \"marker\": {\"color\": \"#2ca02c\"}, \"name\": \"RandomForestClassifier\", \"showlegend\": false, \"x\": [\"2%\", \"20%\", \"100%\"], \"y\": [0.898936170212766, 0.9729064039408867, 0.9285714285714286], \"type\": \"bar\", \"uid\": \"ddec650c-98e7-496b-9095-cc936beba14e\", \"xaxis\": \"x3\", \"yaxis\": \"y3\"}, {\"legendgroup\": \"DecisionTreeClassifier\", \"marker\": {\"color\": \"#d62728\"}, \"name\": \"DecisionTreeClassifier\", \"showlegend\": false, \"x\": [\"2%\", \"20%\", \"100%\"], \"y\": [0.9129353233830846, 1.0, 0.9946091644204852], \"type\": \"bar\", \"uid\": \"3a592f3b-549f-4dcc-a1bd-fe8058e3c508\", \"xaxis\": \"x3\", \"yaxis\": \"y3\"}, {\"legendgroup\": \"AdaBoostClassifier\", \"marker\": {\"color\": \"#1f77b4\"}, \"name\": \"AdaBoostClassifier\", \"showlegend\": false, \"x\": [\"2%\", \"20%\", \"100%\"], \"y\": [0.5560747663551402, 0.5830992509363296, 0.588768898488121], \"type\": \"bar\", \"uid\": \"74e19a0a-3f31-4dc9-9269-397b5dd9da37\", \"xaxis\": \"x7\", \"yaxis\": \"y7\"}, {\"legendgroup\": \"GradientBoostingClassifier\", \"marker\": {\"color\": \"#ff7f0e\"}, \"name\": \"GradientBoostingClassifier\", \"showlegend\": false, \"x\": [\"2%\", \"20%\", \"100%\"], \"y\": [0.5477099236641222, 0.583502538071066, 0.5943570767807586], \"type\": \"bar\", \"uid\": \"6845d65b-25b3-44f1-8df2-29e775b0555e\", \"xaxis\": \"x7\", \"yaxis\": \"y7\"}, {\"legendgroup\": \"RandomForestClassifier\", \"marker\": {\"color\": \"#2ca02c\"}, \"name\": \"RandomForestClassifier\", \"showlegend\": false, \"x\": [\"2%\", \"20%\", \"100%\"], \"y\": [0.5078143784563597, 0.501787310098302, 0.4939036578053168], \"type\": \"bar\", \"uid\": \"33045d77-19bc-4a0d-85e2-555f1b6638ee\", \"xaxis\": \"x7\", \"yaxis\": \"y7\"}, {\"legendgroup\": \"DecisionTreeClassifier\", \"marker\": {\"color\": \"#d62728\"}, \"name\": \"DecisionTreeClassifier\", \"showlegend\": false, \"x\": [\"2%\", \"20%\", \"100%\"], \"y\": [0.47488151658767774, 0.46481802426343155, 0.474009900990099], \"type\": \"bar\", \"uid\": \"3b3409b3-b643-4333-9222-5f18c0d363f3\", \"xaxis\": \"x7\", \"yaxis\": \"y7\"}, {\"legendgroup\": \"AdaBoostClassifier\", \"marker\": {\"color\": \"#1f77b4\"}, \"name\": \"AdaBoostClassifier\", \"showlegend\": false, \"x\": [\"2%\", \"20%\", \"100%\"], \"y\": [0.4138755980861244, 0.42105263157894735, 0.44976076555023925], \"type\": \"bar\", \"uid\": \"68819f99-97c6-4089-aad4-f689856256be\", \"xaxis\": \"x4\", \"yaxis\": \"y4\"}, {\"legendgroup\": \"GradientBoostingClassifier\", \"marker\": {\"color\": \"#ff7f0e\"}, \"name\": \"GradientBoostingClassifier\", \"showlegend\": false, \"x\": [\"2%\", \"20%\", \"100%\"], \"y\": [0.5765550239234449, 0.43301435406698563, 0.4354066985645933], \"type\": \"bar\", \"uid\": \"3bae266a-bc83-455d-8304-435bcfe0690c\", \"xaxis\": \"x4\", \"yaxis\": \"y4\"}, {\"legendgroup\": \"RandomForestClassifier\", \"marker\": {\"color\": \"#2ca02c\"}, \"name\": \"RandomForestClassifier\", \"showlegend\": false, \"x\": [\"2%\", \"20%\", \"100%\"], \"y\": [0.8086124401913876, 0.9449760765550239, 0.9019138755980861], \"type\": \"bar\", \"uid\": \"a8f26b3e-4fe2-404a-8925-f00099a70d6c\", \"xaxis\": \"x4\", \"yaxis\": \"y4\"}, {\"legendgroup\": \"DecisionTreeClassifier\", \"marker\": {\"color\": \"#d62728\"}, \"name\": \"DecisionTreeClassifier\", \"showlegend\": false, \"x\": [\"2%\", \"20%\", \"100%\"], \"y\": [0.8779904306220095, 0.9712918660287081, 0.8827751196172249], \"type\": \"bar\", \"uid\": \"cd1373a1-b34c-4667-843d-290bc498261c\", \"xaxis\": \"x4\", \"yaxis\": \"y4\"}, {\"legendgroup\": \"AdaBoostClassifier\", \"marker\": {\"color\": \"#1f77b4\"}, \"name\": \"AdaBoostClassifier\", \"showlegend\": false, \"x\": [\"2%\", \"20%\", \"100%\"], \"y\": [0.367725321888412, 0.42763948497854076, 0.46798283261802576], \"type\": \"bar\", \"uid\": \"d6a3d0fb-f7c8-48d7-b45f-a7ea03bfa4c2\", \"xaxis\": \"x8\", \"yaxis\": \"y8\"}, {\"legendgroup\": \"GradientBoostingClassifier\", \"marker\": {\"color\": \"#ff7f0e\"}, \"name\": \"GradientBoostingClassifier\", \"showlegend\": false, \"x\": [\"2%\", \"20%\", \"100%\"], \"y\": [0.34489270386266097, 0.3946781115879828, 0.4412017167381974], \"type\": \"bar\", \"uid\": \"0793458f-5f3f-41bd-a504-3f8ac0130894\", \"xaxis\": \"x8\", \"yaxis\": \"y8\"}, {\"legendgroup\": \"RandomForestClassifier\", \"marker\": {\"color\": \"#2ca02c\"}, \"name\": \"RandomForestClassifier\", \"showlegend\": false, \"x\": [\"2%\", \"20%\", \"100%\"], \"y\": [0.36257510729613734, 0.3855793991416309, 0.424206008583691], \"type\": \"bar\", \"uid\": \"017c23af-3424-4493-8a8d-316779484376\", \"xaxis\": \"x8\", \"yaxis\": \"y8\"}, {\"legendgroup\": \"DecisionTreeClassifier\", \"marker\": {\"color\": \"#d62728\"}, \"name\": \"DecisionTreeClassifier\", \"showlegend\": false, \"x\": [\"2%\", \"20%\", \"100%\"], \"y\": [0.43004291845493564, 0.4604291845493562, 0.46025751072961374], \"type\": \"bar\", \"uid\": \"a419614a-e791-4713-b7ec-cdc52bba8a10\", \"xaxis\": \"x8\", \"yaxis\": \"y8\"}], {\"annotations\": [{\"font\": {\"size\": 16}, \"showarrow\": false, \"text\": \"Training Accuracy\", \"x\": 0.10625, \"xanchor\": \"center\", \"xref\": \"paper\", \"y\": 1.0, \"yanchor\": \"bottom\", \"yref\": \"paper\"}, {\"font\": {\"size\": 16}, \"showarrow\": false, \"text\": \"Training F-Score\", \"x\": 0.36875, \"xanchor\": \"center\", \"xref\": \"paper\", \"y\": 1.0, \"yanchor\": \"bottom\", \"yref\": \"paper\"}, {\"font\": {\"size\": 16}, \"showarrow\": false, \"text\": \"Training Precision\", \"x\": 0.6312500000000001, \"xanchor\": \"center\", \"xref\": \"paper\", \"y\": 1.0, \"yanchor\": \"bottom\", \"yref\": \"paper\"}, {\"font\": {\"size\": 16}, \"showarrow\": false, \"text\": \"Training Recall\", \"x\": 0.89375, \"xanchor\": \"center\", \"xref\": \"paper\", \"y\": 1.0, \"yanchor\": \"bottom\", \"yref\": \"paper\"}, {\"font\": {\"size\": 16}, \"showarrow\": false, \"text\": \"Testing Accuracy\", \"x\": 0.10625, \"xanchor\": \"center\", \"xref\": \"paper\", \"y\": 0.375, \"yanchor\": \"bottom\", \"yref\": \"paper\"}, {\"font\": {\"size\": 16}, \"showarrow\": false, \"text\": \"Testing F-Score\", \"x\": 0.36875, \"xanchor\": \"center\", \"xref\": \"paper\", \"y\": 0.375, \"yanchor\": \"bottom\", \"yref\": \"paper\"}, {\"font\": {\"size\": 16}, \"showarrow\": false, \"text\": \"Testing Precision\", \"x\": 0.6312500000000001, \"xanchor\": \"center\", \"xref\": \"paper\", \"y\": 0.375, \"yanchor\": \"bottom\", \"yref\": \"paper\"}, {\"font\": {\"size\": 16}, \"showarrow\": false, \"text\": \"Testing Recall\", \"x\": 0.89375, \"xanchor\": \"center\", \"xref\": \"paper\", \"y\": 0.375, \"yanchor\": \"bottom\", \"yref\": \"paper\"}], \"xaxis\": {\"anchor\": \"y\", \"domain\": [0.0, 0.2125], \"type\": \"category\"}, \"yaxis\": {\"anchor\": \"x\", \"domain\": [0.625, 1.0]}, \"xaxis2\": {\"anchor\": \"y2\", \"domain\": [0.2625, 0.475], \"type\": \"category\"}, \"yaxis2\": {\"anchor\": \"x2\", \"domain\": [0.625, 1.0]}, \"xaxis3\": {\"anchor\": \"y3\", \"domain\": [0.525, 0.7375], \"type\": \"category\"}, \"yaxis3\": {\"anchor\": \"x3\", \"domain\": [0.625, 1.0]}, \"xaxis4\": {\"anchor\": \"y4\", \"domain\": [0.7875, 1.0], \"type\": \"category\"}, \"yaxis4\": {\"anchor\": \"x4\", \"domain\": [0.625, 1.0]}, \"xaxis5\": {\"anchor\": \"y5\", \"domain\": [0.0, 0.2125], \"type\": \"category\"}, \"yaxis5\": {\"anchor\": \"x5\", \"domain\": [0.0, 0.375]}, \"xaxis6\": {\"anchor\": \"y6\", \"domain\": [0.2625, 0.475], \"type\": \"category\"}, \"yaxis6\": {\"anchor\": \"x6\", \"domain\": [0.0, 0.375]}, \"xaxis7\": {\"anchor\": \"y7\", \"domain\": [0.525, 0.7375], \"type\": \"category\"}, \"yaxis7\": {\"anchor\": \"x7\", \"domain\": [0.0, 0.375]}, \"xaxis8\": {\"anchor\": \"y8\", \"domain\": [0.7875, 1.0], \"type\": \"category\"}, \"yaxis8\": {\"anchor\": \"x8\", \"domain\": [0.0, 0.375]}}, {\"showLink\": true, \"linkText\": \"Export to plot.ly\", \"plotlyServerURL\": \"https://plot.ly\"})});</script><script type=\"text/javascript\">window.addEventListener(\"resize\", function(){window._Plotly.Plots.resize(document.getElementById(\"951400d8-a627-49ba-95fe-3fadf2d265a6\"));});</script>"
      ]
     },
     "metadata": {},
     "output_type": "display_data"
    }
   ],
   "source": [
    "fig = make_subplots(rows=2, cols=4, subplot_titles=('Training Accuracy', 'Training F-Score', 'Training Precision', 'Training Recall',\n",
    "                                                    'Testing Accuracy', 'Testing F-Score', 'Testing Precision', 'Testing Recall'))\n",
    "trace_dict = {}\n",
    "title_dict = {}\n",
    "for i, metric in enumerate(['acc', 'f', 'prec', 'rec']):\n",
    "    for j, tt in enumerate(['train', 'test']):\n",
    "        trace_dict[(j+1, i+1)] = []\n",
    "        for (clf_name, results_by_size), color in zip(results.items(), ['#1f77b4', '#ff7f0e', '#2ca02c', '#d62728']):\n",
    "            trace = go.Bar(name=clf_name, x=['2%', '20%', '100%'], y=[results_by_size[s][f'{tt}_{metric}'] for s in sizes],\n",
    "                          legendgroup=clf_name, showlegend=(i==0 and j==0), marker={'color':color})\n",
    "            trace_dict[(j+1, i+1)].append(trace)\n",
    "        title_dict[(j+1, i+1)] = f'{tt}_{metric}'\n",
    "for (r, c), traces in trace_dict.items():\n",
    "    for trace in traces:\n",
    "        fig.append_trace(trace, row=r, col=c)\n",
    "    #title = title_dict[(r,c)]\n",
    "    if r==1 and c==1:\n",
    "        fig.update({'layout':{'xaxis':{'type':'category'}}})\n",
    "    else:\n",
    "        fig.update({'layout':{f'xaxis{(r-1)*4 + c}':{'type':'category'}}})\n",
    "iplot(fig)"
   ]
  },
  {
   "cell_type": "markdown",
   "metadata": {},
   "source": [
    "of the four models we have chosen AdaBoost seems to attain the best F-score. GradientBoosting also seems to be a very good candidate with higher precision than AdaBoost on large training sizes. RandomForest and DecisionTree seem to overfit to the data since their training scores on each of the metrics are higher but the test scores are lower compared to the other two models."
   ]
  },
  {
   "cell_type": "markdown",
   "metadata": {},
   "source": [
    "### Model Tuning\n",
    "- Next we go ahead with the AdaBoost Classifier and attempt to tune the parameters by performing a grid search. We pick 2 parameters the learning rate and the number of estimators"
   ]
  },
  {
   "cell_type": "code",
   "execution_count": 174,
   "metadata": {
    "ExecuteTime": {
     "end_time": "2019-08-28T01:53:04.833911Z",
     "start_time": "2019-08-28T01:53:04.820475Z"
    },
    "collapsed": true
   },
   "outputs": [],
   "source": [
    "from sklearn.model_selection import GridSearchCV\n",
    "from sklearn.metrics import make_scorer\n",
    "\n",
    "clf = AdaBoostClassifier()\n",
    "\n",
    "parameters = {'learning_rate': [1.0, 0.9, 0.5, 0.25],\n",
    "               'n_estimators':[25,50,100,200] }\n",
    "\n",
    "scorer = make_scorer(fbeta_score, beta=0.5)\n",
    "grid_search = GridSearchCV(clf, param_grid=parameters, scoring=scorer)"
   ]
  },
  {
   "cell_type": "code",
   "execution_count": 175,
   "metadata": {
    "ExecuteTime": {
     "end_time": "2019-08-28T01:54:32.805194Z",
     "start_time": "2019-08-28T01:53:06.206471Z"
    },
    "collapsed": true
   },
   "outputs": [],
   "source": [
    "grid_fit = grid_search.fit(X_train, y_train)"
   ]
  },
  {
   "cell_type": "code",
   "execution_count": 179,
   "metadata": {
    "ExecuteTime": {
     "end_time": "2019-08-28T02:00:03.763854Z",
     "start_time": "2019-08-28T02:00:03.690026Z"
    },
    "collapsed": true
   },
   "outputs": [],
   "source": [
    "opt_clf = grid_fit.best_estimator_\n",
    "\n",
    "opt_pred = opt_clf.predict(X_test)\n",
    "\n",
    "opt_fscore = fbeta_score(y_test, opt_pred, 0.5) \n",
    "opt_accuracy = accuracy_score(y_test, opt_pred)\n",
    "opt_prec = precision_score(y_test, opt_pred)\n",
    "opt_rec = recall_score(y_test, opt_pred)"
   ]
  },
  {
   "cell_type": "code",
   "execution_count": 180,
   "metadata": {
    "ExecuteTime": {
     "end_time": "2019-08-28T02:00:04.940756Z",
     "start_time": "2019-08-28T02:00:04.931950Z"
    }
   },
   "outputs": [
    {
     "data": {
      "text/plain": [
       "(0.55867985714872126,\n",
       " 0.62296067964814672,\n",
       " 0.58739749676305564,\n",
       " 0.46729613733905578)"
      ]
     },
     "execution_count": 180,
     "metadata": {},
     "output_type": "execute_result"
    }
   ],
   "source": [
    "opt_fscore, opt_accuracy, opt_prec, opt_rec"
   ]
  },
  {
   "cell_type": "code",
   "execution_count": 178,
   "metadata": {
    "ExecuteTime": {
     "end_time": "2019-08-28T01:54:32.900213Z",
     "start_time": "2019-08-28T01:54:32.893113Z"
    }
   },
   "outputs": [
    {
     "data": {
      "text/plain": [
       "{'learning_rate': 0.9, 'n_estimators': 25}"
      ]
     },
     "execution_count": 178,
     "metadata": {},
     "output_type": "execute_result"
    }
   ],
   "source": [
    "grid_fit.best_params_"
   ]
  },
  {
   "cell_type": "markdown",
   "metadata": {},
   "source": [
    "- The best parameter combination comes out to be one where we use a maximum of 25 estimators and a learning rate of 0.9\n",
    "- The F-beta score of the tuned model is almost the same as the untuned model, so in this particular case we do not see any improvement by tuing over these parameter sets"
   ]
  },
  {
   "cell_type": "markdown",
   "metadata": {},
   "source": [
    "### Feature Importance\n",
    "- Next we look at the features that were crucial in making the classifier perform as well as it does"
   ]
  },
  {
   "cell_type": "code",
   "execution_count": 135,
   "metadata": {
    "ExecuteTime": {
     "end_time": "2019-08-27T01:31:06.707617Z",
     "start_time": "2019-08-27T01:31:06.701414Z"
    }
   },
   "outputs": [
    {
     "data": {
      "text/plain": [
       "Index(['duration_hours', 'difficulty', 'mobile', 'social', 'email', 'web',\n",
       "       'offer_type_bogo', 'offer_type_discount', 'offer_type_informational',\n",
       "       'age', 'became_member_on', 'gender_M', 'gender_F', 'gender_O',\n",
       "       'income'],\n",
       "      dtype='object')"
      ]
     },
     "execution_count": 135,
     "metadata": {},
     "output_type": "execute_result"
    }
   ],
   "source": [
    "X_train.columns"
   ]
  },
  {
   "cell_type": "code",
   "execution_count": 157,
   "metadata": {
    "ExecuteTime": {
     "end_time": "2019-08-27T01:45:20.683450Z",
     "start_time": "2019-08-27T01:45:20.658881Z"
    }
   },
   "outputs": [
    {
     "data": {
      "text/html": [
       "<div>\n",
       "<style scoped>\n",
       "    .dataframe tbody tr th:only-of-type {\n",
       "        vertical-align: middle;\n",
       "    }\n",
       "\n",
       "    .dataframe tbody tr th {\n",
       "        vertical-align: top;\n",
       "    }\n",
       "\n",
       "    .dataframe thead th {\n",
       "        text-align: right;\n",
       "    }\n",
       "</style>\n",
       "<table border=\"1\" class=\"dataframe\">\n",
       "  <thead>\n",
       "    <tr style=\"text-align: right;\">\n",
       "      <th></th>\n",
       "      <th>feature</th>\n",
       "      <th>score</th>\n",
       "      <th>cumulative_score</th>\n",
       "    </tr>\n",
       "  </thead>\n",
       "  <tbody>\n",
       "    <tr>\n",
       "      <th>0</th>\n",
       "      <td>income</td>\n",
       "      <td>0.40</td>\n",
       "      <td>0.40</td>\n",
       "    </tr>\n",
       "    <tr>\n",
       "      <th>1</th>\n",
       "      <td>became_member_on</td>\n",
       "      <td>0.16</td>\n",
       "      <td>0.56</td>\n",
       "    </tr>\n",
       "    <tr>\n",
       "      <th>2</th>\n",
       "      <td>difficulty</td>\n",
       "      <td>0.12</td>\n",
       "      <td>0.68</td>\n",
       "    </tr>\n",
       "    <tr>\n",
       "      <th>3</th>\n",
       "      <td>age</td>\n",
       "      <td>0.12</td>\n",
       "      <td>0.80</td>\n",
       "    </tr>\n",
       "    <tr>\n",
       "      <th>4</th>\n",
       "      <td>duration_hours</td>\n",
       "      <td>0.08</td>\n",
       "      <td>0.88</td>\n",
       "    </tr>\n",
       "  </tbody>\n",
       "</table>\n",
       "</div>"
      ],
      "text/plain": [
       "            feature  score  cumulative_score\n",
       "0            income   0.40              0.40\n",
       "1  became_member_on   0.16              0.56\n",
       "2        difficulty   0.12              0.68\n",
       "3               age   0.12              0.80\n",
       "4    duration_hours   0.08              0.88"
      ]
     },
     "execution_count": 157,
     "metadata": {},
     "output_type": "execute_result"
    }
   ],
   "source": [
    "feature_scores = list(zip(X_train.columns, opt_clf.feature_importances_))\n",
    "feature_scores = sorted(feature_scores, key=lambda _:-_[1])\n",
    "feature_scores_df= pd.DataFrame(feature_scores, columns=['feature', 'score'])\n",
    "feature_scores_df['cumulative_score'] = feature_scores_df.score.cumsum()\n",
    "feature_scores_df.head()"
   ]
  },
  {
   "cell_type": "code",
   "execution_count": 156,
   "metadata": {
    "ExecuteTime": {
     "end_time": "2019-08-27T01:41:26.008003Z",
     "start_time": "2019-08-27T01:41:25.799809Z"
    }
   },
   "outputs": [
    {
     "data": {
      "application/vnd.plotly.v1+json": {
       "config": {
        "linkText": "Export to plot.ly",
        "plotlyServerURL": "https://plot.ly",
        "showLink": true
       },
       "data": [
        {
         "mode": "lines+markers",
         "type": "scatter",
         "uid": "cb892055-ae25-4077-82e7-7657db968db3",
         "x": [
          "income",
          "became_member_on",
          "difficulty",
          "age",
          "duration_hours",
          "social",
          "offer_type_bogo",
          "gender_M",
          "mobile",
          "email",
          "web",
          "offer_type_discount",
          "offer_type_informational",
          "gender_F",
          "gender_O"
         ],
         "y": [
          0.4,
          0.56,
          0.68,
          0.8,
          0.88,
          0.92,
          0.9600000000000001,
          1,
          1,
          1,
          1,
          1,
          1,
          1,
          1
         ]
        }
       ],
       "layout": {
        "xaxis": {
         "tickangle": -45,
         "tickfont": {
          "size": 10
         }
        }
       }
      },
      "text/html": [
       "<div id=\"28e308a4-8594-49c3-a6c6-f396e371e181\" style=\"height: 525px; width: 100%;\" class=\"plotly-graph-div\"></div><script type=\"text/javascript\">require([\"plotly\"], function(Plotly) { window.PLOTLYENV=window.PLOTLYENV || {};window.PLOTLYENV.BASE_URL=\"https://plot.ly\";Plotly.newPlot(\"28e308a4-8594-49c3-a6c6-f396e371e181\", [{\"mode\": \"lines+markers\", \"x\": [\"income\", \"became_member_on\", \"difficulty\", \"age\", \"duration_hours\", \"social\", \"offer_type_bogo\", \"gender_M\", \"mobile\", \"email\", \"web\", \"offer_type_discount\", \"offer_type_informational\", \"gender_F\", \"gender_O\"], \"y\": [0.4, 0.56, 0.68, 0.8, 0.88, 0.92, 0.9600000000000001, 1.0, 1.0, 1.0, 1.0, 1.0, 1.0, 1.0, 1.0], \"type\": \"scatter\", \"uid\": \"cb892055-ae25-4077-82e7-7657db968db3\"}], {\"xaxis\": {\"tickangle\": -45, \"tickfont\": {\"size\": 10}}}, {\"showLink\": true, \"linkText\": \"Export to plot.ly\", \"plotlyServerURL\": \"https://plot.ly\"})});</script><script type=\"text/javascript\">window.addEventListener(\"resize\", function(){window._Plotly.Plots.resize(document.getElementById(\"28e308a4-8594-49c3-a6c6-f396e371e181\"));});</script>"
      ],
      "text/vnd.plotly.v1+html": [
       "<div id=\"28e308a4-8594-49c3-a6c6-f396e371e181\" style=\"height: 525px; width: 100%;\" class=\"plotly-graph-div\"></div><script type=\"text/javascript\">require([\"plotly\"], function(Plotly) { window.PLOTLYENV=window.PLOTLYENV || {};window.PLOTLYENV.BASE_URL=\"https://plot.ly\";Plotly.newPlot(\"28e308a4-8594-49c3-a6c6-f396e371e181\", [{\"mode\": \"lines+markers\", \"x\": [\"income\", \"became_member_on\", \"difficulty\", \"age\", \"duration_hours\", \"social\", \"offer_type_bogo\", \"gender_M\", \"mobile\", \"email\", \"web\", \"offer_type_discount\", \"offer_type_informational\", \"gender_F\", \"gender_O\"], \"y\": [0.4, 0.56, 0.68, 0.8, 0.88, 0.92, 0.9600000000000001, 1.0, 1.0, 1.0, 1.0, 1.0, 1.0, 1.0, 1.0], \"type\": \"scatter\", \"uid\": \"cb892055-ae25-4077-82e7-7657db968db3\"}], {\"xaxis\": {\"tickangle\": -45, \"tickfont\": {\"size\": 10}}}, {\"showLink\": true, \"linkText\": \"Export to plot.ly\", \"plotlyServerURL\": \"https://plot.ly\"})});</script><script type=\"text/javascript\">window.addEventListener(\"resize\", function(){window._Plotly.Plots.resize(document.getElementById(\"28e308a4-8594-49c3-a6c6-f396e371e181\"));});</script>"
      ]
     },
     "metadata": {},
     "output_type": "display_data"
    }
   ],
   "source": [
    "trace = go.Scatter(\n",
    "    x=feature_scores_df.feature,\n",
    "    y=feature_scores_df.cumulative_score,\n",
    "    mode='lines+markers'\n",
    ")\n",
    "layout = go.Layout({'xaxis':{'tickangle':-45, 'tickfont':{'size':10}}})\n",
    "fig = go.Figure(data=[trace], layout=layout)\n",
    "iplot(fig)"
   ]
  },
  {
   "cell_type": "markdown",
   "metadata": {},
   "source": [
    "- From the above plot we see that the top 5 features contribute to 88% of the importance score in the model. \n",
    "- Income is the top feature that is being used which should not be surprising as we expect lower income groups to be more responsive customers as they try to find the best bargains. Where as the high income group probably do not care about offers all that much.\n",
    "- Gender apparently does not play any role in our classifier, but age does seem to be an important factor\n",
    "- In the next part we try and use only the top 5 features to see if we can improve the performance of the model"
   ]
  },
  {
   "cell_type": "markdown",
   "metadata": {},
   "source": [
    "### Feature Selection"
   ]
  },
  {
   "cell_type": "code",
   "execution_count": 159,
   "metadata": {
    "ExecuteTime": {
     "end_time": "2019-08-27T02:09:14.529482Z",
     "start_time": "2019-08-27T02:09:14.523863Z"
    },
    "collapsed": true
   },
   "outputs": [],
   "source": [
    "from sklearn.base import clone"
   ]
  },
  {
   "cell_type": "code",
   "execution_count": 163,
   "metadata": {
    "ExecuteTime": {
     "end_time": "2019-08-28T01:47:03.620758Z",
     "start_time": "2019-08-28T01:47:03.154120Z"
    }
   },
   "outputs": [
    {
     "name": "stdout",
     "output_type": "stream",
     "text": [
      "F-score after dropping features  0.503554274736\n",
      "F-score before dropping features  0.521013186605\n"
     ]
    }
   ],
   "source": [
    "top_features = ['income', 'became_member_on', 'difficulty', 'age', 'duration_hours']\n",
    "X_train_subset = X_train[top_features].copy()\n",
    "X_test_subset = X_test[top_features].copy()\n",
    "\n",
    "clf = (clone(opt_clf)).fit(X_train_subset, y_train)\n",
    "\n",
    "subset_pred = clf.predict(X_test_subset)\n",
    "print('F-score after dropping features ', f1_score(y_test, subset_pred))\n",
    "print('F-score before dropping features ', opt_fscore)"
   ]
  },
  {
   "cell_type": "markdown",
   "metadata": {},
   "source": [
    "- We are not able to achieve almost the same f-score with just the top 5 features, but it does come fairly close."
   ]
  }
 ],
 "metadata": {
  "kernelspec": {
   "display_name": "Python [conda env:pt36]",
   "language": "python",
   "name": "conda-env-pt36-py"
  },
  "language_info": {
   "codemirror_mode": {
    "name": "ipython",
    "version": 3
   },
   "file_extension": ".py",
   "mimetype": "text/x-python",
   "name": "python",
   "nbconvert_exporter": "python",
   "pygments_lexer": "ipython3",
   "version": "3.6.8"
  }
 },
 "nbformat": 4,
 "nbformat_minor": 2
}
