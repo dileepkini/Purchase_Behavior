{
 "cells": [
  {
   "cell_type": "code",
   "execution_count": 1,
   "metadata": {
    "ExecuteTime": {
     "end_time": "2019-08-21T01:29:02.160558Z",
     "start_time": "2019-08-21T01:28:57.863119Z"
    }
   },
   "outputs": [],
   "source": [
    "import pandas as pd\n",
    "import numpy as np\n",
    "import math\n",
    "import json\n",
    "from collections import deque\n",
    "% matplotlib inline\n",
    "\n",
    "# read in the json files\n",
    "portfolio = pd.read_json('data/portfolio.json', orient='records', lines=True)\n",
    "profile = pd.read_json('data/profile.json', orient='records', lines=True)\n",
    "transcript = pd.read_json('data/transcript.json', orient='records', lines=True)"
   ]
  },
  {
   "cell_type": "markdown",
   "metadata": {
    "ExecuteTime": {
     "end_time": "2019-08-07T03:36:27.286653Z",
     "start_time": "2019-08-07T03:36:27.278192Z"
    }
   },
   "source": [
    "- offers were made on days 0,7,14,17,21,24\n",
    "- 75% of the population received offers each time offers were made\n",
    "    - `received.time.value_counts()/profile.shape[0]`\n",
    "- 75% of all the offers given were viewed\n",
    "    - `viewed.shape[0]/received.shape[0]`\n",
    "- at a given time a person received at most one offer\n",
    "    - `received.groupby('person')['time'].value_counts().value_counts()`\n",
    "- an person might receive the same offer multiple times over the course of 6 weeks\n",
    "    - `received.groupby('person')['id'].value_counts().value_counts()`\n",
    "- There are only 6 people who have not received a single offer"
   ]
  },
  {
   "cell_type": "markdown",
   "metadata": {},
   "source": [
    "If these set of people recived an offer:\n",
    "- would they view it?\n",
    "    - if yes would it encourage/discourage them to complete the offer\n",
    "- would they have completed the offer \n",
    "- or to rephrase the question does viewing the offer have an effect on completing the offer\n",
    "- depends on the person and the type of offer (bogo, discount)\n",
    "- maybe someone will complete the offer only "
   ]
  },
  {
   "cell_type": "markdown",
   "metadata": {},
   "source": [
    "- (view and complete) or (not view and complete) -> 1\n",
    "- does not view or does not complete -> 0\n",
    "- for each (offer, person) we can train a decision tree that tells us whether the person will view and complete the offer"
   ]
  },
  {
   "cell_type": "markdown",
   "metadata": {},
   "source": [
    "## Business understanding (CRISP-DM Step 1)\n",
    "- In this project our goal will be to try and predict if we should show a given offer to a given customer\n",
    "- From a business perspective we want to show offers to those people who satisfy the following conditions\n",
    "    - who are likely to complete the offer if they viewed the offer\n",
    "    - who are not likely to complete the offer if they did not view the offer\n",
    "- The second condition is important because if a customer would complete the offer even without viewing it would mean we need to not have given them the offer in the first place, and starbucks could have saved revenue here.\n",
    "- If we can identify a subset of customers that satisfies both these conditions then by showing these individuals specific offers we can capture revenue that we would have otherwise missed out on."
   ]
  },
  {
   "cell_type": "markdown",
   "metadata": {},
   "source": [
    "### Problem Statement:\n",
    "Our goal will be identify customers which show a strong positive relationship between viewing an offer and completing it. We will call such customer **responsive** customers.\n",
    "We will formulate this as a classification problem where a user will be given a positive label (called responsive) when either\n",
    "1. the user has completed the offer and viewed the offer OR\n",
    "2. the user has not completed the offer and not viewed the offer\n",
    "\n",
    "With such a labeling in place our attempt will be to come up with a classifier that predicts whether a customer is responsive based on the features from the customer and the offer being shown to them.\n",
    "\n",
    "### Strategy\n",
    "- We will begin with 3 different types of classifiers and conduct a preliminary analysis on their ability to perform the required classification\n",
    "- After evaluating the preliminary modeling stage we will pick one out of the 3 and perform a grid search to further optimize the solution\n",
    "\n",
    "### Metrics\n",
    "- In order to evaluate the performance of the classification model we will employ a F-beta score that gives more importance to precision as compared to recall.\n",
    "- This is because there is a cost associated with sending offers to unresponsive customers.\n",
    "    - An unresponsive customer might complete the offer without even seeing it, which means we could have saved money by not showing the customer this offer\n",
    "    - An unresposive cusomter might not complete the offer if they see it, which means the offer is negatively impacting their spending.\n",
    "- With this in mind we will want to minimize the False Positives and hence give more importance to precision rather than recall."
   ]
  },
  {
   "cell_type": "markdown",
   "metadata": {
    "ExecuteTime": {
     "end_time": "2019-08-21T03:35:26.013525Z",
     "start_time": "2019-08-21T03:35:25.770362Z"
    }
   },
   "source": [
    "- viewed and completed"
   ]
  },
  {
   "cell_type": "markdown",
   "metadata": {},
   "source": [
    "## Data understanding (CRISP-DM Step 2)\n",
    "- we have been given data regarding each user which we can make use of as features\n",
    "- starbucks has also provided is with transcripts regarding if/when a user viewed/completed their shown offers.\n",
    "- we can use this to figure out which users actually viewed their offers before completing their offers.\n",
    "    - we have to be careful here though, an offer that was viewed very early and an offer that was viewed late might have different effects on the behavior of the users\n",
    "    - For instance assume a user has completed \\$8 out of \\$10 required to complete an offer before seeing the offer. And if the offer has a reward of \\$4, then then the user might be compelled to go out and spend \\$2 to get a bigger reward. This should not let us bias our answer to say that the we should give such offers to those people.\n",
    "    - We should also be aware that we do not have control over when the user is going to view the offer.\n",
    "- looking at the type of offers that were completed we see that informational offers cannot be completed, since there is no difficulty/reward associated with them. \n",
    "    - So in order to evaluate whether an information offer was effective we will have to see if the individual performed some transaction in the duration corresponding to the informational offer\n",
    "- for bogo/discount orders difficulty/rewards are specified which we can use as features as well"
   ]
  },
  {
   "cell_type": "markdown",
   "metadata": {
    "collapsed": true
   },
   "source": [
    "## Data Preparation  (CRISP-DM Step 3)\n",
    "- are there any missing values?\n",
    "    - the gender and income columns in the profile seem to be have missing values\n",
    "    - if a row is missing gender then it is missing income and vice versa\n",
    "    - we choose to drop these users out of our analysis\n",
    "    - another thing we observe is that there are users who have not been shown a single offer\n",
    "- are there any duplicate values?\n",
    "    - There are users who might receive the same offer twice, and both of them can be marked complete using a common set of transactions.\n",
    "- are there any categorical variables?\n",
    "    - the offers in the portfolios have channels and offer_type which we will convert into dummy variables\n",
    "- are there variables that need cleaning?\n",
    "    - each transaction type has a different type of value stored as a dict, we wil need to extract the data into separate columns\n",
    "    - since a user might be shown the same offer more than once, we need to make sure that we use the time columns to identify which offer receivals are related to which offer views and completions"
   ]
  },
  {
   "cell_type": "code",
   "execution_count": 2,
   "metadata": {
    "ExecuteTime": {
     "end_time": "2019-08-21T01:29:03.030702Z",
     "start_time": "2019-08-21T01:29:02.162512Z"
    }
   },
   "outputs": [],
   "source": [
    "def attach_dict_cols(df, event, col='value'):\n",
    "    \"\"\"\n",
    "    A helper function to clean the transactions data.\n",
    "    \n",
    "    Args:\n",
    "        df: A dataframe that contains all the transactions\n",
    "        event: the type of event we want to filter and clean. This should be one of the values in the 'event' column in df\n",
    "        col: The column which contains the dict describing the various attributes of this event\n",
    "    Returns:\n",
    "        A dataframe of the specific event with the dict in the value col transformed to separate columns.\n",
    "    \"\"\"\n",
    "    df = df[df['event'] == event].copy()\n",
    "    attributes = pd.DataFrame(list(df[col]), index=df.index)\n",
    "    attributes.columns = [col.replace(' ', '_') for col in attributes.columns]\n",
    "    df = pd.concat([df.drop('value', axis=1), attributes], axis=1, sort=False).reset_index(drop=True)\n",
    "    return df\n",
    "\n",
    "transcript['transcript_id'] = np.arange(transcript.shape[0])\n",
    "received = attach_dict_cols(transcript, 'offer received')\n",
    "viewed = attach_dict_cols(transcript, 'offer viewed')\n",
    "completed = attach_dict_cols(transcript, 'offer completed')\n",
    "transaction = attach_dict_cols(transcript, 'transaction')\n",
    "\n",
    "#received.groupby('offer_id')['time'].value_counts().unstack()"
   ]
  },
  {
   "cell_type": "code",
   "execution_count": 3,
   "metadata": {
    "ExecuteTime": {
     "end_time": "2019-08-21T01:29:03.514228Z",
     "start_time": "2019-08-21T01:29:03.032819Z"
    },
    "collapsed": true
   },
   "outputs": [],
   "source": [
    "portfolio['duration_hours'] = portfolio.duration * 24\n",
    "portfolio['offer_id'] = portfolio.id\n",
    "\n",
    "received['receive_id'] = transcript['transcript_id']\n",
    "received['time_receive'] = received['time']\n",
    "received = pd.merge(received, portfolio[['offer_id', 'duration_hours', 'offer_type', 'difficulty', 'channels']],\n",
    "                    on='offer_id') \n",
    "received['end_time'] = received['time'] + received.duration_hours\n",
    "\n",
    "viewed = pd.merge_asof(viewed, received[['person', 'time', 'offer_id', 'time_receive', 'receive_id']].sort_values('time'),\n",
    "                    by=['person', 'offer_id'], on='time')\n",
    "received = received.drop(['receive_id', 'time'], axis=1)"
   ]
  },
  {
   "cell_type": "code",
   "execution_count": 4,
   "metadata": {
    "ExecuteTime": {
     "end_time": "2019-08-21T01:29:04.833816Z",
     "start_time": "2019-08-21T01:29:03.516613Z"
    },
    "collapsed": true
   },
   "outputs": [],
   "source": [
    "rc = pd.concat([received, completed], sort=False).sort_values('time')\n",
    "\n",
    "rec_dict = {person:{offer:deque() for offer in portfolio.id} for person in profile.id}\n",
    "\n",
    "# loop through all the receives and completes\n",
    "# each time you see a complete find the first receive of the same offer that is still open \n",
    "#rec_dict = person -> offer -> [(transcript_id, end_time)]\n",
    "complete_list = []\n",
    "for tup in (received.itertuples(index=False)):\n",
    "    rec_dict[tup.person][tup.offer_id].append((tup.transcript_id,tup.end_time))\n",
    "\n",
    "for tup in (completed.itertuples(index=False)):\n",
    "    stash = rec_dict[tup.person][tup.offer_id]\n",
    "    found = False\n",
    "    while stash and (not found):\n",
    "        rec = stash.popleft()\n",
    "        if rec[1] >= tup.time:\n",
    "            complete_list.append(rec[0])\n",
    "            found = True\n",
    "    if not found:\n",
    "        raise\n",
    "\n",
    "assert completed.shape[0] == len(complete_list)"
   ]
  },
  {
   "cell_type": "code",
   "execution_count": 5,
   "metadata": {
    "ExecuteTime": {
     "end_time": "2019-08-21T01:29:05.084865Z",
     "start_time": "2019-08-21T01:29:04.836773Z"
    },
    "collapsed": true
   },
   "outputs": [],
   "source": [
    "completed['receive_id'] = complete_list\n",
    "\n",
    "received = received.merge(viewed[['receive_id', 'time']], left_on='transcript_id', right_on='receive_id', \n",
    "                          how='left', suffixes=('', '_view'))\n",
    "\n",
    "received = received.merge(completed[['receive_id', 'time']], left_on='transcript_id', right_on='receive_id',\n",
    "                         how='left', suffixes=('_view', '_complete'))"
   ]
  },
  {
   "cell_type": "code",
   "execution_count": 145,
   "metadata": {
    "ExecuteTime": {
     "end_time": "2019-08-21T03:36:46.823048Z",
     "start_time": "2019-08-21T03:36:46.575011Z"
    },
    "collapsed": true
   },
   "outputs": [],
   "source": [
    "df = received.copy()\n",
    "\n",
    "df['viewed'] = (~df.time_view.isnull())\n",
    "df['completed'] = (~df.time_complete.isnull())\n",
    "\n",
    "channels = set(x for list_ in portfolio.channels.values for x in list_)\n",
    "for channel in channels:\n",
    "    df[channel] = df.channels.apply(lambda _: (channel in _))\n",
    "\n",
    "df['offer_type_dummy'] = df['offer_type']\n",
    "df = pd.get_dummies(df, columns=['offer_type'])"
   ]
  },
  {
   "cell_type": "code",
   "execution_count": 146,
   "metadata": {
    "ExecuteTime": {
     "end_time": "2019-08-21T03:36:47.360529Z",
     "start_time": "2019-08-21T03:36:47.256005Z"
    }
   },
   "outputs": [
    {
     "data": {
      "text/html": [
       "<div>\n",
       "<style scoped>\n",
       "    .dataframe tbody tr th:only-of-type {\n",
       "        vertical-align: middle;\n",
       "    }\n",
       "\n",
       "    .dataframe tbody tr th {\n",
       "        vertical-align: top;\n",
       "    }\n",
       "\n",
       "    .dataframe thead th {\n",
       "        text-align: right;\n",
       "    }\n",
       "</style>\n",
       "<table border=\"1\" class=\"dataframe\">\n",
       "  <thead>\n",
       "    <tr style=\"text-align: right;\">\n",
       "      <th></th>\n",
       "      <th>completed</th>\n",
       "      <th>False</th>\n",
       "      <th>True</th>\n",
       "    </tr>\n",
       "    <tr>\n",
       "      <th>offer_type_dummy</th>\n",
       "      <th>viewed</th>\n",
       "      <th></th>\n",
       "      <th></th>\n",
       "    </tr>\n",
       "  </thead>\n",
       "  <tbody>\n",
       "    <tr>\n",
       "      <th rowspan=\"2\" valign=\"top\">bogo</th>\n",
       "      <th>False</th>\n",
       "      <td>10614.0</td>\n",
       "      <td>11748.0</td>\n",
       "    </tr>\n",
       "    <tr>\n",
       "      <th>True</th>\n",
       "      <td>4216.0</td>\n",
       "      <td>3921.0</td>\n",
       "    </tr>\n",
       "    <tr>\n",
       "      <th rowspan=\"2\" valign=\"top\">discount</th>\n",
       "      <th>False</th>\n",
       "      <td>9740.0</td>\n",
       "      <td>13440.0</td>\n",
       "    </tr>\n",
       "    <tr>\n",
       "      <th>True</th>\n",
       "      <td>2893.0</td>\n",
       "      <td>4470.0</td>\n",
       "    </tr>\n",
       "    <tr>\n",
       "      <th rowspan=\"2\" valign=\"top\">informational</th>\n",
       "      <th>False</th>\n",
       "      <td>11449.0</td>\n",
       "      <td>NaN</td>\n",
       "    </tr>\n",
       "    <tr>\n",
       "      <th>True</th>\n",
       "      <td>3786.0</td>\n",
       "      <td>NaN</td>\n",
       "    </tr>\n",
       "  </tbody>\n",
       "</table>\n",
       "</div>"
      ],
      "text/plain": [
       "completed                  False    True \n",
       "offer_type_dummy viewed                  \n",
       "bogo             False   10614.0  11748.0\n",
       "                 True     4216.0   3921.0\n",
       "discount         False    9740.0  13440.0\n",
       "                 True     2893.0   4470.0\n",
       "informational    False   11449.0      NaN\n",
       "                 True     3786.0      NaN"
      ]
     },
     "execution_count": 146,
     "metadata": {},
     "output_type": "execute_result"
    }
   ],
   "source": [
    "df.groupby(['offer_type_dummy', 'viewed'])['completed'].value_counts().unstack()"
   ]
  },
  {
   "cell_type": "code",
   "execution_count": 147,
   "metadata": {
    "ExecuteTime": {
     "end_time": "2019-08-21T03:36:54.658359Z",
     "start_time": "2019-08-21T03:36:54.639767Z"
    }
   },
   "outputs": [],
   "source": [
    "clean_profile = profile.dropna().copy()\n",
    "clean_profile['person'] = clean_profile['id']"
   ]
  },
  {
   "cell_type": "code",
   "execution_count": 148,
   "metadata": {
    "ExecuteTime": {
     "end_time": "2019-08-21T03:36:56.227666Z",
     "start_time": "2019-08-21T03:36:56.067447Z"
    }
   },
   "outputs": [],
   "source": [
    "clean_profile = pd.get_dummies(clean_profile, columns=['gender'], prefix='gender')\n",
    "profile_cols = ['age', 'became_member_on', 'gender_M', 'gender_O', 'gender_F', 'income', 'person']\n",
    "#profile_cols = ['age', 'became_member_on', 'gender', 'income', 'person']\n",
    "\n",
    "df = pd.merge(df, clean_profile[profile_cols], on='person')"
   ]
  },
  {
   "cell_type": "code",
   "execution_count": 149,
   "metadata": {
    "ExecuteTime": {
     "end_time": "2019-08-21T03:37:00.642149Z",
     "start_time": "2019-08-21T03:37:00.536003Z"
    }
   },
   "outputs": [
    {
     "data": {
      "text/html": [
       "<div>\n",
       "<style scoped>\n",
       "    .dataframe tbody tr th:only-of-type {\n",
       "        vertical-align: middle;\n",
       "    }\n",
       "\n",
       "    .dataframe tbody tr th {\n",
       "        vertical-align: top;\n",
       "    }\n",
       "\n",
       "    .dataframe thead th {\n",
       "        text-align: right;\n",
       "    }\n",
       "</style>\n",
       "<table border=\"1\" class=\"dataframe\">\n",
       "  <thead>\n",
       "    <tr style=\"text-align: right;\">\n",
       "      <th>completed</th>\n",
       "      <th>False</th>\n",
       "      <th>True</th>\n",
       "    </tr>\n",
       "    <tr>\n",
       "      <th>viewed</th>\n",
       "      <th></th>\n",
       "      <th></th>\n",
       "    </tr>\n",
       "  </thead>\n",
       "  <tbody>\n",
       "    <tr>\n",
       "      <th>False</th>\n",
       "      <td>25451</td>\n",
       "      <td>24319</td>\n",
       "    </tr>\n",
       "    <tr>\n",
       "      <th>True</th>\n",
       "      <td>8606</td>\n",
       "      <td>8125</td>\n",
       "    </tr>\n",
       "  </tbody>\n",
       "</table>\n",
       "</div>"
      ],
      "text/plain": [
       "completed  False  True \n",
       "viewed                 \n",
       "False      25451  24319\n",
       "True        8606   8125"
      ]
     },
     "execution_count": 149,
     "metadata": {},
     "output_type": "execute_result"
    }
   ],
   "source": [
    "df.groupby('viewed')['completed'].value_counts().unstack()"
   ]
  },
  {
   "cell_type": "code",
   "execution_count": 150,
   "metadata": {
    "ExecuteTime": {
     "end_time": "2019-08-21T03:40:03.308257Z",
     "start_time": "2019-08-21T03:40:03.298607Z"
    },
    "collapsed": true
   },
   "outputs": [],
   "source": [
    "df['label'] = (df['viewed'] & df['completed']).astype(int)"
   ]
  },
  {
   "cell_type": "code",
   "execution_count": 151,
   "metadata": {
    "ExecuteTime": {
     "end_time": "2019-08-21T03:40:10.531842Z",
     "start_time": "2019-08-21T03:40:10.509630Z"
    }
   },
   "outputs": [
    {
     "data": {
      "text/plain": [
       "duration_hours                int64\n",
       "difficulty                    int64\n",
       "mobile                         bool\n",
       "social                         bool\n",
       "email                          bool\n",
       "web                            bool\n",
       "offer_type_bogo               uint8\n",
       "offer_type_discount           uint8\n",
       "offer_type_informational      uint8\n",
       "age                           int64\n",
       "became_member_on              int64\n",
       "gender_M                      uint8\n",
       "gender_F                      uint8\n",
       "gender_O                      uint8\n",
       "income                      float64\n",
       "label                         int64\n",
       "dtype: object"
      ]
     },
     "execution_count": 151,
     "metadata": {},
     "output_type": "execute_result"
    }
   ],
   "source": [
    "df[['duration_hours', 'difficulty', 'mobile', 'social', 'email', 'web', 'offer_type_bogo', 'offer_type_discount', \n",
    "    'offer_type_informational', 'age', 'became_member_on', 'gender_M','gender_F', 'gender_O', 'income', 'label']].dtypes"
   ]
  },
  {
   "cell_type": "code",
   "execution_count": 152,
   "metadata": {
    "ExecuteTime": {
     "end_time": "2019-08-21T03:40:12.597317Z",
     "start_time": "2019-08-21T03:40:12.592765Z"
    },
    "collapsed": true
   },
   "outputs": [],
   "source": [
    "all_cols = ['duration_hours', 'difficulty', 'mobile', 'social', 'email', 'web', \n",
    "            'offer_type_bogo', 'offer_type_discount', 'offer_type_informational', \n",
    "            'age', 'became_member_on', 'gender_M', 'gender_F', 'gender_O', 'income', 'label']"
   ]
  },
  {
   "cell_type": "code",
   "execution_count": 153,
   "metadata": {
    "ExecuteTime": {
     "end_time": "2019-08-21T03:40:38.686754Z",
     "start_time": "2019-08-21T03:40:38.632954Z"
    }
   },
   "outputs": [],
   "source": [
    "df = df[(df['viewed'] | df['completed'])][all_cols].copy().astype(int)"
   ]
  },
  {
   "cell_type": "code",
   "execution_count": 154,
   "metadata": {
    "ExecuteTime": {
     "end_time": "2019-08-21T03:40:49.195411Z",
     "start_time": "2019-08-21T03:40:49.182648Z"
    }
   },
   "outputs": [
    {
     "data": {
      "text/plain": [
       "0    32925\n",
       "1     8125\n",
       "Name: label, dtype: int64"
      ]
     },
     "execution_count": 154,
     "metadata": {},
     "output_type": "execute_result"
    }
   ],
   "source": [
    "df.label.value_counts()"
   ]
  },
  {
   "cell_type": "code",
   "execution_count": 155,
   "metadata": {
    "ExecuteTime": {
     "end_time": "2019-08-21T03:41:26.758394Z",
     "start_time": "2019-08-21T03:41:26.742785Z"
    }
   },
   "outputs": [],
   "source": [
    "df = df[df.offer_type_informational == 0].copy()"
   ]
  },
  {
   "cell_type": "code",
   "execution_count": 156,
   "metadata": {
    "ExecuteTime": {
     "end_time": "2019-08-21T03:41:27.765295Z",
     "start_time": "2019-08-21T03:41:27.750276Z"
    }
   },
   "outputs": [
    {
     "data": {
      "text/html": [
       "<div>\n",
       "<style scoped>\n",
       "    .dataframe tbody tr th:only-of-type {\n",
       "        vertical-align: middle;\n",
       "    }\n",
       "\n",
       "    .dataframe tbody tr th {\n",
       "        vertical-align: top;\n",
       "    }\n",
       "\n",
       "    .dataframe thead th {\n",
       "        text-align: right;\n",
       "    }\n",
       "</style>\n",
       "<table border=\"1\" class=\"dataframe\">\n",
       "  <thead>\n",
       "    <tr style=\"text-align: right;\">\n",
       "      <th></th>\n",
       "      <th>0</th>\n",
       "    </tr>\n",
       "  </thead>\n",
       "  <tbody>\n",
       "    <tr>\n",
       "      <th>duration_hours</th>\n",
       "      <td>168</td>\n",
       "    </tr>\n",
       "    <tr>\n",
       "      <th>difficulty</th>\n",
       "      <td>5</td>\n",
       "    </tr>\n",
       "    <tr>\n",
       "      <th>mobile</th>\n",
       "      <td>1</td>\n",
       "    </tr>\n",
       "    <tr>\n",
       "      <th>social</th>\n",
       "      <td>0</td>\n",
       "    </tr>\n",
       "    <tr>\n",
       "      <th>email</th>\n",
       "      <td>1</td>\n",
       "    </tr>\n",
       "    <tr>\n",
       "      <th>web</th>\n",
       "      <td>1</td>\n",
       "    </tr>\n",
       "    <tr>\n",
       "      <th>offer_type_bogo</th>\n",
       "      <td>1</td>\n",
       "    </tr>\n",
       "    <tr>\n",
       "      <th>offer_type_discount</th>\n",
       "      <td>0</td>\n",
       "    </tr>\n",
       "    <tr>\n",
       "      <th>offer_type_informational</th>\n",
       "      <td>0</td>\n",
       "    </tr>\n",
       "    <tr>\n",
       "      <th>age</th>\n",
       "      <td>75</td>\n",
       "    </tr>\n",
       "    <tr>\n",
       "      <th>became_member_on</th>\n",
       "      <td>20170509</td>\n",
       "    </tr>\n",
       "    <tr>\n",
       "      <th>gender_M</th>\n",
       "      <td>0</td>\n",
       "    </tr>\n",
       "    <tr>\n",
       "      <th>gender_F</th>\n",
       "      <td>1</td>\n",
       "    </tr>\n",
       "    <tr>\n",
       "      <th>gender_O</th>\n",
       "      <td>0</td>\n",
       "    </tr>\n",
       "    <tr>\n",
       "      <th>income</th>\n",
       "      <td>100000</td>\n",
       "    </tr>\n",
       "    <tr>\n",
       "      <th>label</th>\n",
       "      <td>1</td>\n",
       "    </tr>\n",
       "  </tbody>\n",
       "</table>\n",
       "</div>"
      ],
      "text/plain": [
       "                                 0\n",
       "duration_hours                 168\n",
       "difficulty                       5\n",
       "mobile                           1\n",
       "social                           0\n",
       "email                            1\n",
       "web                              1\n",
       "offer_type_bogo                  1\n",
       "offer_type_discount              0\n",
       "offer_type_informational         0\n",
       "age                             75\n",
       "became_member_on          20170509\n",
       "gender_M                         0\n",
       "gender_F                         1\n",
       "gender_O                         0\n",
       "income                      100000\n",
       "label                            1"
      ]
     },
     "execution_count": 156,
     "metadata": {},
     "output_type": "execute_result"
    }
   ],
   "source": [
    "df.head(1).T"
   ]
  },
  {
   "cell_type": "markdown",
   "metadata": {},
   "source": [
    "## Modeling  (CRISP-DM Step 4)\n",
    "- In this section we will try and predict the labels for customers that have been shown an offer\n",
    "- the label we have assigned is positive when the customer completes and offer if and only if they have been seen the offer\n",
    "- We will split the data into training and test sets \n",
    "- we will then train a AdaBoostClassifier and evaluate its performance on unseen data, the test set"
   ]
  },
  {
   "cell_type": "code",
   "execution_count": 157,
   "metadata": {
    "ExecuteTime": {
     "end_time": "2019-08-21T03:41:33.274093Z",
     "start_time": "2019-08-21T03:41:33.267068Z"
    },
    "collapsed": true
   },
   "outputs": [],
   "source": [
    "from sklearn.model_selection import train_test_split\n",
    "from sklearn.ensemble import AdaBoostClassifier, GradientBoostingClassifier, RandomForestClassifier\n",
    "from sklearn.tree import DecisionTreeClassifier\n",
    "from sklearn.metrics import accuracy_score, precision_score, recall_score, f1_score"
   ]
  },
  {
   "cell_type": "code",
   "execution_count": 158,
   "metadata": {
    "ExecuteTime": {
     "end_time": "2019-08-21T03:41:37.004171Z",
     "start_time": "2019-08-21T03:41:36.980483Z"
    },
    "collapsed": true
   },
   "outputs": [],
   "source": [
    "features = df.drop('label', axis=1)\n",
    "labels = df['label']\n",
    "X_train, X_test, y_train, y_test = train_test_split(features, labels, test_size=0.25, random_state=42)"
   ]
  },
  {
   "cell_type": "code",
   "execution_count": 159,
   "metadata": {
    "ExecuteTime": {
     "end_time": "2019-08-21T03:41:37.686139Z",
     "start_time": "2019-08-21T03:41:37.680187Z"
    },
    "collapsed": true
   },
   "outputs": [],
   "source": [
    "clf = GradientBoostingClassifier(max_depth=4)"
   ]
  },
  {
   "cell_type": "code",
   "execution_count": 160,
   "metadata": {
    "ExecuteTime": {
     "end_time": "2019-08-21T03:41:43.634365Z",
     "start_time": "2019-08-21T03:41:40.893307Z"
    }
   },
   "outputs": [
    {
     "data": {
      "text/plain": [
       "GradientBoostingClassifier(criterion='friedman_mse', init=None,\n",
       "              learning_rate=0.1, loss='deviance', max_depth=4,\n",
       "              max_features=None, max_leaf_nodes=None,\n",
       "              min_impurity_decrease=0.0, min_impurity_split=None,\n",
       "              min_samples_leaf=1, min_samples_split=2,\n",
       "              min_weight_fraction_leaf=0.0, n_estimators=100,\n",
       "              presort='auto', random_state=None, subsample=1.0, verbose=0,\n",
       "              warm_start=False)"
      ]
     },
     "execution_count": 160,
     "metadata": {},
     "output_type": "execute_result"
    }
   ],
   "source": [
    "clf.fit(X_train, y_train)"
   ]
  },
  {
   "cell_type": "code",
   "execution_count": 161,
   "metadata": {
    "ExecuteTime": {
     "end_time": "2019-08-21T03:41:45.884708Z",
     "start_time": "2019-08-21T03:41:45.860011Z"
    },
    "collapsed": true
   },
   "outputs": [],
   "source": [
    "y_pred = clf.predict(X_test)"
   ]
  },
  {
   "cell_type": "code",
   "execution_count": 162,
   "metadata": {
    "ExecuteTime": {
     "end_time": "2019-08-21T03:41:46.387193Z",
     "start_time": "2019-08-21T03:41:46.375768Z"
    }
   },
   "outputs": [
    {
     "data": {
      "text/plain": [
       "0.78492802709568166"
      ]
     },
     "execution_count": 162,
     "metadata": {},
     "output_type": "execute_result"
    }
   ],
   "source": [
    "accuracy_score(y_test, y_pred)"
   ]
  },
  {
   "cell_type": "code",
   "execution_count": 163,
   "metadata": {
    "ExecuteTime": {
     "end_time": "2019-08-21T03:41:48.595026Z",
     "start_time": "2019-08-21T03:41:48.582813Z"
    }
   },
   "outputs": [
    {
     "data": {
      "text/plain": [
       "0.20000000000000001"
      ]
     },
     "execution_count": 163,
     "metadata": {},
     "output_type": "execute_result"
    }
   ],
   "source": [
    "precision_score(y_test, y_pred)"
   ]
  },
  {
   "cell_type": "code",
   "execution_count": 164,
   "metadata": {
    "ExecuteTime": {
     "end_time": "2019-08-21T03:41:51.889403Z",
     "start_time": "2019-08-21T03:41:51.877118Z"
    }
   },
   "outputs": [
    {
     "data": {
      "text/plain": [
       "0.00049285362247412522"
      ]
     },
     "execution_count": 164,
     "metadata": {},
     "output_type": "execute_result"
    }
   ],
   "source": [
    "recall_score(y_test, y_pred)"
   ]
  },
  {
   "cell_type": "code",
   "execution_count": 167,
   "metadata": {
    "ExecuteTime": {
     "end_time": "2019-08-21T03:43:16.663299Z",
     "start_time": "2019-08-21T03:43:16.650537Z"
    }
   },
   "outputs": [
    {
     "data": {
      "text/plain": [
       "0    22247\n",
       "1     6096\n",
       "Name: label, dtype: int64"
      ]
     },
     "execution_count": 167,
     "metadata": {},
     "output_type": "execute_result"
    }
   ],
   "source": [
    "pd.Series(y_train).value_counts()"
   ]
  },
  {
   "cell_type": "code",
   "execution_count": null,
   "metadata": {
    "collapsed": true
   },
   "outputs": [],
   "source": []
  },
  {
   "cell_type": "code",
   "execution_count": null,
   "metadata": {
    "collapsed": true
   },
   "outputs": [],
   "source": [
    "-> view and does not complete \n",
    "-> view and complete\n",
    "-> no view and complete XXX\n",
    "-> no view and no complete"
   ]
  }
 ],
 "metadata": {
  "kernelspec": {
   "display_name": "Python [conda env:pt36]",
   "language": "python",
   "name": "conda-env-pt36-py"
  },
  "language_info": {
   "codemirror_mode": {
    "name": "ipython",
    "version": 3
   },
   "file_extension": ".py",
   "mimetype": "text/x-python",
   "name": "python",
   "nbconvert_exporter": "python",
   "pygments_lexer": "ipython3",
   "version": "3.6.8"
  }
 },
 "nbformat": 4,
 "nbformat_minor": 2
}
