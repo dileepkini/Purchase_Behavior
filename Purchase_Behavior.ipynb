{
 "cells": [
  {
   "cell_type": "code",
   "execution_count": 1,
   "metadata": {
    "ExecuteTime": {
     "end_time": "2019-08-22T03:00:25.069312Z",
     "start_time": "2019-08-22T03:00:20.041578Z"
    },
    "collapsed": true
   },
   "outputs": [],
   "source": [
    "import pandas as pd\n",
    "import numpy as np\n",
    "import math\n",
    "import json\n",
    "from collections import deque\n",
    "% matplotlib inline\n",
    "\n",
    "# read in the json files\n",
    "portfolio = pd.read_json('data/portfolio.json', orient='records', lines=True)\n",
    "profile = pd.read_json('data/profile.json', orient='records', lines=True)\n",
    "transcript = pd.read_json('data/transcript.json', orient='records', lines=True)"
   ]
  },
  {
   "cell_type": "markdown",
   "metadata": {
    "ExecuteTime": {
     "end_time": "2019-08-07T03:36:27.286653Z",
     "start_time": "2019-08-07T03:36:27.278192Z"
    }
   },
   "source": [
    "- offers were made on days 0,7,14,17,21,24\n",
    "- 75% of the population received offers each time offers were made\n",
    "    - `received.time.value_counts()/profile.shape[0]`\n",
    "- 75% of all the offers given were viewed\n",
    "    - `viewed.shape[0]/received.shape[0]`\n",
    "- at a given time a person received at most one offer\n",
    "    - `received.groupby('person')['time'].value_counts().value_counts()`\n",
    "- an person might receive the same offer multiple times over the course of 6 weeks\n",
    "    - `received.groupby('person')['id'].value_counts().value_counts()`\n",
    "- There are only 6 people who have not received a single offer"
   ]
  },
  {
   "cell_type": "markdown",
   "metadata": {},
   "source": [
    "If these set of people recived an offer:\n",
    "- would they view it?\n",
    "    - if yes would it encourage/discourage them to complete the offer\n",
    "- would they have completed the offer \n",
    "- or to rephrase the question does viewing the offer have an effect on completing the offer\n",
    "- depends on the person and the type of offer (bogo, discount)\n",
    "- maybe someone will complete the offer only "
   ]
  },
  {
   "cell_type": "markdown",
   "metadata": {},
   "source": [
    "- (view and complete) or (not view and complete) -> 1\n",
    "- does not view or does not complete -> 0\n",
    "- for each (offer, person) we can train a decision tree that tells us whether the person will view and complete the offer"
   ]
  },
  {
   "cell_type": "markdown",
   "metadata": {},
   "source": [
    "## Business understanding (CRISP-DM Step 1)\n",
    "- In this project our goal will be to try and predict if we should show a given offer to a given customer\n",
    "- From a business perspective we want to show offers to those people who satisfy the following conditions\n",
    "    - who are likely to complete the offer if they viewed the offer\n",
    "    - who are not likely to complete the offer if they did not view the offer\n",
    "- The second condition is important because if a customer would complete the offer even without viewing it would mean we need to not have given them the offer in the first place, and starbucks could have saved revenue here.\n",
    "- If we can identify a subset of customers that satisfies both these conditions then by showing these individuals specific offers we can capture revenue that we would have otherwise missed out on."
   ]
  },
  {
   "cell_type": "markdown",
   "metadata": {},
   "source": [
    "### Problem Statement:\n",
    "Our goal will be identify customers which show a strong positive relationship between viewing an offer and completing it. We will call such customer **responsive** customers.\n",
    "We will formulate this as a classification problem where a user will be given a positive label (called responsive) when either\n",
    "1. the user has completed the offer and viewed the offer OR\n",
    "2. the user has not completed the offer and not viewed the offer\n",
    "\n",
    "With such a labeling in place our attempt will be to come up with a classifier that predicts whether a customer is responsive based on the features from the customer and the offer being shown to them.\n",
    "\n",
    "### Strategy\n",
    "- We will begin with 3 different types of classifiers and conduct a preliminary analysis on their ability to perform the required classification\n",
    "- After evaluating the preliminary modeling stage we will pick one out of the 3 and perform a grid search to further optimize the solution\n",
    "\n",
    "### Metrics\n",
    "- In order to evaluate the performance of the classification model we will employ a F-beta score that gives more importance to precision as compared to recall.\n",
    "- This is because there is a cost associated with sending offers to unresponsive customers.\n",
    "    - An unresponsive customer might complete the offer without even seeing it, which means we could have saved money by not showing the customer this offer\n",
    "    - An unresposive cusomter might not complete the offer if they see it, which means the offer is negatively impacting their spending.\n",
    "- With this in mind we will want to minimize the False Positives and hence give more importance to precision rather than recall."
   ]
  },
  {
   "cell_type": "markdown",
   "metadata": {},
   "source": [
    "## Data understanding (CRISP-DM Step 2)\n",
    "- we have been given data regarding each user which we can make use of as features\n",
    "- starbucks has also provided is with transcripts regarding if/when a user viewed/completed their shown offers.\n",
    "- we can use this to figure out which users actually viewed their offers before completing their offers.\n",
    "    - we have to be careful here though, an offer that was viewed very early and an offer that was viewed late might have different effects on the behavior of the users\n",
    "    - For instance assume a user has completed \\$8 out of \\$10 required to complete an offer before seeing the offer. And if the offer has a reward of \\$4, then then the user might be compelled to go out and spend \\$2 to get a bigger reward. This should not let us bias our answer to say that the we should give such offers to those people.\n",
    "    - We should also be aware that we do not have control over when the user is going to view the offer.\n",
    "- looking at the type of offers that were completed we see that informational offers cannot be completed, since there is no difficulty/reward associated with them. \n",
    "    - So in order to evaluate whether an information offer was effective we will have to see if the individual performed some transaction in the duration corresponding to the informational offer\n",
    "- for bogo/discount orders difficulty/rewards are specified which we can use as features as well"
   ]
  },
  {
   "cell_type": "markdown",
   "metadata": {},
   "source": [
    "## Add some plots"
   ]
  },
  {
   "cell_type": "markdown",
   "metadata": {
    "collapsed": true
   },
   "source": [
    "## Data Preparation  (CRISP-DM Step 3)\n",
    "- are there any missing values?\n",
    "    - the gender and income columns in the profile seem to be have missing values\n",
    "    - if a row is missing gender then it is missing income and vice versa\n",
    "    - we choose to drop these users out of our analysis\n",
    "    - another thing we observe is that there are users who have not been shown a single offer\n",
    "- are there any duplicate values?\n",
    "    - There are users who might receive the same offer twice, and both of them can be marked complete using a common set of transactions.\n",
    "- are there any categorical variables?\n",
    "    - the offers in the portfolios have channels and offer_type which we will convert into dummy variables\n",
    "- are there variables that need cleaning?\n",
    "    - each transaction type has a different type of value stored as a dict, we wil need to extract the data into separate columns\n",
    "    - since a user might be shown the same offer more than once, we need to make sure that we use the time columns to identify which offer receivals are related to which offer views and completions"
   ]
  },
  {
   "cell_type": "code",
   "execution_count": 2,
   "metadata": {
    "ExecuteTime": {
     "end_time": "2019-08-22T03:00:25.943868Z",
     "start_time": "2019-08-22T03:00:25.071439Z"
    },
    "code_folding": [],
    "collapsed": true
   },
   "outputs": [],
   "source": [
    "def attach_dict_cols(df, event, col='value'):\n",
    "    \"\"\"\n",
    "    A helper function to clean the transactions data.\n",
    "    \n",
    "    Args:\n",
    "        df: A dataframe that contains all the transactions\n",
    "        event: the type of event we want to filter and clean. This should be one of the values in the 'event' column in df\n",
    "        col: The column which contains the dict describing the various attributes of this event\n",
    "    Returns:\n",
    "        A dataframe of the specific event with the dict in the value col transformed to separate columns.\n",
    "    \"\"\"\n",
    "    df = df[df['event'] == event].copy()\n",
    "    attributes = pd.DataFrame(list(df[col]), index=df.index)\n",
    "    attributes.columns = [col.replace(' ', '_') for col in attributes.columns]\n",
    "    df = pd.concat([df.drop('value', axis=1), attributes], axis=1, sort=False).reset_index(drop=True)\n",
    "    return df\n",
    "\n",
    "transcript['transcript_id'] = np.arange(transcript.shape[0])\n",
    "received = attach_dict_cols(transcript, 'offer received')\n",
    "viewed = attach_dict_cols(transcript, 'offer viewed')\n",
    "completed = attach_dict_cols(transcript, 'offer completed')\n",
    "transaction = attach_dict_cols(transcript, 'transaction')\n",
    "\n",
    "#received.groupby('offer_id')['time'].value_counts().unstack()"
   ]
  },
  {
   "cell_type": "code",
   "execution_count": 3,
   "metadata": {
    "ExecuteTime": {
     "end_time": "2019-08-22T03:00:26.422938Z",
     "start_time": "2019-08-22T03:00:25.946114Z"
    },
    "collapsed": true
   },
   "outputs": [],
   "source": [
    "portfolio['duration_hours'] = portfolio.duration * 24\n",
    "portfolio['offer_id'] = portfolio.id\n",
    "\n",
    "received['receive_id'] = transcript['transcript_id']\n",
    "received['time_receive'] = received['time']\n",
    "received = pd.merge(received, portfolio[['offer_id', 'duration_hours', 'offer_type', 'difficulty', 'channels']],\n",
    "                    on='offer_id') \n",
    "received['end_time'] = received['time'] + received.duration_hours\n",
    "\n",
    "viewed = pd.merge_asof(viewed, received[['person', 'time', 'offer_id', 'time_receive', 'receive_id']].sort_values('time'),\n",
    "                    by=['person', 'offer_id'], on='time')\n",
    "received = received.drop(['receive_id', 'time'], axis=1)"
   ]
  },
  {
   "cell_type": "code",
   "execution_count": 4,
   "metadata": {
    "ExecuteTime": {
     "end_time": "2019-08-22T03:00:27.683522Z",
     "start_time": "2019-08-22T03:00:26.424944Z"
    },
    "collapsed": true
   },
   "outputs": [],
   "source": [
    "rc = pd.concat([received, completed], sort=False).sort_values('time')\n",
    "\n",
    "rec_dict = {person:{offer:deque() for offer in portfolio.id} for person in profile.id}\n",
    "\n",
    "# loop through all the receives and completes\n",
    "# each time you see a complete find the first receive of the same offer that is still open \n",
    "#rec_dict = person -> offer -> [(transcript_id, end_time)]\n",
    "complete_list = []\n",
    "for tup in (received.itertuples(index=False)):\n",
    "    rec_dict[tup.person][tup.offer_id].append((tup.transcript_id,tup.end_time))\n",
    "\n",
    "for tup in (completed.itertuples(index=False)):\n",
    "    stash = rec_dict[tup.person][tup.offer_id]\n",
    "    found = False\n",
    "    while stash and (not found):\n",
    "        rec = stash.popleft()\n",
    "        if rec[1] >= tup.time:\n",
    "            complete_list.append(rec[0])\n",
    "            found = True\n",
    "    if not found:\n",
    "        raise\n",
    "\n",
    "assert completed.shape[0] == len(complete_list)"
   ]
  },
  {
   "cell_type": "code",
   "execution_count": 5,
   "metadata": {
    "ExecuteTime": {
     "end_time": "2019-08-22T03:00:27.979011Z",
     "start_time": "2019-08-22T03:00:27.687217Z"
    },
    "collapsed": true
   },
   "outputs": [],
   "source": [
    "completed['receive_id'] = complete_list\n",
    "\n",
    "received = received.merge(viewed[['receive_id', 'time']], left_on='transcript_id', right_on='receive_id', \n",
    "                          how='left', suffixes=('', '_view'))\n",
    "\n",
    "received = received.merge(completed[['receive_id', 'time']], left_on='transcript_id', right_on='receive_id',\n",
    "                         how='left', suffixes=('_view', '_complete'))"
   ]
  },
  {
   "cell_type": "code",
   "execution_count": 6,
   "metadata": {
    "ExecuteTime": {
     "end_time": "2019-08-22T03:00:28.310952Z",
     "start_time": "2019-08-22T03:00:27.989711Z"
    },
    "collapsed": true
   },
   "outputs": [],
   "source": [
    "df = received.copy()\n",
    "\n",
    "df['viewed'] = (~df.time_view.isnull())\n",
    "df['completed'] = (~df.time_complete.isnull())\n",
    "\n",
    "channels = set(x for list_ in portfolio.channels.values for x in list_)\n",
    "for channel in channels:\n",
    "    df[channel] = df.channels.apply(lambda _: (channel in _))\n",
    "\n",
    "df['offer_type_dummy'] = df['offer_type']\n",
    "df = pd.get_dummies(df, columns=['offer_type'])"
   ]
  },
  {
   "cell_type": "code",
   "execution_count": 7,
   "metadata": {
    "ExecuteTime": {
     "end_time": "2019-08-22T03:00:28.450642Z",
     "start_time": "2019-08-22T03:00:28.317888Z"
    }
   },
   "outputs": [
    {
     "data": {
      "text/html": [
       "<div>\n",
       "<style scoped>\n",
       "    .dataframe tbody tr th:only-of-type {\n",
       "        vertical-align: middle;\n",
       "    }\n",
       "\n",
       "    .dataframe tbody tr th {\n",
       "        vertical-align: top;\n",
       "    }\n",
       "\n",
       "    .dataframe thead th {\n",
       "        text-align: right;\n",
       "    }\n",
       "</style>\n",
       "<table border=\"1\" class=\"dataframe\">\n",
       "  <thead>\n",
       "    <tr style=\"text-align: right;\">\n",
       "      <th></th>\n",
       "      <th>completed</th>\n",
       "      <th>False</th>\n",
       "      <th>True</th>\n",
       "    </tr>\n",
       "    <tr>\n",
       "      <th>offer_type_dummy</th>\n",
       "      <th>viewed</th>\n",
       "      <th></th>\n",
       "      <th></th>\n",
       "    </tr>\n",
       "  </thead>\n",
       "  <tbody>\n",
       "    <tr>\n",
       "      <th rowspan=\"2\" valign=\"top\">bogo</th>\n",
       "      <th>False</th>\n",
       "      <td>10614.0</td>\n",
       "      <td>11748.0</td>\n",
       "    </tr>\n",
       "    <tr>\n",
       "      <th>True</th>\n",
       "      <td>4216.0</td>\n",
       "      <td>3921.0</td>\n",
       "    </tr>\n",
       "    <tr>\n",
       "      <th rowspan=\"2\" valign=\"top\">discount</th>\n",
       "      <th>False</th>\n",
       "      <td>9740.0</td>\n",
       "      <td>13440.0</td>\n",
       "    </tr>\n",
       "    <tr>\n",
       "      <th>True</th>\n",
       "      <td>2893.0</td>\n",
       "      <td>4470.0</td>\n",
       "    </tr>\n",
       "    <tr>\n",
       "      <th rowspan=\"2\" valign=\"top\">informational</th>\n",
       "      <th>False</th>\n",
       "      <td>11449.0</td>\n",
       "      <td>NaN</td>\n",
       "    </tr>\n",
       "    <tr>\n",
       "      <th>True</th>\n",
       "      <td>3786.0</td>\n",
       "      <td>NaN</td>\n",
       "    </tr>\n",
       "  </tbody>\n",
       "</table>\n",
       "</div>"
      ],
      "text/plain": [
       "completed                  False    True \n",
       "offer_type_dummy viewed                  \n",
       "bogo             False   10614.0  11748.0\n",
       "                 True     4216.0   3921.0\n",
       "discount         False    9740.0  13440.0\n",
       "                 True     2893.0   4470.0\n",
       "informational    False   11449.0      NaN\n",
       "                 True     3786.0      NaN"
      ]
     },
     "execution_count": 7,
     "metadata": {},
     "output_type": "execute_result"
    }
   ],
   "source": [
    "df.groupby(['offer_type_dummy', 'viewed'])['completed'].value_counts().unstack()"
   ]
  },
  {
   "cell_type": "code",
   "execution_count": 8,
   "metadata": {
    "ExecuteTime": {
     "end_time": "2019-08-22T03:00:28.472716Z",
     "start_time": "2019-08-22T03:00:28.455429Z"
    },
    "collapsed": true
   },
   "outputs": [],
   "source": [
    "clean_profile = profile.dropna().copy()\n",
    "clean_profile['person'] = clean_profile['id']"
   ]
  },
  {
   "cell_type": "code",
   "execution_count": 9,
   "metadata": {
    "ExecuteTime": {
     "end_time": "2019-08-22T03:00:28.663125Z",
     "start_time": "2019-08-22T03:00:28.475279Z"
    },
    "collapsed": true
   },
   "outputs": [],
   "source": [
    "clean_profile = pd.get_dummies(clean_profile, columns=['gender'], prefix='gender')\n",
    "profile_cols = ['age', 'became_member_on', 'gender_M', 'gender_O', 'gender_F', 'income', 'person']\n",
    "#profile_cols = ['age', 'became_member_on', 'gender', 'income', 'person']\n",
    "\n",
    "df = pd.merge(df, clean_profile[profile_cols], on='person')"
   ]
  },
  {
   "cell_type": "code",
   "execution_count": 10,
   "metadata": {
    "ExecuteTime": {
     "end_time": "2019-08-22T03:00:28.762627Z",
     "start_time": "2019-08-22T03:00:28.666137Z"
    }
   },
   "outputs": [
    {
     "data": {
      "text/html": [
       "<div>\n",
       "<style scoped>\n",
       "    .dataframe tbody tr th:only-of-type {\n",
       "        vertical-align: middle;\n",
       "    }\n",
       "\n",
       "    .dataframe tbody tr th {\n",
       "        vertical-align: top;\n",
       "    }\n",
       "\n",
       "    .dataframe thead th {\n",
       "        text-align: right;\n",
       "    }\n",
       "</style>\n",
       "<table border=\"1\" class=\"dataframe\">\n",
       "  <thead>\n",
       "    <tr style=\"text-align: right;\">\n",
       "      <th>completed</th>\n",
       "      <th>False</th>\n",
       "      <th>True</th>\n",
       "    </tr>\n",
       "    <tr>\n",
       "      <th>viewed</th>\n",
       "      <th></th>\n",
       "      <th></th>\n",
       "    </tr>\n",
       "  </thead>\n",
       "  <tbody>\n",
       "    <tr>\n",
       "      <th>False</th>\n",
       "      <td>25451</td>\n",
       "      <td>24319</td>\n",
       "    </tr>\n",
       "    <tr>\n",
       "      <th>True</th>\n",
       "      <td>8606</td>\n",
       "      <td>8125</td>\n",
       "    </tr>\n",
       "  </tbody>\n",
       "</table>\n",
       "</div>"
      ],
      "text/plain": [
       "completed  False  True \n",
       "viewed                 \n",
       "False      25451  24319\n",
       "True        8606   8125"
      ]
     },
     "execution_count": 10,
     "metadata": {},
     "output_type": "execute_result"
    }
   ],
   "source": [
    "df.groupby('viewed')['completed'].value_counts().unstack()"
   ]
  },
  {
   "cell_type": "code",
   "execution_count": 11,
   "metadata": {
    "ExecuteTime": {
     "end_time": "2019-08-22T03:00:28.773948Z",
     "start_time": "2019-08-22T03:00:28.766671Z"
    },
    "collapsed": true
   },
   "outputs": [],
   "source": [
    "df['label'] = (df['viewed'] == df['completed']).astype(int)"
   ]
  },
  {
   "cell_type": "code",
   "execution_count": 12,
   "metadata": {
    "ExecuteTime": {
     "end_time": "2019-08-22T03:00:29.297128Z",
     "start_time": "2019-08-22T03:00:29.290421Z"
    },
    "collapsed": true
   },
   "outputs": [],
   "source": [
    "all_cols = ['duration_hours', 'difficulty', 'mobile', 'social', 'email', 'web', \n",
    "            'offer_type_bogo', 'offer_type_discount', 'offer_type_informational', \n",
    "            'age', 'became_member_on', 'gender_M', 'gender_F', 'gender_O', 'income', 'label']"
   ]
  },
  {
   "cell_type": "code",
   "execution_count": 13,
   "metadata": {
    "ExecuteTime": {
     "end_time": "2019-08-22T03:00:30.427625Z",
     "start_time": "2019-08-22T03:00:30.373753Z"
    },
    "collapsed": true
   },
   "outputs": [],
   "source": [
    "df = df[all_cols].copy().astype(int)"
   ]
  },
  {
   "cell_type": "code",
   "execution_count": 14,
   "metadata": {
    "ExecuteTime": {
     "end_time": "2019-08-22T03:00:30.723993Z",
     "start_time": "2019-08-22T03:00:30.696523Z"
    },
    "collapsed": true
   },
   "outputs": [],
   "source": [
    "df = df[df.offer_type_informational == 0].copy()"
   ]
  },
  {
   "cell_type": "markdown",
   "metadata": {},
   "source": [
    "## Modeling  (CRISP-DM Step 4)\n",
    "- In this section we will try and predict the labels for customers that have been shown an offer\n",
    "- the label we have assigned is positive when the customer completes and offer if and only if they have been seen the offer\n",
    "- We will split the data into training and test sets \n",
    "- we will then train a AdaBoostClassifier and evaluate its performance on unseen data, the test set"
   ]
  },
  {
   "cell_type": "code",
   "execution_count": 15,
   "metadata": {
    "ExecuteTime": {
     "end_time": "2019-08-22T03:00:33.609467Z",
     "start_time": "2019-08-22T03:00:32.339224Z"
    },
    "collapsed": true
   },
   "outputs": [],
   "source": [
    "from sklearn.model_selection import train_test_split\n",
    "from sklearn.ensemble import AdaBoostClassifier, GradientBoostingClassifier, RandomForestClassifier\n",
    "from sklearn.tree import DecisionTreeClassifier\n",
    "from sklearn.metrics import accuracy_score, precision_score, recall_score, fbeta_score"
   ]
  },
  {
   "cell_type": "code",
   "execution_count": 16,
   "metadata": {
    "ExecuteTime": {
     "end_time": "2019-08-22T03:00:33.640573Z",
     "start_time": "2019-08-22T03:00:33.611849Z"
    },
    "collapsed": true
   },
   "outputs": [],
   "source": [
    "features = df.drop('label', axis=1)\n",
    "labels = df['label']\n",
    "X_train, X_test, y_train, y_test = train_test_split(features, labels, test_size=0.25, random_state=42)"
   ]
  },
  {
   "cell_type": "code",
   "execution_count": 18,
   "metadata": {
    "ExecuteTime": {
     "end_time": "2019-08-22T03:00:37.628467Z",
     "start_time": "2019-08-22T03:00:37.593475Z"
    },
    "collapsed": true
   },
   "outputs": [],
   "source": [
    "def train_predict(learner, sample_size, X_train, y_train, X_test, y_test): \n",
    "    results = {}\n",
    "    learner.fit(X_train[:sample_size], y_train[:sample_size])\n",
    "    \n",
    "    training_pred = learner.predict(X_train[:1000])\n",
    "    results['train_acc'] = accuracy_score(y_train[:1000], training_pred)\n",
    "    results['train_f'] = fbeta_score(y_train[:1000], training_pred, 0.5)\n",
    "    results['train_prec'] = precision_score(y_train[:1000], training_pred)\n",
    "    results['train_rec'] = recall_score(y_train[:1000], training_pred)\n",
    "    \n",
    "    y_pred = learner.predict(X_test)\n",
    "    results['test_acc'] = accuracy_score(y_test, y_pred)\n",
    "    results['test_f'] = fbeta_score(y_test, y_pred, 0.5)\n",
    "    results['test_prec'] = precision_score(y_test, y_pred)\n",
    "    results['test_rec'] = recall_score(y_test, y_pred)\n",
    "    \n",
    "    return results"
   ]
  },
  {
   "cell_type": "code",
   "execution_count": 79,
   "metadata": {
    "ExecuteTime": {
     "end_time": "2019-08-23T00:27:07.276867Z",
     "start_time": "2019-08-23T00:27:01.558628Z"
    },
    "collapsed": true
   },
   "outputs": [],
   "source": [
    "clf_1 = DecisionTreeClassifier()\n",
    "clf_2 = AdaBoostClassifier()\n",
    "clf_3 = GradientBoostingClassifier()\n",
    "clf_4 = RandomForestClassifier()\n",
    "\n",
    "sizes = [int(X_train.shape[0] * 0.02), int(X_train.shape[0]*0.2), X_train.shape[0]]\n",
    "results = {}\n",
    "for clf in [clf_2, clf_3, clf_4, clf_1]:\n",
    "    clf_name = clf.__class__.__name__\n",
    "    results[clf_name] = {}\n",
    "    for i in sizes:\n",
    "        results[clf_name][i] = train_predict(clf, i, X_train, y_train, X_test, y_test)"
   ]
  },
  {
   "cell_type": "code",
   "execution_count": 80,
   "metadata": {
    "ExecuteTime": {
     "end_time": "2019-08-23T00:27:07.914466Z",
     "start_time": "2019-08-23T00:27:07.903240Z"
    }
   },
   "outputs": [
    {
     "data": {
      "text/html": [
       "<script type=\"text/javascript\">window.PlotlyConfig = {MathJaxConfig: 'local'};</script><script type=\"text/javascript\">if (window.MathJax) {MathJax.Hub.Config({SVG: {font: \"STIX-Web\"}});}</script><script>requirejs.config({paths: { 'plotly': ['https://cdn.plot.ly/plotly-latest.min']},});if(!window._Plotly) {require(['plotly'],function(plotly) {window._Plotly=plotly;});}</script>"
      ],
      "text/vnd.plotly.v1+html": [
       "<script type=\"text/javascript\">window.PlotlyConfig = {MathJaxConfig: 'local'};</script><script type=\"text/javascript\">if (window.MathJax) {MathJax.Hub.Config({SVG: {font: \"STIX-Web\"}});}</script><script>requirejs.config({paths: { 'plotly': ['https://cdn.plot.ly/plotly-latest.min']},});if(!window._Plotly) {require(['plotly'],function(plotly) {window._Plotly=plotly;});}</script>"
      ]
     },
     "metadata": {},
     "output_type": "display_data"
    }
   ],
   "source": [
    "import plotly.graph_objs as go\n",
    "from plotly.offline import iplot, init_notebook_mode\n",
    "init_notebook_mode(connected=True)\n",
    "from plotly.tools import make_subplots"
   ]
  },
  {
   "cell_type": "code",
   "execution_count": 82,
   "metadata": {
    "ExecuteTime": {
     "end_time": "2019-08-23T00:27:13.694242Z",
     "start_time": "2019-08-23T00:27:13.243818Z"
    },
    "scrolled": false
   },
   "outputs": [
    {
     "name": "stdout",
     "output_type": "stream",
     "text": [
      "This is the format of your plot grid:\n",
      "[ (1,1) x1,y1 ]  [ (1,2) x2,y2 ]  [ (1,3) x3,y3 ]  [ (1,4) x4,y4 ]\n",
      "[ (2,1) x5,y5 ]  [ (2,2) x6,y6 ]  [ (2,3) x7,y7 ]  [ (2,4) x8,y8 ]\n",
      "\n"
     ]
    },
    {
     "data": {
      "application/vnd.plotly.v1+json": {
       "config": {
        "linkText": "Export to plot.ly",
        "plotlyServerURL": "https://plot.ly",
        "showLink": true
       },
       "data": [
        {
         "legendgroup": "AdaBoostClassifier",
         "marker": {
          "color": "#1f77b4"
         },
         "name": "AdaBoostClassifier",
         "showlegend": true,
         "type": "bar",
         "uid": "c58f5439-6127-4dc3-97a3-864f6f3dfe76",
         "x": [
          "2%",
          "20%",
          "100%"
         ],
         "xaxis": "x",
         "y": [
          0.641,
          0.609,
          0.595
         ],
         "yaxis": "y"
        },
        {
         "legendgroup": "GradientBoostingClassifier",
         "marker": {
          "color": "#ff7f0e"
         },
         "name": "GradientBoostingClassifier",
         "showlegend": true,
         "type": "bar",
         "uid": "cefe9efb-5876-4fbe-a206-2c436d352007",
         "x": [
          "2%",
          "20%",
          "100%"
         ],
         "xaxis": "x",
         "y": [
          0.763,
          0.648,
          0.618
         ],
         "yaxis": "y"
        },
        {
         "legendgroup": "RandomForestClassifier",
         "marker": {
          "color": "#2ca02c"
         },
         "name": "RandomForestClassifier",
         "showlegend": true,
         "type": "bar",
         "uid": "2ad29b2b-c4c6-4d23-89f3-438e32dc929f",
         "x": [
          "2%",
          "20%",
          "100%"
         ],
         "xaxis": "x",
         "y": [
          0.867,
          0.959,
          0.925
         ],
         "yaxis": "y"
        },
        {
         "legendgroup": "DecisionTreeClassifier",
         "marker": {
          "color": "#d62728"
         },
         "name": "DecisionTreeClassifier",
         "showlegend": true,
         "type": "bar",
         "uid": "8af1afd8-f851-40ac-b451-3ed7faf316af",
         "x": [
          "2%",
          "20%",
          "100%"
         ],
         "xaxis": "x",
         "y": [
          0.908,
          0.988,
          0.949
         ],
         "yaxis": "y"
        },
        {
         "legendgroup": "AdaBoostClassifier",
         "marker": {
          "color": "#1f77b4"
         },
         "name": "AdaBoostClassifier",
         "showlegend": false,
         "type": "bar",
         "uid": "82d0fb67-b8a4-4e6d-bfc2-95ad870819ae",
         "x": [
          "2%",
          "20%",
          "100%"
         ],
         "xaxis": "x5",
         "y": [
          0.5945417637771596,
          0.6154424479362454,
          0.6238628674535749
         ],
         "yaxis": "y5"
        },
        {
         "legendgroup": "GradientBoostingClassifier",
         "marker": {
          "color": "#ff7f0e"
         },
         "name": "GradientBoostingClassifier",
         "showlegend": false,
         "type": "bar",
         "uid": "7aceadf5-5974-4d36-90cd-edb1b039e11c",
         "x": [
          "2%",
          "20%",
          "100%"
         ],
         "xaxis": "x5",
         "y": [
          0.5886023607247576,
          0.6115329674460567,
          0.6234117735508609
         ],
         "yaxis": "y5"
        },
        {
         "legendgroup": "RandomForestClassifier",
         "marker": {
          "color": "#2ca02c"
         },
         "name": "RandomForestClassifier",
         "showlegend": false,
         "type": "bar",
         "uid": "d3e89a07-af03-4248-b64a-93c3cdd4ab3c",
         "x": [
          "2%",
          "20%",
          "100%"
         ],
         "xaxis": "x5",
         "y": [
          0.5648447485151492,
          0.56401774302684,
          0.5595068039996993
         ],
         "yaxis": "y5"
        },
        {
         "legendgroup": "DecisionTreeClassifier",
         "marker": {
          "color": "#d62728"
         },
         "name": "DecisionTreeClassifier",
         "showlegend": false,
         "type": "bar",
         "uid": "dd29726e-2bb5-4525-98db-500caa6046c0",
         "x": [
          "2%",
          "20%",
          "100%"
         ],
         "xaxis": "x5",
         "y": [
          0.5385309375234945,
          0.5349221863017818,
          0.5392075783775656
         ],
         "yaxis": "y5"
        },
        {
         "legendgroup": "AdaBoostClassifier",
         "marker": {
          "color": "#1f77b4"
         },
         "name": "AdaBoostClassifier",
         "showlegend": false,
         "type": "bar",
         "uid": "911eaf39-26fb-4cd2-a3e1-4b114f09cbe2",
         "x": [
          "2%",
          "20%",
          "100%"
         ],
         "xaxis": "x2",
         "y": [
          0.5523627075351213,
          0.5122235157159487,
          0.5026737967914439
         ],
         "yaxis": "y2"
        },
        {
         "legendgroup": "GradientBoostingClassifier",
         "marker": {
          "color": "#ff7f0e"
         },
         "name": "GradientBoostingClassifier",
         "showlegend": false,
         "type": "bar",
         "uid": "180fef57-6989-4218-9f4d-ddbab92b9541",
         "x": [
          "2%",
          "20%",
          "100%"
         ],
         "xaxis": "x2",
         "y": [
          0.7429099876695439,
          0.5649188514357054,
          0.5260115606936416
         ],
         "yaxis": "y2"
        },
        {
         "legendgroup": "RandomForestClassifier",
         "marker": {
          "color": "#2ca02c"
         },
         "name": "RandomForestClassifier",
         "showlegend": false,
         "type": "bar",
         "uid": "c934bdc2-e537-49dc-90da-46a2674f81fb",
         "x": [
          "2%",
          "20%",
          "100%"
         ],
         "xaxis": "x2",
         "y": [
          0.8694474539544962,
          0.9592737978410205,
          0.9187192118226601
         ],
         "yaxis": "y2"
        },
        {
         "legendgroup": "DecisionTreeClassifier",
         "marker": {
          "color": "#d62728"
         },
         "name": "DecisionTreeClassifier",
         "showlegend": false,
         "type": "bar",
         "uid": "d30d570a-d6ad-48a0-a43a-8f49617aeaa2",
         "x": [
          "2%",
          "20%",
          "100%"
         ],
         "xaxis": "x2",
         "y": [
          0.9015984015984015,
          0.9941234084231144,
          0.9700315457413251
         ],
         "yaxis": "y2"
        },
        {
         "legendgroup": "AdaBoostClassifier",
         "marker": {
          "color": "#1f77b4"
         },
         "name": "AdaBoostClassifier",
         "showlegend": false,
         "type": "bar",
         "uid": "dc6cc365-03cd-4176-873e-2da130cfc5c6",
         "x": [
          "2%",
          "20%",
          "100%"
         ],
         "xaxis": "x6",
         "y": [
          0.5044035228182546,
          0.5435778815519574,
          0.5598685561716985
         ],
         "yaxis": "y6"
        },
        {
         "legendgroup": "GradientBoostingClassifier",
         "marker": {
          "color": "#ff7f0e"
         },
         "name": "GradientBoostingClassifier",
         "showlegend": false,
         "type": "bar",
         "uid": "9a83140f-cafc-45db-bd95-7a07590e40c9",
         "x": [
          "2%",
          "20%",
          "100%"
         ],
         "xaxis": "x6",
         "y": [
          0.4905163586718026,
          0.5325457493629836,
          0.5557957542479138
         ],
         "yaxis": "y6"
        },
        {
         "legendgroup": "RandomForestClassifier",
         "marker": {
          "color": "#2ca02c"
         },
         "name": "RandomForestClassifier",
         "showlegend": false,
         "type": "bar",
         "uid": "b3d6ae22-9505-4691-ab63-2389d1f5a168",
         "x": [
          "2%",
          "20%",
          "100%"
         ],
         "xaxis": "x6",
         "y": [
          0.4533359136871644,
          0.4760714731975509,
          0.4806462861792398
         ],
         "yaxis": "y6"
        },
        {
         "legendgroup": "DecisionTreeClassifier",
         "marker": {
          "color": "#d62728"
         },
         "name": "DecisionTreeClassifier",
         "showlegend": false,
         "type": "bar",
         "uid": "a0de5f4f-1558-48cf-807e-b86ecaa6ea5e",
         "x": [
          "2%",
          "20%",
          "100%"
         ],
         "xaxis": "x6",
         "y": [
          0.4579446311893341,
          0.4672361704344202,
          0.4694404185372406
         ],
         "yaxis": "y6"
        },
        {
         "legendgroup": "AdaBoostClassifier",
         "marker": {
          "color": "#1f77b4"
         },
         "name": "AdaBoostClassifier",
         "showlegend": false,
         "type": "bar",
         "uid": "2ab4e3cf-f1ee-4eb0-91e9-a5016ce68d1a",
         "x": [
          "2%",
          "20%",
          "100%"
         ],
         "xaxis": "x3",
         "y": [
          0.6027874564459931,
          0.5415384615384615,
          0.5179063360881543
         ],
         "yaxis": "y3"
        },
        {
         "legendgroup": "GradientBoostingClassifier",
         "marker": {
          "color": "#ff7f0e"
         },
         "name": "GradientBoostingClassifier",
         "showlegend": false,
         "type": "bar",
         "uid": "6d3ccaa7-2f69-4e85-9496-d08945565f0b",
         "x": [
          "2%",
          "20%",
          "100%"
         ],
         "xaxis": "x3",
         "y": [
          0.8006644518272426,
          0.6114864864864865,
          0.5548780487804879
         ],
         "yaxis": "y3"
        },
        {
         "legendgroup": "RandomForestClassifier",
         "marker": {
          "color": "#2ca02c"
         },
         "name": "RandomForestClassifier",
         "showlegend": false,
         "type": "bar",
         "uid": "384c72bd-1174-4ff5-83d4-efcbcc3582f8",
         "x": [
          "2%",
          "20%",
          "100%"
         ],
         "xaxis": "x3",
         "y": [
          0.8991596638655462,
          0.9654320987654321,
          0.9255583126550868
         ],
         "yaxis": "y3"
        },
        {
         "legendgroup": "DecisionTreeClassifier",
         "marker": {
          "color": "#d62728"
         },
         "name": "DecisionTreeClassifier",
         "showlegend": false,
         "type": "bar",
         "uid": "6cab260e-d68e-4783-a1be-77c0622fbfd5",
         "x": [
          "2%",
          "20%",
          "100%"
         ],
         "xaxis": "x3",
         "y": [
          0.9116161616161617,
          1,
          0.9946091644204852
         ],
         "yaxis": "y3"
        },
        {
         "legendgroup": "AdaBoostClassifier",
         "marker": {
          "color": "#1f77b4"
         },
         "name": "AdaBoostClassifier",
         "showlegend": false,
         "type": "bar",
         "uid": "e43d2254-dada-42a4-abd9-bd652d79c4c9",
         "x": [
          "2%",
          "20%",
          "100%"
         ],
         "xaxis": "x7",
         "y": [
          0.5560747663551402,
          0.5830992509363296,
          0.588768898488121
         ],
         "yaxis": "y7"
        },
        {
         "legendgroup": "GradientBoostingClassifier",
         "marker": {
          "color": "#ff7f0e"
         },
         "name": "GradientBoostingClassifier",
         "showlegend": false,
         "type": "bar",
         "uid": "07881755-02c9-4f8f-80d9-caa73da55930",
         "x": [
          "2%",
          "20%",
          "100%"
         ],
         "xaxis": "x7",
         "y": [
          0.5480795423590302,
          0.583502538071066,
          0.5943134535367545
         ],
         "yaxis": "y7"
        },
        {
         "legendgroup": "RandomForestClassifier",
         "marker": {
          "color": "#2ca02c"
         },
         "name": "RandomForestClassifier",
         "showlegend": false,
         "type": "bar",
         "uid": "89837616-e631-440e-b0ee-8f84f7887a09",
         "x": [
          "2%",
          "20%",
          "100%"
         ],
         "xaxis": "x7",
         "y": [
          0.5049851791969819,
          0.5028596568411791,
          0.4965972778222578
         ],
         "yaxis": "y7"
        },
        {
         "legendgroup": "DecisionTreeClassifier",
         "marker": {
          "color": "#d62728"
         },
         "name": "DecisionTreeClassifier",
         "showlegend": false,
         "type": "bar",
         "uid": "a07dcc81-1220-4737-a15b-bea306fa4705",
         "x": [
          "2%",
          "20%",
          "100%"
         ],
         "xaxis": "x7",
         "y": [
          0.4696881657950804,
          0.4685704335713042,
          0.47293447293447294
         ],
         "yaxis": "y7"
        },
        {
         "legendgroup": "AdaBoostClassifier",
         "marker": {
          "color": "#1f77b4"
         },
         "name": "AdaBoostClassifier",
         "showlegend": false,
         "type": "bar",
         "uid": "64ee02f8-c8a8-4352-a83b-b37d37b98066",
         "x": [
          "2%",
          "20%",
          "100%"
         ],
         "xaxis": "x4",
         "y": [
          0.4138755980861244,
          0.42105263157894735,
          0.44976076555023925
         ],
         "yaxis": "y4"
        },
        {
         "legendgroup": "GradientBoostingClassifier",
         "marker": {
          "color": "#ff7f0e"
         },
         "name": "GradientBoostingClassifier",
         "showlegend": false,
         "type": "bar",
         "uid": "7fadf3aa-2c9f-4763-a186-1a53c2331393",
         "x": [
          "2%",
          "20%",
          "100%"
         ],
         "xaxis": "x4",
         "y": [
          0.5765550239234449,
          0.43301435406698563,
          0.4354066985645933
         ],
         "yaxis": "y4"
        },
        {
         "legendgroup": "RandomForestClassifier",
         "marker": {
          "color": "#2ca02c"
         },
         "name": "RandomForestClassifier",
         "showlegend": false,
         "type": "bar",
         "uid": "7e36e395-6354-46da-97de-d81c4fca51d1",
         "x": [
          "2%",
          "20%",
          "100%"
         ],
         "xaxis": "x4",
         "y": [
          0.7679425837320574,
          0.9354066985645934,
          0.8923444976076556
         ],
         "yaxis": "y4"
        },
        {
         "legendgroup": "DecisionTreeClassifier",
         "marker": {
          "color": "#d62728"
         },
         "name": "DecisionTreeClassifier",
         "showlegend": false,
         "type": "bar",
         "uid": "a0e3c11d-a5a4-4bed-aa8e-8f6165f41815",
         "x": [
          "2%",
          "20%",
          "100%"
         ],
         "xaxis": "x4",
         "y": [
          0.8636363636363636,
          0.9712918660287081,
          0.8827751196172249
         ],
         "yaxis": "y4"
        },
        {
         "legendgroup": "AdaBoostClassifier",
         "marker": {
          "color": "#1f77b4"
         },
         "name": "AdaBoostClassifier",
         "showlegend": false,
         "type": "bar",
         "uid": "17dae436-0960-487b-a860-8bcfbaaf1ba5",
         "x": [
          "2%",
          "20%",
          "100%"
         ],
         "xaxis": "x8",
         "y": [
          0.367725321888412,
          0.42763948497854076,
          0.46798283261802576
         ],
         "yaxis": "y8"
        },
        {
         "legendgroup": "GradientBoostingClassifier",
         "marker": {
          "color": "#ff7f0e"
         },
         "name": "GradientBoostingClassifier",
         "showlegend": false,
         "type": "bar",
         "uid": "0c2ed44b-c8dc-4aee-bf65-2edf5cc7a06c",
         "x": [
          "2%",
          "20%",
          "100%"
         ],
         "xaxis": "x8",
         "y": [
          0.3454077253218884,
          0.3946781115879828,
          0.4413733905579399
         ],
         "yaxis": "y8"
        },
        {
         "legendgroup": "RandomForestClassifier",
         "marker": {
          "color": "#2ca02c"
         },
         "name": "RandomForestClassifier",
         "showlegend": false,
         "type": "bar",
         "uid": "5593cb4d-ba7f-4008-92da-37eb16792b91",
         "x": [
          "2%",
          "20%",
          "100%"
         ],
         "xaxis": "x8",
         "y": [
          0.3217167381974249,
          0.3924463519313305,
          0.42592274678111586
         ],
         "yaxis": "y8"
        },
        {
         "legendgroup": "DecisionTreeClassifier",
         "marker": {
          "color": "#d62728"
         },
         "name": "DecisionTreeClassifier",
         "showlegend": false,
         "type": "bar",
         "uid": "25a62d18-6d97-4b11-9fcb-e5cd4673b69a",
         "x": [
          "2%",
          "20%",
          "100%"
         ],
         "xaxis": "x8",
         "y": [
          0.41630901287553645,
          0.46197424892703864,
          0.4559656652360515
         ],
         "yaxis": "y8"
        }
       ],
       "layout": {
        "annotations": [
         {
          "font": {
           "size": 16
          },
          "showarrow": false,
          "text": "Training Accuracy",
          "x": 0.10625,
          "xanchor": "center",
          "xref": "paper",
          "y": 1,
          "yanchor": "bottom",
          "yref": "paper"
         },
         {
          "font": {
           "size": 16
          },
          "showarrow": false,
          "text": "Training F-Score",
          "x": 0.36875,
          "xanchor": "center",
          "xref": "paper",
          "y": 1,
          "yanchor": "bottom",
          "yref": "paper"
         },
         {
          "font": {
           "size": 16
          },
          "showarrow": false,
          "text": "Training Precision",
          "x": 0.6312500000000001,
          "xanchor": "center",
          "xref": "paper",
          "y": 1,
          "yanchor": "bottom",
          "yref": "paper"
         },
         {
          "font": {
           "size": 16
          },
          "showarrow": false,
          "text": "Training Recall",
          "x": 0.89375,
          "xanchor": "center",
          "xref": "paper",
          "y": 1,
          "yanchor": "bottom",
          "yref": "paper"
         },
         {
          "font": {
           "size": 16
          },
          "showarrow": false,
          "text": "Testing Accuracy",
          "x": 0.10625,
          "xanchor": "center",
          "xref": "paper",
          "y": 0.375,
          "yanchor": "bottom",
          "yref": "paper"
         },
         {
          "font": {
           "size": 16
          },
          "showarrow": false,
          "text": "Testing F-Score",
          "x": 0.36875,
          "xanchor": "center",
          "xref": "paper",
          "y": 0.375,
          "yanchor": "bottom",
          "yref": "paper"
         },
         {
          "font": {
           "size": 16
          },
          "showarrow": false,
          "text": "Testing Precision",
          "x": 0.6312500000000001,
          "xanchor": "center",
          "xref": "paper",
          "y": 0.375,
          "yanchor": "bottom",
          "yref": "paper"
         },
         {
          "font": {
           "size": 16
          },
          "showarrow": false,
          "text": "Testing Recall",
          "x": 0.89375,
          "xanchor": "center",
          "xref": "paper",
          "y": 0.375,
          "yanchor": "bottom",
          "yref": "paper"
         }
        ],
        "xaxis": {
         "anchor": "y",
         "domain": [
          0,
          0.2125
         ],
         "type": "category"
        },
        "xaxis2": {
         "anchor": "y2",
         "domain": [
          0.2625,
          0.475
         ],
         "type": "category"
        },
        "xaxis3": {
         "anchor": "y3",
         "domain": [
          0.525,
          0.7375
         ],
         "type": "category"
        },
        "xaxis4": {
         "anchor": "y4",
         "domain": [
          0.7875,
          1
         ],
         "type": "category"
        },
        "xaxis5": {
         "anchor": "y5",
         "domain": [
          0,
          0.2125
         ],
         "type": "category"
        },
        "xaxis6": {
         "anchor": "y6",
         "domain": [
          0.2625,
          0.475
         ],
         "type": "category"
        },
        "xaxis7": {
         "anchor": "y7",
         "domain": [
          0.525,
          0.7375
         ],
         "type": "category"
        },
        "xaxis8": {
         "anchor": "y8",
         "domain": [
          0.7875,
          1
         ],
         "type": "category"
        },
        "yaxis": {
         "anchor": "x",
         "domain": [
          0.625,
          1
         ]
        },
        "yaxis2": {
         "anchor": "x2",
         "domain": [
          0.625,
          1
         ]
        },
        "yaxis3": {
         "anchor": "x3",
         "domain": [
          0.625,
          1
         ]
        },
        "yaxis4": {
         "anchor": "x4",
         "domain": [
          0.625,
          1
         ]
        },
        "yaxis5": {
         "anchor": "x5",
         "domain": [
          0,
          0.375
         ]
        },
        "yaxis6": {
         "anchor": "x6",
         "domain": [
          0,
          0.375
         ]
        },
        "yaxis7": {
         "anchor": "x7",
         "domain": [
          0,
          0.375
         ]
        },
        "yaxis8": {
         "anchor": "x8",
         "domain": [
          0,
          0.375
         ]
        }
       }
      },
      "text/html": [
       "<div id=\"2a7d7962-417e-412f-9103-c9ead2d7295c\" style=\"height: 525px; width: 100%;\" class=\"plotly-graph-div\"></div><script type=\"text/javascript\">require([\"plotly\"], function(Plotly) { window.PLOTLYENV=window.PLOTLYENV || {};window.PLOTLYENV.BASE_URL=\"https://plot.ly\";Plotly.newPlot(\"2a7d7962-417e-412f-9103-c9ead2d7295c\", [{\"legendgroup\": \"AdaBoostClassifier\", \"marker\": {\"color\": \"#1f77b4\"}, \"name\": \"AdaBoostClassifier\", \"showlegend\": true, \"x\": [\"2%\", \"20%\", \"100%\"], \"y\": [0.641, 0.609, 0.595], \"type\": \"bar\", \"uid\": \"c58f5439-6127-4dc3-97a3-864f6f3dfe76\", \"xaxis\": \"x\", \"yaxis\": \"y\"}, {\"legendgroup\": \"GradientBoostingClassifier\", \"marker\": {\"color\": \"#ff7f0e\"}, \"name\": \"GradientBoostingClassifier\", \"showlegend\": true, \"x\": [\"2%\", \"20%\", \"100%\"], \"y\": [0.763, 0.648, 0.618], \"type\": \"bar\", \"uid\": \"cefe9efb-5876-4fbe-a206-2c436d352007\", \"xaxis\": \"x\", \"yaxis\": \"y\"}, {\"legendgroup\": \"RandomForestClassifier\", \"marker\": {\"color\": \"#2ca02c\"}, \"name\": \"RandomForestClassifier\", \"showlegend\": true, \"x\": [\"2%\", \"20%\", \"100%\"], \"y\": [0.867, 0.959, 0.925], \"type\": \"bar\", \"uid\": \"2ad29b2b-c4c6-4d23-89f3-438e32dc929f\", \"xaxis\": \"x\", \"yaxis\": \"y\"}, {\"legendgroup\": \"DecisionTreeClassifier\", \"marker\": {\"color\": \"#d62728\"}, \"name\": \"DecisionTreeClassifier\", \"showlegend\": true, \"x\": [\"2%\", \"20%\", \"100%\"], \"y\": [0.908, 0.988, 0.949], \"type\": \"bar\", \"uid\": \"8af1afd8-f851-40ac-b451-3ed7faf316af\", \"xaxis\": \"x\", \"yaxis\": \"y\"}, {\"legendgroup\": \"AdaBoostClassifier\", \"marker\": {\"color\": \"#1f77b4\"}, \"name\": \"AdaBoostClassifier\", \"showlegend\": false, \"x\": [\"2%\", \"20%\", \"100%\"], \"y\": [0.5945417637771596, 0.6154424479362454, 0.6238628674535749], \"type\": \"bar\", \"uid\": \"82d0fb67-b8a4-4e6d-bfc2-95ad870819ae\", \"xaxis\": \"x5\", \"yaxis\": \"y5\"}, {\"legendgroup\": \"GradientBoostingClassifier\", \"marker\": {\"color\": \"#ff7f0e\"}, \"name\": \"GradientBoostingClassifier\", \"showlegend\": false, \"x\": [\"2%\", \"20%\", \"100%\"], \"y\": [0.5886023607247576, 0.6115329674460567, 0.6234117735508609], \"type\": \"bar\", \"uid\": \"7aceadf5-5974-4d36-90cd-edb1b039e11c\", \"xaxis\": \"x5\", \"yaxis\": \"y5\"}, {\"legendgroup\": \"RandomForestClassifier\", \"marker\": {\"color\": \"#2ca02c\"}, \"name\": \"RandomForestClassifier\", \"showlegend\": false, \"x\": [\"2%\", \"20%\", \"100%\"], \"y\": [0.5648447485151492, 0.56401774302684, 0.5595068039996993], \"type\": \"bar\", \"uid\": \"d3e89a07-af03-4248-b64a-93c3cdd4ab3c\", \"xaxis\": \"x5\", \"yaxis\": \"y5\"}, {\"legendgroup\": \"DecisionTreeClassifier\", \"marker\": {\"color\": \"#d62728\"}, \"name\": \"DecisionTreeClassifier\", \"showlegend\": false, \"x\": [\"2%\", \"20%\", \"100%\"], \"y\": [0.5385309375234945, 0.5349221863017818, 0.5392075783775656], \"type\": \"bar\", \"uid\": \"dd29726e-2bb5-4525-98db-500caa6046c0\", \"xaxis\": \"x5\", \"yaxis\": \"y5\"}, {\"legendgroup\": \"AdaBoostClassifier\", \"marker\": {\"color\": \"#1f77b4\"}, \"name\": \"AdaBoostClassifier\", \"showlegend\": false, \"x\": [\"2%\", \"20%\", \"100%\"], \"y\": [0.5523627075351213, 0.5122235157159487, 0.5026737967914439], \"type\": \"bar\", \"uid\": \"911eaf39-26fb-4cd2-a3e1-4b114f09cbe2\", \"xaxis\": \"x2\", \"yaxis\": \"y2\"}, {\"legendgroup\": \"GradientBoostingClassifier\", \"marker\": {\"color\": \"#ff7f0e\"}, \"name\": \"GradientBoostingClassifier\", \"showlegend\": false, \"x\": [\"2%\", \"20%\", \"100%\"], \"y\": [0.7429099876695439, 0.5649188514357054, 0.5260115606936416], \"type\": \"bar\", \"uid\": \"180fef57-6989-4218-9f4d-ddbab92b9541\", \"xaxis\": \"x2\", \"yaxis\": \"y2\"}, {\"legendgroup\": \"RandomForestClassifier\", \"marker\": {\"color\": \"#2ca02c\"}, \"name\": \"RandomForestClassifier\", \"showlegend\": false, \"x\": [\"2%\", \"20%\", \"100%\"], \"y\": [0.8694474539544962, 0.9592737978410205, 0.9187192118226601], \"type\": \"bar\", \"uid\": \"c934bdc2-e537-49dc-90da-46a2674f81fb\", \"xaxis\": \"x2\", \"yaxis\": \"y2\"}, {\"legendgroup\": \"DecisionTreeClassifier\", \"marker\": {\"color\": \"#d62728\"}, \"name\": \"DecisionTreeClassifier\", \"showlegend\": false, \"x\": [\"2%\", \"20%\", \"100%\"], \"y\": [0.9015984015984015, 0.9941234084231144, 0.9700315457413251], \"type\": \"bar\", \"uid\": \"d30d570a-d6ad-48a0-a43a-8f49617aeaa2\", \"xaxis\": \"x2\", \"yaxis\": \"y2\"}, {\"legendgroup\": \"AdaBoostClassifier\", \"marker\": {\"color\": \"#1f77b4\"}, \"name\": \"AdaBoostClassifier\", \"showlegend\": false, \"x\": [\"2%\", \"20%\", \"100%\"], \"y\": [0.5044035228182546, 0.5435778815519574, 0.5598685561716985], \"type\": \"bar\", \"uid\": \"dc6cc365-03cd-4176-873e-2da130cfc5c6\", \"xaxis\": \"x6\", \"yaxis\": \"y6\"}, {\"legendgroup\": \"GradientBoostingClassifier\", \"marker\": {\"color\": \"#ff7f0e\"}, \"name\": \"GradientBoostingClassifier\", \"showlegend\": false, \"x\": [\"2%\", \"20%\", \"100%\"], \"y\": [0.4905163586718026, 0.5325457493629836, 0.5557957542479138], \"type\": \"bar\", \"uid\": \"9a83140f-cafc-45db-bd95-7a07590e40c9\", \"xaxis\": \"x6\", \"yaxis\": \"y6\"}, {\"legendgroup\": \"RandomForestClassifier\", \"marker\": {\"color\": \"#2ca02c\"}, \"name\": \"RandomForestClassifier\", \"showlegend\": false, \"x\": [\"2%\", \"20%\", \"100%\"], \"y\": [0.4533359136871644, 0.4760714731975509, 0.4806462861792398], \"type\": \"bar\", \"uid\": \"b3d6ae22-9505-4691-ab63-2389d1f5a168\", \"xaxis\": \"x6\", \"yaxis\": \"y6\"}, {\"legendgroup\": \"DecisionTreeClassifier\", \"marker\": {\"color\": \"#d62728\"}, \"name\": \"DecisionTreeClassifier\", \"showlegend\": false, \"x\": [\"2%\", \"20%\", \"100%\"], \"y\": [0.4579446311893341, 0.4672361704344202, 0.4694404185372406], \"type\": \"bar\", \"uid\": \"a0de5f4f-1558-48cf-807e-b86ecaa6ea5e\", \"xaxis\": \"x6\", \"yaxis\": \"y6\"}, {\"legendgroup\": \"AdaBoostClassifier\", \"marker\": {\"color\": \"#1f77b4\"}, \"name\": \"AdaBoostClassifier\", \"showlegend\": false, \"x\": [\"2%\", \"20%\", \"100%\"], \"y\": [0.6027874564459931, 0.5415384615384615, 0.5179063360881543], \"type\": \"bar\", \"uid\": \"2ab4e3cf-f1ee-4eb0-91e9-a5016ce68d1a\", \"xaxis\": \"x3\", \"yaxis\": \"y3\"}, {\"legendgroup\": \"GradientBoostingClassifier\", \"marker\": {\"color\": \"#ff7f0e\"}, \"name\": \"GradientBoostingClassifier\", \"showlegend\": false, \"x\": [\"2%\", \"20%\", \"100%\"], \"y\": [0.8006644518272426, 0.6114864864864865, 0.5548780487804879], \"type\": \"bar\", \"uid\": \"6d3ccaa7-2f69-4e85-9496-d08945565f0b\", \"xaxis\": \"x3\", \"yaxis\": \"y3\"}, {\"legendgroup\": \"RandomForestClassifier\", \"marker\": {\"color\": \"#2ca02c\"}, \"name\": \"RandomForestClassifier\", \"showlegend\": false, \"x\": [\"2%\", \"20%\", \"100%\"], \"y\": [0.8991596638655462, 0.9654320987654321, 0.9255583126550868], \"type\": \"bar\", \"uid\": \"384c72bd-1174-4ff5-83d4-efcbcc3582f8\", \"xaxis\": \"x3\", \"yaxis\": \"y3\"}, {\"legendgroup\": \"DecisionTreeClassifier\", \"marker\": {\"color\": \"#d62728\"}, \"name\": \"DecisionTreeClassifier\", \"showlegend\": false, \"x\": [\"2%\", \"20%\", \"100%\"], \"y\": [0.9116161616161617, 1.0, 0.9946091644204852], \"type\": \"bar\", \"uid\": \"6cab260e-d68e-4783-a1be-77c0622fbfd5\", \"xaxis\": \"x3\", \"yaxis\": \"y3\"}, {\"legendgroup\": \"AdaBoostClassifier\", \"marker\": {\"color\": \"#1f77b4\"}, \"name\": \"AdaBoostClassifier\", \"showlegend\": false, \"x\": [\"2%\", \"20%\", \"100%\"], \"y\": [0.5560747663551402, 0.5830992509363296, 0.588768898488121], \"type\": \"bar\", \"uid\": \"e43d2254-dada-42a4-abd9-bd652d79c4c9\", \"xaxis\": \"x7\", \"yaxis\": \"y7\"}, {\"legendgroup\": \"GradientBoostingClassifier\", \"marker\": {\"color\": \"#ff7f0e\"}, \"name\": \"GradientBoostingClassifier\", \"showlegend\": false, \"x\": [\"2%\", \"20%\", \"100%\"], \"y\": [0.5480795423590302, 0.583502538071066, 0.5943134535367545], \"type\": \"bar\", \"uid\": \"07881755-02c9-4f8f-80d9-caa73da55930\", \"xaxis\": \"x7\", \"yaxis\": \"y7\"}, {\"legendgroup\": \"RandomForestClassifier\", \"marker\": {\"color\": \"#2ca02c\"}, \"name\": \"RandomForestClassifier\", \"showlegend\": false, \"x\": [\"2%\", \"20%\", \"100%\"], \"y\": [0.5049851791969819, 0.5028596568411791, 0.4965972778222578], \"type\": \"bar\", \"uid\": \"89837616-e631-440e-b0ee-8f84f7887a09\", \"xaxis\": \"x7\", \"yaxis\": \"y7\"}, {\"legendgroup\": \"DecisionTreeClassifier\", \"marker\": {\"color\": \"#d62728\"}, \"name\": \"DecisionTreeClassifier\", \"showlegend\": false, \"x\": [\"2%\", \"20%\", \"100%\"], \"y\": [0.4696881657950804, 0.4685704335713042, 0.47293447293447294], \"type\": \"bar\", \"uid\": \"a07dcc81-1220-4737-a15b-bea306fa4705\", \"xaxis\": \"x7\", \"yaxis\": \"y7\"}, {\"legendgroup\": \"AdaBoostClassifier\", \"marker\": {\"color\": \"#1f77b4\"}, \"name\": \"AdaBoostClassifier\", \"showlegend\": false, \"x\": [\"2%\", \"20%\", \"100%\"], \"y\": [0.4138755980861244, 0.42105263157894735, 0.44976076555023925], \"type\": \"bar\", \"uid\": \"64ee02f8-c8a8-4352-a83b-b37d37b98066\", \"xaxis\": \"x4\", \"yaxis\": \"y4\"}, {\"legendgroup\": \"GradientBoostingClassifier\", \"marker\": {\"color\": \"#ff7f0e\"}, \"name\": \"GradientBoostingClassifier\", \"showlegend\": false, \"x\": [\"2%\", \"20%\", \"100%\"], \"y\": [0.5765550239234449, 0.43301435406698563, 0.4354066985645933], \"type\": \"bar\", \"uid\": \"7fadf3aa-2c9f-4763-a186-1a53c2331393\", \"xaxis\": \"x4\", \"yaxis\": \"y4\"}, {\"legendgroup\": \"RandomForestClassifier\", \"marker\": {\"color\": \"#2ca02c\"}, \"name\": \"RandomForestClassifier\", \"showlegend\": false, \"x\": [\"2%\", \"20%\", \"100%\"], \"y\": [0.7679425837320574, 0.9354066985645934, 0.8923444976076556], \"type\": \"bar\", \"uid\": \"7e36e395-6354-46da-97de-d81c4fca51d1\", \"xaxis\": \"x4\", \"yaxis\": \"y4\"}, {\"legendgroup\": \"DecisionTreeClassifier\", \"marker\": {\"color\": \"#d62728\"}, \"name\": \"DecisionTreeClassifier\", \"showlegend\": false, \"x\": [\"2%\", \"20%\", \"100%\"], \"y\": [0.8636363636363636, 0.9712918660287081, 0.8827751196172249], \"type\": \"bar\", \"uid\": \"a0e3c11d-a5a4-4bed-aa8e-8f6165f41815\", \"xaxis\": \"x4\", \"yaxis\": \"y4\"}, {\"legendgroup\": \"AdaBoostClassifier\", \"marker\": {\"color\": \"#1f77b4\"}, \"name\": \"AdaBoostClassifier\", \"showlegend\": false, \"x\": [\"2%\", \"20%\", \"100%\"], \"y\": [0.367725321888412, 0.42763948497854076, 0.46798283261802576], \"type\": \"bar\", \"uid\": \"17dae436-0960-487b-a860-8bcfbaaf1ba5\", \"xaxis\": \"x8\", \"yaxis\": \"y8\"}, {\"legendgroup\": \"GradientBoostingClassifier\", \"marker\": {\"color\": \"#ff7f0e\"}, \"name\": \"GradientBoostingClassifier\", \"showlegend\": false, \"x\": [\"2%\", \"20%\", \"100%\"], \"y\": [0.3454077253218884, 0.3946781115879828, 0.4413733905579399], \"type\": \"bar\", \"uid\": \"0c2ed44b-c8dc-4aee-bf65-2edf5cc7a06c\", \"xaxis\": \"x8\", \"yaxis\": \"y8\"}, {\"legendgroup\": \"RandomForestClassifier\", \"marker\": {\"color\": \"#2ca02c\"}, \"name\": \"RandomForestClassifier\", \"showlegend\": false, \"x\": [\"2%\", \"20%\", \"100%\"], \"y\": [0.3217167381974249, 0.3924463519313305, 0.42592274678111586], \"type\": \"bar\", \"uid\": \"5593cb4d-ba7f-4008-92da-37eb16792b91\", \"xaxis\": \"x8\", \"yaxis\": \"y8\"}, {\"legendgroup\": \"DecisionTreeClassifier\", \"marker\": {\"color\": \"#d62728\"}, \"name\": \"DecisionTreeClassifier\", \"showlegend\": false, \"x\": [\"2%\", \"20%\", \"100%\"], \"y\": [0.41630901287553645, 0.46197424892703864, 0.4559656652360515], \"type\": \"bar\", \"uid\": \"25a62d18-6d97-4b11-9fcb-e5cd4673b69a\", \"xaxis\": \"x8\", \"yaxis\": \"y8\"}], {\"annotations\": [{\"font\": {\"size\": 16}, \"showarrow\": false, \"text\": \"Training Accuracy\", \"x\": 0.10625, \"xanchor\": \"center\", \"xref\": \"paper\", \"y\": 1.0, \"yanchor\": \"bottom\", \"yref\": \"paper\"}, {\"font\": {\"size\": 16}, \"showarrow\": false, \"text\": \"Training F-Score\", \"x\": 0.36875, \"xanchor\": \"center\", \"xref\": \"paper\", \"y\": 1.0, \"yanchor\": \"bottom\", \"yref\": \"paper\"}, {\"font\": {\"size\": 16}, \"showarrow\": false, \"text\": \"Training Precision\", \"x\": 0.6312500000000001, \"xanchor\": \"center\", \"xref\": \"paper\", \"y\": 1.0, \"yanchor\": \"bottom\", \"yref\": \"paper\"}, {\"font\": {\"size\": 16}, \"showarrow\": false, \"text\": \"Training Recall\", \"x\": 0.89375, \"xanchor\": \"center\", \"xref\": \"paper\", \"y\": 1.0, \"yanchor\": \"bottom\", \"yref\": \"paper\"}, {\"font\": {\"size\": 16}, \"showarrow\": false, \"text\": \"Testing Accuracy\", \"x\": 0.10625, \"xanchor\": \"center\", \"xref\": \"paper\", \"y\": 0.375, \"yanchor\": \"bottom\", \"yref\": \"paper\"}, {\"font\": {\"size\": 16}, \"showarrow\": false, \"text\": \"Testing F-Score\", \"x\": 0.36875, \"xanchor\": \"center\", \"xref\": \"paper\", \"y\": 0.375, \"yanchor\": \"bottom\", \"yref\": \"paper\"}, {\"font\": {\"size\": 16}, \"showarrow\": false, \"text\": \"Testing Precision\", \"x\": 0.6312500000000001, \"xanchor\": \"center\", \"xref\": \"paper\", \"y\": 0.375, \"yanchor\": \"bottom\", \"yref\": \"paper\"}, {\"font\": {\"size\": 16}, \"showarrow\": false, \"text\": \"Testing Recall\", \"x\": 0.89375, \"xanchor\": \"center\", \"xref\": \"paper\", \"y\": 0.375, \"yanchor\": \"bottom\", \"yref\": \"paper\"}], \"xaxis\": {\"anchor\": \"y\", \"domain\": [0.0, 0.2125], \"type\": \"category\"}, \"yaxis\": {\"anchor\": \"x\", \"domain\": [0.625, 1.0]}, \"xaxis2\": {\"anchor\": \"y2\", \"domain\": [0.2625, 0.475], \"type\": \"category\"}, \"yaxis2\": {\"anchor\": \"x2\", \"domain\": [0.625, 1.0]}, \"xaxis3\": {\"anchor\": \"y3\", \"domain\": [0.525, 0.7375], \"type\": \"category\"}, \"yaxis3\": {\"anchor\": \"x3\", \"domain\": [0.625, 1.0]}, \"xaxis4\": {\"anchor\": \"y4\", \"domain\": [0.7875, 1.0], \"type\": \"category\"}, \"yaxis4\": {\"anchor\": \"x4\", \"domain\": [0.625, 1.0]}, \"xaxis5\": {\"anchor\": \"y5\", \"domain\": [0.0, 0.2125], \"type\": \"category\"}, \"yaxis5\": {\"anchor\": \"x5\", \"domain\": [0.0, 0.375]}, \"xaxis6\": {\"anchor\": \"y6\", \"domain\": [0.2625, 0.475], \"type\": \"category\"}, \"yaxis6\": {\"anchor\": \"x6\", \"domain\": [0.0, 0.375]}, \"xaxis7\": {\"anchor\": \"y7\", \"domain\": [0.525, 0.7375], \"type\": \"category\"}, \"yaxis7\": {\"anchor\": \"x7\", \"domain\": [0.0, 0.375]}, \"xaxis8\": {\"anchor\": \"y8\", \"domain\": [0.7875, 1.0], \"type\": \"category\"}, \"yaxis8\": {\"anchor\": \"x8\", \"domain\": [0.0, 0.375]}}, {\"showLink\": true, \"linkText\": \"Export to plot.ly\", \"plotlyServerURL\": \"https://plot.ly\"})});</script><script type=\"text/javascript\">window.addEventListener(\"resize\", function(){window._Plotly.Plots.resize(document.getElementById(\"2a7d7962-417e-412f-9103-c9ead2d7295c\"));});</script>"
      ],
      "text/vnd.plotly.v1+html": [
       "<div id=\"2a7d7962-417e-412f-9103-c9ead2d7295c\" style=\"height: 525px; width: 100%;\" class=\"plotly-graph-div\"></div><script type=\"text/javascript\">require([\"plotly\"], function(Plotly) { window.PLOTLYENV=window.PLOTLYENV || {};window.PLOTLYENV.BASE_URL=\"https://plot.ly\";Plotly.newPlot(\"2a7d7962-417e-412f-9103-c9ead2d7295c\", [{\"legendgroup\": \"AdaBoostClassifier\", \"marker\": {\"color\": \"#1f77b4\"}, \"name\": \"AdaBoostClassifier\", \"showlegend\": true, \"x\": [\"2%\", \"20%\", \"100%\"], \"y\": [0.641, 0.609, 0.595], \"type\": \"bar\", \"uid\": \"c58f5439-6127-4dc3-97a3-864f6f3dfe76\", \"xaxis\": \"x\", \"yaxis\": \"y\"}, {\"legendgroup\": \"GradientBoostingClassifier\", \"marker\": {\"color\": \"#ff7f0e\"}, \"name\": \"GradientBoostingClassifier\", \"showlegend\": true, \"x\": [\"2%\", \"20%\", \"100%\"], \"y\": [0.763, 0.648, 0.618], \"type\": \"bar\", \"uid\": \"cefe9efb-5876-4fbe-a206-2c436d352007\", \"xaxis\": \"x\", \"yaxis\": \"y\"}, {\"legendgroup\": \"RandomForestClassifier\", \"marker\": {\"color\": \"#2ca02c\"}, \"name\": \"RandomForestClassifier\", \"showlegend\": true, \"x\": [\"2%\", \"20%\", \"100%\"], \"y\": [0.867, 0.959, 0.925], \"type\": \"bar\", \"uid\": \"2ad29b2b-c4c6-4d23-89f3-438e32dc929f\", \"xaxis\": \"x\", \"yaxis\": \"y\"}, {\"legendgroup\": \"DecisionTreeClassifier\", \"marker\": {\"color\": \"#d62728\"}, \"name\": \"DecisionTreeClassifier\", \"showlegend\": true, \"x\": [\"2%\", \"20%\", \"100%\"], \"y\": [0.908, 0.988, 0.949], \"type\": \"bar\", \"uid\": \"8af1afd8-f851-40ac-b451-3ed7faf316af\", \"xaxis\": \"x\", \"yaxis\": \"y\"}, {\"legendgroup\": \"AdaBoostClassifier\", \"marker\": {\"color\": \"#1f77b4\"}, \"name\": \"AdaBoostClassifier\", \"showlegend\": false, \"x\": [\"2%\", \"20%\", \"100%\"], \"y\": [0.5945417637771596, 0.6154424479362454, 0.6238628674535749], \"type\": \"bar\", \"uid\": \"82d0fb67-b8a4-4e6d-bfc2-95ad870819ae\", \"xaxis\": \"x5\", \"yaxis\": \"y5\"}, {\"legendgroup\": \"GradientBoostingClassifier\", \"marker\": {\"color\": \"#ff7f0e\"}, \"name\": \"GradientBoostingClassifier\", \"showlegend\": false, \"x\": [\"2%\", \"20%\", \"100%\"], \"y\": [0.5886023607247576, 0.6115329674460567, 0.6234117735508609], \"type\": \"bar\", \"uid\": \"7aceadf5-5974-4d36-90cd-edb1b039e11c\", \"xaxis\": \"x5\", \"yaxis\": \"y5\"}, {\"legendgroup\": \"RandomForestClassifier\", \"marker\": {\"color\": \"#2ca02c\"}, \"name\": \"RandomForestClassifier\", \"showlegend\": false, \"x\": [\"2%\", \"20%\", \"100%\"], \"y\": [0.5648447485151492, 0.56401774302684, 0.5595068039996993], \"type\": \"bar\", \"uid\": \"d3e89a07-af03-4248-b64a-93c3cdd4ab3c\", \"xaxis\": \"x5\", \"yaxis\": \"y5\"}, {\"legendgroup\": \"DecisionTreeClassifier\", \"marker\": {\"color\": \"#d62728\"}, \"name\": \"DecisionTreeClassifier\", \"showlegend\": false, \"x\": [\"2%\", \"20%\", \"100%\"], \"y\": [0.5385309375234945, 0.5349221863017818, 0.5392075783775656], \"type\": \"bar\", \"uid\": \"dd29726e-2bb5-4525-98db-500caa6046c0\", \"xaxis\": \"x5\", \"yaxis\": \"y5\"}, {\"legendgroup\": \"AdaBoostClassifier\", \"marker\": {\"color\": \"#1f77b4\"}, \"name\": \"AdaBoostClassifier\", \"showlegend\": false, \"x\": [\"2%\", \"20%\", \"100%\"], \"y\": [0.5523627075351213, 0.5122235157159487, 0.5026737967914439], \"type\": \"bar\", \"uid\": \"911eaf39-26fb-4cd2-a3e1-4b114f09cbe2\", \"xaxis\": \"x2\", \"yaxis\": \"y2\"}, {\"legendgroup\": \"GradientBoostingClassifier\", \"marker\": {\"color\": \"#ff7f0e\"}, \"name\": \"GradientBoostingClassifier\", \"showlegend\": false, \"x\": [\"2%\", \"20%\", \"100%\"], \"y\": [0.7429099876695439, 0.5649188514357054, 0.5260115606936416], \"type\": \"bar\", \"uid\": \"180fef57-6989-4218-9f4d-ddbab92b9541\", \"xaxis\": \"x2\", \"yaxis\": \"y2\"}, {\"legendgroup\": \"RandomForestClassifier\", \"marker\": {\"color\": \"#2ca02c\"}, \"name\": \"RandomForestClassifier\", \"showlegend\": false, \"x\": [\"2%\", \"20%\", \"100%\"], \"y\": [0.8694474539544962, 0.9592737978410205, 0.9187192118226601], \"type\": \"bar\", \"uid\": \"c934bdc2-e537-49dc-90da-46a2674f81fb\", \"xaxis\": \"x2\", \"yaxis\": \"y2\"}, {\"legendgroup\": \"DecisionTreeClassifier\", \"marker\": {\"color\": \"#d62728\"}, \"name\": \"DecisionTreeClassifier\", \"showlegend\": false, \"x\": [\"2%\", \"20%\", \"100%\"], \"y\": [0.9015984015984015, 0.9941234084231144, 0.9700315457413251], \"type\": \"bar\", \"uid\": \"d30d570a-d6ad-48a0-a43a-8f49617aeaa2\", \"xaxis\": \"x2\", \"yaxis\": \"y2\"}, {\"legendgroup\": \"AdaBoostClassifier\", \"marker\": {\"color\": \"#1f77b4\"}, \"name\": \"AdaBoostClassifier\", \"showlegend\": false, \"x\": [\"2%\", \"20%\", \"100%\"], \"y\": [0.5044035228182546, 0.5435778815519574, 0.5598685561716985], \"type\": \"bar\", \"uid\": \"dc6cc365-03cd-4176-873e-2da130cfc5c6\", \"xaxis\": \"x6\", \"yaxis\": \"y6\"}, {\"legendgroup\": \"GradientBoostingClassifier\", \"marker\": {\"color\": \"#ff7f0e\"}, \"name\": \"GradientBoostingClassifier\", \"showlegend\": false, \"x\": [\"2%\", \"20%\", \"100%\"], \"y\": [0.4905163586718026, 0.5325457493629836, 0.5557957542479138], \"type\": \"bar\", \"uid\": \"9a83140f-cafc-45db-bd95-7a07590e40c9\", \"xaxis\": \"x6\", \"yaxis\": \"y6\"}, {\"legendgroup\": \"RandomForestClassifier\", \"marker\": {\"color\": \"#2ca02c\"}, \"name\": \"RandomForestClassifier\", \"showlegend\": false, \"x\": [\"2%\", \"20%\", \"100%\"], \"y\": [0.4533359136871644, 0.4760714731975509, 0.4806462861792398], \"type\": \"bar\", \"uid\": \"b3d6ae22-9505-4691-ab63-2389d1f5a168\", \"xaxis\": \"x6\", \"yaxis\": \"y6\"}, {\"legendgroup\": \"DecisionTreeClassifier\", \"marker\": {\"color\": \"#d62728\"}, \"name\": \"DecisionTreeClassifier\", \"showlegend\": false, \"x\": [\"2%\", \"20%\", \"100%\"], \"y\": [0.4579446311893341, 0.4672361704344202, 0.4694404185372406], \"type\": \"bar\", \"uid\": \"a0de5f4f-1558-48cf-807e-b86ecaa6ea5e\", \"xaxis\": \"x6\", \"yaxis\": \"y6\"}, {\"legendgroup\": \"AdaBoostClassifier\", \"marker\": {\"color\": \"#1f77b4\"}, \"name\": \"AdaBoostClassifier\", \"showlegend\": false, \"x\": [\"2%\", \"20%\", \"100%\"], \"y\": [0.6027874564459931, 0.5415384615384615, 0.5179063360881543], \"type\": \"bar\", \"uid\": \"2ab4e3cf-f1ee-4eb0-91e9-a5016ce68d1a\", \"xaxis\": \"x3\", \"yaxis\": \"y3\"}, {\"legendgroup\": \"GradientBoostingClassifier\", \"marker\": {\"color\": \"#ff7f0e\"}, \"name\": \"GradientBoostingClassifier\", \"showlegend\": false, \"x\": [\"2%\", \"20%\", \"100%\"], \"y\": [0.8006644518272426, 0.6114864864864865, 0.5548780487804879], \"type\": \"bar\", \"uid\": \"6d3ccaa7-2f69-4e85-9496-d08945565f0b\", \"xaxis\": \"x3\", \"yaxis\": \"y3\"}, {\"legendgroup\": \"RandomForestClassifier\", \"marker\": {\"color\": \"#2ca02c\"}, \"name\": \"RandomForestClassifier\", \"showlegend\": false, \"x\": [\"2%\", \"20%\", \"100%\"], \"y\": [0.8991596638655462, 0.9654320987654321, 0.9255583126550868], \"type\": \"bar\", \"uid\": \"384c72bd-1174-4ff5-83d4-efcbcc3582f8\", \"xaxis\": \"x3\", \"yaxis\": \"y3\"}, {\"legendgroup\": \"DecisionTreeClassifier\", \"marker\": {\"color\": \"#d62728\"}, \"name\": \"DecisionTreeClassifier\", \"showlegend\": false, \"x\": [\"2%\", \"20%\", \"100%\"], \"y\": [0.9116161616161617, 1.0, 0.9946091644204852], \"type\": \"bar\", \"uid\": \"6cab260e-d68e-4783-a1be-77c0622fbfd5\", \"xaxis\": \"x3\", \"yaxis\": \"y3\"}, {\"legendgroup\": \"AdaBoostClassifier\", \"marker\": {\"color\": \"#1f77b4\"}, \"name\": \"AdaBoostClassifier\", \"showlegend\": false, \"x\": [\"2%\", \"20%\", \"100%\"], \"y\": [0.5560747663551402, 0.5830992509363296, 0.588768898488121], \"type\": \"bar\", \"uid\": \"e43d2254-dada-42a4-abd9-bd652d79c4c9\", \"xaxis\": \"x7\", \"yaxis\": \"y7\"}, {\"legendgroup\": \"GradientBoostingClassifier\", \"marker\": {\"color\": \"#ff7f0e\"}, \"name\": \"GradientBoostingClassifier\", \"showlegend\": false, \"x\": [\"2%\", \"20%\", \"100%\"], \"y\": [0.5480795423590302, 0.583502538071066, 0.5943134535367545], \"type\": \"bar\", \"uid\": \"07881755-02c9-4f8f-80d9-caa73da55930\", \"xaxis\": \"x7\", \"yaxis\": \"y7\"}, {\"legendgroup\": \"RandomForestClassifier\", \"marker\": {\"color\": \"#2ca02c\"}, \"name\": \"RandomForestClassifier\", \"showlegend\": false, \"x\": [\"2%\", \"20%\", \"100%\"], \"y\": [0.5049851791969819, 0.5028596568411791, 0.4965972778222578], \"type\": \"bar\", \"uid\": \"89837616-e631-440e-b0ee-8f84f7887a09\", \"xaxis\": \"x7\", \"yaxis\": \"y7\"}, {\"legendgroup\": \"DecisionTreeClassifier\", \"marker\": {\"color\": \"#d62728\"}, \"name\": \"DecisionTreeClassifier\", \"showlegend\": false, \"x\": [\"2%\", \"20%\", \"100%\"], \"y\": [0.4696881657950804, 0.4685704335713042, 0.47293447293447294], \"type\": \"bar\", \"uid\": \"a07dcc81-1220-4737-a15b-bea306fa4705\", \"xaxis\": \"x7\", \"yaxis\": \"y7\"}, {\"legendgroup\": \"AdaBoostClassifier\", \"marker\": {\"color\": \"#1f77b4\"}, \"name\": \"AdaBoostClassifier\", \"showlegend\": false, \"x\": [\"2%\", \"20%\", \"100%\"], \"y\": [0.4138755980861244, 0.42105263157894735, 0.44976076555023925], \"type\": \"bar\", \"uid\": \"64ee02f8-c8a8-4352-a83b-b37d37b98066\", \"xaxis\": \"x4\", \"yaxis\": \"y4\"}, {\"legendgroup\": \"GradientBoostingClassifier\", \"marker\": {\"color\": \"#ff7f0e\"}, \"name\": \"GradientBoostingClassifier\", \"showlegend\": false, \"x\": [\"2%\", \"20%\", \"100%\"], \"y\": [0.5765550239234449, 0.43301435406698563, 0.4354066985645933], \"type\": \"bar\", \"uid\": \"7fadf3aa-2c9f-4763-a186-1a53c2331393\", \"xaxis\": \"x4\", \"yaxis\": \"y4\"}, {\"legendgroup\": \"RandomForestClassifier\", \"marker\": {\"color\": \"#2ca02c\"}, \"name\": \"RandomForestClassifier\", \"showlegend\": false, \"x\": [\"2%\", \"20%\", \"100%\"], \"y\": [0.7679425837320574, 0.9354066985645934, 0.8923444976076556], \"type\": \"bar\", \"uid\": \"7e36e395-6354-46da-97de-d81c4fca51d1\", \"xaxis\": \"x4\", \"yaxis\": \"y4\"}, {\"legendgroup\": \"DecisionTreeClassifier\", \"marker\": {\"color\": \"#d62728\"}, \"name\": \"DecisionTreeClassifier\", \"showlegend\": false, \"x\": [\"2%\", \"20%\", \"100%\"], \"y\": [0.8636363636363636, 0.9712918660287081, 0.8827751196172249], \"type\": \"bar\", \"uid\": \"a0e3c11d-a5a4-4bed-aa8e-8f6165f41815\", \"xaxis\": \"x4\", \"yaxis\": \"y4\"}, {\"legendgroup\": \"AdaBoostClassifier\", \"marker\": {\"color\": \"#1f77b4\"}, \"name\": \"AdaBoostClassifier\", \"showlegend\": false, \"x\": [\"2%\", \"20%\", \"100%\"], \"y\": [0.367725321888412, 0.42763948497854076, 0.46798283261802576], \"type\": \"bar\", \"uid\": \"17dae436-0960-487b-a860-8bcfbaaf1ba5\", \"xaxis\": \"x8\", \"yaxis\": \"y8\"}, {\"legendgroup\": \"GradientBoostingClassifier\", \"marker\": {\"color\": \"#ff7f0e\"}, \"name\": \"GradientBoostingClassifier\", \"showlegend\": false, \"x\": [\"2%\", \"20%\", \"100%\"], \"y\": [0.3454077253218884, 0.3946781115879828, 0.4413733905579399], \"type\": \"bar\", \"uid\": \"0c2ed44b-c8dc-4aee-bf65-2edf5cc7a06c\", \"xaxis\": \"x8\", \"yaxis\": \"y8\"}, {\"legendgroup\": \"RandomForestClassifier\", \"marker\": {\"color\": \"#2ca02c\"}, \"name\": \"RandomForestClassifier\", \"showlegend\": false, \"x\": [\"2%\", \"20%\", \"100%\"], \"y\": [0.3217167381974249, 0.3924463519313305, 0.42592274678111586], \"type\": \"bar\", \"uid\": \"5593cb4d-ba7f-4008-92da-37eb16792b91\", \"xaxis\": \"x8\", \"yaxis\": \"y8\"}, {\"legendgroup\": \"DecisionTreeClassifier\", \"marker\": {\"color\": \"#d62728\"}, \"name\": \"DecisionTreeClassifier\", \"showlegend\": false, \"x\": [\"2%\", \"20%\", \"100%\"], \"y\": [0.41630901287553645, 0.46197424892703864, 0.4559656652360515], \"type\": \"bar\", \"uid\": \"25a62d18-6d97-4b11-9fcb-e5cd4673b69a\", \"xaxis\": \"x8\", \"yaxis\": \"y8\"}], {\"annotations\": [{\"font\": {\"size\": 16}, \"showarrow\": false, \"text\": \"Training Accuracy\", \"x\": 0.10625, \"xanchor\": \"center\", \"xref\": \"paper\", \"y\": 1.0, \"yanchor\": \"bottom\", \"yref\": \"paper\"}, {\"font\": {\"size\": 16}, \"showarrow\": false, \"text\": \"Training F-Score\", \"x\": 0.36875, \"xanchor\": \"center\", \"xref\": \"paper\", \"y\": 1.0, \"yanchor\": \"bottom\", \"yref\": \"paper\"}, {\"font\": {\"size\": 16}, \"showarrow\": false, \"text\": \"Training Precision\", \"x\": 0.6312500000000001, \"xanchor\": \"center\", \"xref\": \"paper\", \"y\": 1.0, \"yanchor\": \"bottom\", \"yref\": \"paper\"}, {\"font\": {\"size\": 16}, \"showarrow\": false, \"text\": \"Training Recall\", \"x\": 0.89375, \"xanchor\": \"center\", \"xref\": \"paper\", \"y\": 1.0, \"yanchor\": \"bottom\", \"yref\": \"paper\"}, {\"font\": {\"size\": 16}, \"showarrow\": false, \"text\": \"Testing Accuracy\", \"x\": 0.10625, \"xanchor\": \"center\", \"xref\": \"paper\", \"y\": 0.375, \"yanchor\": \"bottom\", \"yref\": \"paper\"}, {\"font\": {\"size\": 16}, \"showarrow\": false, \"text\": \"Testing F-Score\", \"x\": 0.36875, \"xanchor\": \"center\", \"xref\": \"paper\", \"y\": 0.375, \"yanchor\": \"bottom\", \"yref\": \"paper\"}, {\"font\": {\"size\": 16}, \"showarrow\": false, \"text\": \"Testing Precision\", \"x\": 0.6312500000000001, \"xanchor\": \"center\", \"xref\": \"paper\", \"y\": 0.375, \"yanchor\": \"bottom\", \"yref\": \"paper\"}, {\"font\": {\"size\": 16}, \"showarrow\": false, \"text\": \"Testing Recall\", \"x\": 0.89375, \"xanchor\": \"center\", \"xref\": \"paper\", \"y\": 0.375, \"yanchor\": \"bottom\", \"yref\": \"paper\"}], \"xaxis\": {\"anchor\": \"y\", \"domain\": [0.0, 0.2125], \"type\": \"category\"}, \"yaxis\": {\"anchor\": \"x\", \"domain\": [0.625, 1.0]}, \"xaxis2\": {\"anchor\": \"y2\", \"domain\": [0.2625, 0.475], \"type\": \"category\"}, \"yaxis2\": {\"anchor\": \"x2\", \"domain\": [0.625, 1.0]}, \"xaxis3\": {\"anchor\": \"y3\", \"domain\": [0.525, 0.7375], \"type\": \"category\"}, \"yaxis3\": {\"anchor\": \"x3\", \"domain\": [0.625, 1.0]}, \"xaxis4\": {\"anchor\": \"y4\", \"domain\": [0.7875, 1.0], \"type\": \"category\"}, \"yaxis4\": {\"anchor\": \"x4\", \"domain\": [0.625, 1.0]}, \"xaxis5\": {\"anchor\": \"y5\", \"domain\": [0.0, 0.2125], \"type\": \"category\"}, \"yaxis5\": {\"anchor\": \"x5\", \"domain\": [0.0, 0.375]}, \"xaxis6\": {\"anchor\": \"y6\", \"domain\": [0.2625, 0.475], \"type\": \"category\"}, \"yaxis6\": {\"anchor\": \"x6\", \"domain\": [0.0, 0.375]}, \"xaxis7\": {\"anchor\": \"y7\", \"domain\": [0.525, 0.7375], \"type\": \"category\"}, \"yaxis7\": {\"anchor\": \"x7\", \"domain\": [0.0, 0.375]}, \"xaxis8\": {\"anchor\": \"y8\", \"domain\": [0.7875, 1.0], \"type\": \"category\"}, \"yaxis8\": {\"anchor\": \"x8\", \"domain\": [0.0, 0.375]}}, {\"showLink\": true, \"linkText\": \"Export to plot.ly\", \"plotlyServerURL\": \"https://plot.ly\"})});</script><script type=\"text/javascript\">window.addEventListener(\"resize\", function(){window._Plotly.Plots.resize(document.getElementById(\"2a7d7962-417e-412f-9103-c9ead2d7295c\"));});</script>"
      ]
     },
     "metadata": {},
     "output_type": "display_data"
    }
   ],
   "source": [
    "fig = make_subplots(rows=2, cols=4, subplot_titles=('Training Accuracy', 'Training F-Score', 'Training Precision', 'Training Recall',\n",
    "                                                    'Testing Accuracy', 'Testing F-Score', 'Testing Precision', 'Testing Recall'))\n",
    "trace_dict = {}\n",
    "title_dict = {}\n",
    "for i, metric in enumerate(['acc', 'f', 'prec', 'rec']):\n",
    "    for j, tt in enumerate(['train', 'test']):\n",
    "        trace_dict[(j+1, i+1)] = []\n",
    "        for (clf_name, results_by_size), color in zip(results.items(), ['#1f77b4', '#ff7f0e', '#2ca02c', '#d62728']):\n",
    "            trace = go.Bar(name=clf_name, x=['2%', '20%', '100%'], y=[results_by_size[s][f'{tt}_{metric}'] for s in sizes],\n",
    "                          legendgroup=clf_name, showlegend=(i==0 and j==0), marker={'color':color})\n",
    "            trace_dict[(j+1, i+1)].append(trace)\n",
    "        title_dict[(j+1, i+1)] = f'{tt}_{metric}'\n",
    "for (r, c), traces in trace_dict.items():\n",
    "    for trace in traces:\n",
    "        fig.append_trace(trace, row=r, col=c)\n",
    "    #title = title_dict[(r,c)]\n",
    "    if r==1 and c==1:\n",
    "        fig.update({'layout':{'xaxis':{'type':'category'}}})\n",
    "    else:\n",
    "        fig.update({'layout':{f'xaxis{(r-1)*4 + c}':{'type':'category'}}})\n",
    "iplot(fig)"
   ]
  },
  {
   "cell_type": "code",
   "execution_count": null,
   "metadata": {
    "collapsed": true
   },
   "outputs": [],
   "source": []
  }
 ],
 "metadata": {
  "kernelspec": {
   "display_name": "Python [conda env:pt36]",
   "language": "python",
   "name": "conda-env-pt36-py"
  },
  "language_info": {
   "codemirror_mode": {
    "name": "ipython",
    "version": 3
   },
   "file_extension": ".py",
   "mimetype": "text/x-python",
   "name": "python",
   "nbconvert_exporter": "python",
   "pygments_lexer": "ipython3",
   "version": "3.6.8"
  }
 },
 "nbformat": 4,
 "nbformat_minor": 2
}
